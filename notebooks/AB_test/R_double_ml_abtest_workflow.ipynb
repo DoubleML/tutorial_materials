{
 "cells": [
  {
   "cell_type": "markdown",
   "id": "consecutive-cabinet",
   "metadata": {},
   "source": [
    "# R: A/B Testing with DoubleML"
   ]
  },
  {
   "cell_type": "markdown",
   "id": "opponent-indonesian",
   "metadata": {},
   "source": [
    "<img src=\"figures/ab_testing.png\" alt=\"An illustration of AB testing. A stylized browser window shows a double-headed rhino which is a variant of the DoubleML package logo. The screen is divided vertically in two parts. The left part of the screen has the tag 'A' and differs from the right part called 'B' in that the colors are inverted.\" style=\"width: 400px;\"/>"
   ]
  },
  {
   "cell_type": "markdown",
   "id": "c7c96f88",
   "metadata": {},
   "source": [
    "In this notebook, we demontrate exemplarily how the [DoubleML](https://docs.doubleml.org/stable/index.html) package can be used to estimate the causal effect of seeing a new ad design on customers' purchases in a webshop. We base the estimation steps of our analysis according to the [DoubleML workflow](https://docs.doubleml.org/stable/workflow/workflow.html).\n",
    "\n",
    "\n",
    "## 0. Problem Formulation: A/B Testing\n",
    "\n",
    "\n",
    "### The A/B Testing Scenario\n",
    "\n",
    "Let's consider the following stylized scenario. The manager of a webshop performs an A/B test to estimate the effect a new ad design $A$ has on customers' purchases (in $100\\$$), $Y$, on average. This effect is called the **A**verage **T**reatment **E**ffect (**ATE**). The treatment is assigned randomly conditional on the visitors' characteristics, which we call $V$. Such characteristics could be collected from a customer's shoppers account, for example. These might include the number of previous purchases, time since the last purchase, length of stay on a page as well as whether a customer has a rewards card, among other characteristics. <br> \n",
    "\n",
    "In the following, we use a **D**irected **A**cyclical **G**raph (DAG) to illustrate our assumptions on the causal structure of the scenario. As not only the outcome, but also the treatment is dependent on the individual characteristics, there are arrows going from $V$ to both $A$ and $Y$. In our example, we also assume that the treatment $A$ is a direct cause of the customers' purchases $Y$.\n",
    "\n",
    "\n",
    "![Scenario illustration with a DAG](figures/DAG.svg)\n",
    "\n"
   ]
  },
  {
   "cell_type": "markdown",
   "id": "220997c6",
   "metadata": {},
   "source": [
    "Let's assume the conditional randomization has been conducted properly, such that a tidy data set has been collected. Now, a data scientist wants to evaluate whether the new ad design causally affected the sales, by using the [DoubleML](https://docs.doubleml.org/stable/index.html) package.\n",
    "\n",
    "### Why control for individual characteristics?\n",
    "\n",
    "Before we start the case study, let us briefly address the question why we need to include individual characteristics in our analysis at all. There are mainly two reasons why we want to control for observable characteristics. First, so-called confounders, i.e., variables that have a causal effect on both the treatment variable and the outcome variable, possibly create a bias in our estimate. In order to uncover the true causal effect of the treatment, it is necessary that our causal framework takes all confounding variables into account. Otherwise, the average causal effect of the treatment on the outcome is not identified. A second reason to include individual characteristics is efficiency. The more variation can be explained within our causal framework, the more precise will be the resulting estimate. In practical terms, greater efficiency leads to tighter confidence intervals and smaller standard errors and p-values. This might help to improve the power of A/B tests even if the treatment variable is unconditionally assigned to individuals.\n",
    "\n",
    "### Why use machine learning to analyze A/B tests?\n",
    "\n",
    "ML methods have turned out to be very flexible in terms of modeling complex relationships of explanatory variables and dependent variables and, thus, have exhibited a great predictive performance in many applications. In the double machine learning approach ([Chernozhukov et al. (2018)](https://arxiv.org/abs/1608.00060)), ML methods are used for modelling so-called nuisance functions. In terms of the A/B case study considered here, ML tools can be used to flexibly control for confounding variables. For example, a linear parametric specification as in a standard linear regression model might not be correct and, hence, not sufficient to account for the underlying confounding. Moreover, by using powerful ML techniques, the causal model will likely be able to explain a greater share of the total variation and, hence, lead to more precise estimation."
   ]
  },
  {
   "cell_type": "markdown",
   "id": "0ec5b0cf",
   "metadata": {},
   "source": [
    "## 1. Data-Backend\n",
    "\n",
    "### The data set\n",
    "\n",
    "As an illustrative example we use a data set from the [ACIC 2019 Data Challenge](https://sites.google.com/view/acic2019datachallenge/data-challenge). In this challenge, a great number of data sets have been generated in a way that they mimic distributional relationships that are found in many economic real data applications. Although the data have not been generated explicitly to address an A/B testing case study, they are well-suited for demonstration purposes. We will focus on one of the many different data genereting processes (DGP) that we picked at random, in this particualar case a data set called `high42`. An advantage of using the synthetic [ACIC 2019 data](https://sites.google.com/view/acic2019datachallenge/data-challenge) is that we know the true average treatment effect which is 0.8 in our data set.\n"
   ]
  },
  {
   "cell_type": "code",
   "execution_count": 1,
   "id": "afaf4106",
   "metadata": {},
   "outputs": [
    {
     "name": "stderr",
     "output_type": "stream",
     "text": [
      "Warning message:\n",
      "\"package 'mlr3' was built under R version 4.0.5\"\n",
      "Warning message:\n",
      "\"package 'data.table' was built under R version 4.0.5\"\n"
     ]
    }
   ],
   "source": [
    "# Load required packages for this tutorial\n",
    "library(DoubleML)\n",
    "library(mlr3)\n",
    "library(mlr3learners)\n",
    "library(data.table)\n",
    "library(ggplot2)\n",
    "\n",
    "# suppress messages during fitting\n",
    "lgr::get_logger(\"mlr3\")$set_threshold(\"warn\")"
   ]
  },
  {
   "cell_type": "markdown",
   "id": "556f4d3c",
   "metadata": {},
   "source": [
    "First we load the data."
   ]
  },
  {
   "cell_type": "code",
   "execution_count": 2,
   "id": "e39d4dd0",
   "metadata": {},
   "outputs": [],
   "source": [
    "# Load data set from url (internet connection required)\n",
    "url = \"https://raw.githubusercontent.com/DoubleML/doubleml-docs/master/doc/examples/data/high42.CSV\"\n",
    "df = fread(url)"
   ]
  },
  {
   "cell_type": "code",
   "execution_count": 3,
   "id": "16496210",
   "metadata": {},
   "outputs": [
    {
     "data": {
      "text/html": [
       "<style>\n",
       ".list-inline {list-style: none; margin:0; padding: 0}\n",
       ".list-inline>li {display: inline-block}\n",
       ".list-inline>li:not(:last-child)::after {content: \"\\00b7\"; padding: 0 .5ex}\n",
       "</style>\n",
       "<ol class=list-inline><li>1000</li><li>202</li></ol>\n"
      ],
      "text/latex": [
       "\\begin{enumerate*}\n",
       "\\item 1000\n",
       "\\item 202\n",
       "\\end{enumerate*}\n"
      ],
      "text/markdown": [
       "1. 1000\n",
       "2. 202\n",
       "\n",
       "\n"
      ],
      "text/plain": [
       "[1] 1000  202"
      ]
     },
     "metadata": {},
     "output_type": "display_data"
    }
   ],
   "source": [
    "dim(df)"
   ]
  },
  {
   "cell_type": "code",
   "execution_count": 4,
   "id": "6760c009",
   "metadata": {
    "tags": []
   },
   "outputs": [
    {
     "data": {
      "text/html": [
       "<table class=\"dataframe\">\n",
       "<caption>A data.table: 6 × 10</caption>\n",
       "<thead>\n",
       "\t<tr><th scope=col>Y</th><th scope=col>A</th><th scope=col>V1</th><th scope=col>V2</th><th scope=col>V3</th><th scope=col>V4</th><th scope=col>V5</th><th scope=col>V6</th><th scope=col>V7</th><th scope=col>V8</th></tr>\n",
       "\t<tr><th scope=col>&lt;dbl&gt;</th><th scope=col>&lt;int&gt;</th><th scope=col>&lt;int&gt;</th><th scope=col>&lt;int&gt;</th><th scope=col>&lt;int&gt;</th><th scope=col>&lt;int&gt;</th><th scope=col>&lt;dbl&gt;</th><th scope=col>&lt;dbl&gt;</th><th scope=col>&lt;int&gt;</th><th scope=col>&lt;dbl&gt;</th></tr>\n",
       "</thead>\n",
       "<tbody>\n",
       "\t<tr><td>7.358185</td><td>1</td><td>10</td><td>0</td><td>0</td><td>7</td><td>192.7938</td><td>23.67695</td><td>8</td><td>0.18544294</td></tr>\n",
       "\t<tr><td>8.333672</td><td>1</td><td>12</td><td>0</td><td>1</td><td>4</td><td>199.6536</td><td>19.28127</td><td>7</td><td>0.51484172</td></tr>\n",
       "\t<tr><td>7.472758</td><td>0</td><td>14</td><td>1</td><td>1</td><td>2</td><td>194.2078</td><td>24.58933</td><td>5</td><td>0.30919878</td></tr>\n",
       "\t<tr><td>6.502319</td><td>1</td><td> 0</td><td>1</td><td>0</td><td>9</td><td>201.8380</td><td>25.51392</td><td>4</td><td>0.16016010</td></tr>\n",
       "\t<tr><td>7.043758</td><td>1</td><td>12</td><td>0</td><td>0</td><td>9</td><td>201.3604</td><td>31.16064</td><td>6</td><td>0.29197555</td></tr>\n",
       "\t<tr><td>5.658337</td><td>0</td><td> 8</td><td>0</td><td>1</td><td>6</td><td>193.2195</td><td>20.46564</td><td>9</td><td>0.05673076</td></tr>\n",
       "</tbody>\n",
       "</table>\n"
      ],
      "text/latex": [
       "A data.table: 6 × 10\n",
       "\\begin{tabular}{llllllllll}\n",
       " Y & A & V1 & V2 & V3 & V4 & V5 & V6 & V7 & V8\\\\\n",
       " <dbl> & <int> & <int> & <int> & <int> & <int> & <dbl> & <dbl> & <int> & <dbl>\\\\\n",
       "\\hline\n",
       "\t 7.358185 & 1 & 10 & 0 & 0 & 7 & 192.7938 & 23.67695 & 8 & 0.18544294\\\\\n",
       "\t 8.333672 & 1 & 12 & 0 & 1 & 4 & 199.6536 & 19.28127 & 7 & 0.51484172\\\\\n",
       "\t 7.472758 & 0 & 14 & 1 & 1 & 2 & 194.2078 & 24.58933 & 5 & 0.30919878\\\\\n",
       "\t 6.502319 & 1 &  0 & 1 & 0 & 9 & 201.8380 & 25.51392 & 4 & 0.16016010\\\\\n",
       "\t 7.043758 & 1 & 12 & 0 & 0 & 9 & 201.3604 & 31.16064 & 6 & 0.29197555\\\\\n",
       "\t 5.658337 & 0 &  8 & 0 & 1 & 6 & 193.2195 & 20.46564 & 9 & 0.05673076\\\\\n",
       "\\end{tabular}\n"
      ],
      "text/markdown": [
       "\n",
       "A data.table: 6 × 10\n",
       "\n",
       "| Y &lt;dbl&gt; | A &lt;int&gt; | V1 &lt;int&gt; | V2 &lt;int&gt; | V3 &lt;int&gt; | V4 &lt;int&gt; | V5 &lt;dbl&gt; | V6 &lt;dbl&gt; | V7 &lt;int&gt; | V8 &lt;dbl&gt; |\n",
       "|---|---|---|---|---|---|---|---|---|---|\n",
       "| 7.358185 | 1 | 10 | 0 | 0 | 7 | 192.7938 | 23.67695 | 8 | 0.18544294 |\n",
       "| 8.333672 | 1 | 12 | 0 | 1 | 4 | 199.6536 | 19.28127 | 7 | 0.51484172 |\n",
       "| 7.472758 | 0 | 14 | 1 | 1 | 2 | 194.2078 | 24.58933 | 5 | 0.30919878 |\n",
       "| 6.502319 | 1 |  0 | 1 | 0 | 9 | 201.8380 | 25.51392 | 4 | 0.16016010 |\n",
       "| 7.043758 | 1 | 12 | 0 | 0 | 9 | 201.3604 | 31.16064 | 6 | 0.29197555 |\n",
       "| 5.658337 | 0 |  8 | 0 | 1 | 6 | 193.2195 | 20.46564 | 9 | 0.05673076 |\n",
       "\n"
      ],
      "text/plain": [
       "  Y        A V1 V2 V3 V4 V5       V6       V7 V8        \n",
       "1 7.358185 1 10 0  0  7  192.7938 23.67695 8  0.18544294\n",
       "2 8.333672 1 12 0  1  4  199.6536 19.28127 7  0.51484172\n",
       "3 7.472758 0 14 1  1  2  194.2078 24.58933 5  0.30919878\n",
       "4 6.502319 1  0 1  0  9  201.8380 25.51392 4  0.16016010\n",
       "5 7.043758 1 12 0  0  9  201.3604 31.16064 6  0.29197555\n",
       "6 5.658337 0  8 0  1  6  193.2195 20.46564 9  0.05673076"
      ]
     },
     "metadata": {},
     "output_type": "display_data"
    }
   ],
   "source": [
    "head(df[,1:10])"
   ]
  },
  {
   "cell_type": "markdown",
   "id": "11525056-cdec-4916-9cb4-aa4268e99175",
   "metadata": {},
   "source": [
    "We see that the data set consists of 1000 observations (= website visitors) and 202 variables:\n",
    "\n",
    "* `Y`: A customer's purchases (in $100\\$$)\n",
    "* `A`: Binary treatment variable with a value 1 indicating that a customer has been exposed to the new ad design (and value 0 otherwise).\n",
    "* `V1`,..., `V200`: The remaining 200 columns $V$ represent individual characteristics of the customers (=confounders)."
   ]
  },
  {
   "cell_type": "markdown",
   "id": "c8f6095f",
   "metadata": {},
   "source": [
    "To start our analysis, we initialize the data backend from the previously loaded data set, i.e., we create a new instance of a [DoubleMLData](https://docs.doubleml.org/stable/guide/data_backend.html) object. During initialization, we specify the roles of the variables in the data set, i.e., in our example the outcome variable $Y$ via the parameter `y_col`, the treatment variable $A$ via `d_cols` and the confounding variables $V$ via `x_cols`."
   ]
  },
  {
   "cell_type": "code",
   "execution_count": 5,
   "id": "abdd10b7",
   "metadata": {},
   "outputs": [],
   "source": [
    "# Specify explanatory variables for data-backend\n",
    "features_base = colnames(df)[grep(\"V\", colnames(df))]\n",
    "\n",
    "# TODO: Initialize DoubleMLData (data-backend of DoubleML)"
   ]
  },
  {
   "cell_type": "markdown",
   "id": "5800ca50-c293-4266-8dd7-00fadcea8d51",
   "metadata": {},
   "source": [
    "We can print the data-backend to see the variables, which we have assigned as outcome, treatment and controls."
   ]
  },
  {
   "cell_type": "code",
   "execution_count": 6,
   "id": "37b9bd8a",
   "metadata": {},
   "outputs": [],
   "source": [
    "# TODO: print data backend"
   ]
  },
  {
   "cell_type": "markdown",
   "id": "955c3084",
   "metadata": {},
   "source": [
    "## 2. Causal Model"
   ]
  },
  {
   "cell_type": "markdown",
   "id": "714346b8-90dd-4f15-b880-d71f4f60b04e",
   "metadata": {},
   "source": [
    "The inference problem is to determine the causal effect of seeing the new ad design $A$ on customers' purchases $Y$ once we control for individual characteristics $V$. In our example, we are interested in the average treatment effect. Basically, there are two causal models available in [DoubleML](https://docs.doubleml.org/stable/) that can be used to estimate the ATE.\n",
    "\n",
    "The so-called **interactive regression model** (IRM) called by [DoubleMLIRM](https://docs.doubleml.org/stable/guide/models.html#interactive-regression-model-irm) is a flexible (nonparametric) model to estimate this causal quantity. The model does not impose functional form restrictions on the underlying regression relationships, for example, linearity or additivity as in a standard linear regression model. This means that the model hosts heterogeneous treatment effects, i.e., account for variation in the effect of the new ad design across customers. Moreover, it is possible to also estimate other causal parameters with the IRM, for example, the average treatment effect on the treated (= those customers who have been exposed to the new ad), which might be of interest too."
   ]
  },
  {
   "cell_type": "markdown",
   "id": "9e798e44-8fc8-4c93-9cfb-2d3ad7486dc0",
   "metadata": {},
   "source": [
    "### 2.1. Interactive regression model (IRM)\n",
    "\n",
    "We briefly introduce the [interactive regression model](https://docs.doubleml.org/stable/guide/models.html#interactive-regression-model-irm) where the main regression relationship of interest is provided by\n",
    "\n",
    "$$Y = g_0(A, V) + U_1, \\quad E(U_1 | V, A) = 0,$$\n",
    "\n",
    "where the treatment variable is binary, $A \\in \\lbrace 0,1 \\rbrace$. We consider estimation of the average treatment effect (ATE):\n",
    "\n",
    "$$\\theta_0 = \\mathbb{E}[g_0(1, V) - g_0(0,V)],$$\n",
    "\n",
    "when treatment effects are heterogeneous. In order to be able to use ML methods, the estimation framework generally requires a property called \"double robustness\" or \"Neyman orthogonality\". In the IRM, double robustness can be achieved by including the first-stage estimation\n",
    "\n",
    "$$A = m_0(V) + U_2, \\quad E(U_2| V) = 0,$$\n",
    "\n",
    "which amounts to estimation of the propensity score, i.e., the probability that a customer is exposed to the treatment provided her observed characteristics. Both predictions are then combined in [the doubly robust score for the average treatment effect](https://docs.doubleml.org/stable/guide/scores.html#interactive-regression-model-irm) which is given by\n",
    "\n",
    "$$\\psi(W; \\theta, \\eta) := g(1,V) - g(0,V) + \\frac{A (Y - g(1,V))}{m(V)} - \\frac{(1 - A)(Y - g(0,V))}{1 - m(V)} - \\theta.$$"
   ]
  },
  {
   "cell_type": "markdown",
   "id": "8c2dc825",
   "metadata": {},
   "source": [
    "### 2.2. Naive Approach: Unconditional estimate of ATE"
   ]
  },
  {
   "cell_type": "markdown",
   "id": "8da84d00",
   "metadata": {},
   "source": [
    "As a naive estimate, we could calculate the unconditional average treatment effect. In other words, we simply take the difference between $Y$ observed for the customers who have been exposed to the treatment $(A=1)$ and those who haven't been exposed $(A=0)$."
   ]
  },
  {
   "cell_type": "markdown",
   "id": "b2bcca63",
   "metadata": {},
   "source": [
    "Since the unconditional ATE does not account for the confounding variables, it will generally not correspond to the true ATE (only in the case of unconditionally random treatment assignment, the unconditional ATE will correspond to the true ATE). For example, if the unconditional ATE estimate is greater than the actual ATE, the manager would erroneously overinterpret the effect of the new ad design and probably make misleading decisions for the marketing budget in the future."
   ]
  },
  {
   "cell_type": "code",
   "execution_count": 7,
   "id": "381e745d",
   "metadata": {},
   "outputs": [],
   "source": [
    "# TODO: Calculate unconditional average treatment effect"
   ]
  },
  {
   "cell_type": "code",
   "execution_count": null,
   "id": "48457fd4",
   "metadata": {},
   "outputs": [],
   "source": []
  },
  {
   "cell_type": "markdown",
   "id": "b8b8fe98",
   "metadata": {},
   "source": [
    "## 3. ML Methods"
   ]
  },
  {
   "cell_type": "markdown",
   "id": "3dd57b04",
   "metadata": {},
   "source": [
    "In this step, we define the learners that will be used for estimation of the nuisance functions later.  "
   ]
  },
  {
   "cell_type": "markdown",
   "id": "65407159",
   "metadata": {},
   "source": [
    "### 3.1. Benchmark using linear and logistic regression"
   ]
  },
  {
   "cell_type": "markdown",
   "id": "efbdc930",
   "metadata": {},
   "source": [
    "Let us first start with a benchmark model that is based on (unpenalized) linear and logistic regression. Hence, we estimate the functions $g_0(A,V)$ using a linear regression model and $m_0(V)$ by using an (unpenalized) logistic regression. In both cases, we include all available characteristics $V$. We will later compare the performance of this model to that using more advanced ML methods."
   ]
  },
  {
   "cell_type": "code",
   "execution_count": 8,
   "id": "3fd2a51b",
   "metadata": {},
   "outputs": [],
   "source": [
    "# TODO: Initialize Linear and Logistic Regression learners"
   ]
  },
  {
   "cell_type": "markdown",
   "id": "c23e8127",
   "metadata": {},
   "source": [
    "### 3.2. Instantiate one or several ML learners of your choice"
   ]
  },
  {
   "cell_type": "code",
   "execution_count": 9,
   "id": "23dfacdd",
   "metadata": {},
   "outputs": [],
   "source": [
    "# TODO: Initialize one ML learner of your choice"
   ]
  },
  {
   "cell_type": "code",
   "execution_count": 10,
   "id": "219bc153",
   "metadata": {},
   "outputs": [],
   "source": [
    "# TODO: Initialize a second ML learner of your choice\n",
    "#      (proceed as long as you like)"
   ]
  },
  {
   "cell_type": "markdown",
   "id": "a277feeb",
   "metadata": {},
   "source": [
    "## 4. DML Specifications"
   ]
  },
  {
   "cell_type": "markdown",
   "id": "9638bb80",
   "metadata": {},
   "source": [
    "At this stage, we instantiate a causal model object of the class [DoubleMLIRM](https://docs.doubleml.org/stable/guide/models.html#interactive-regression-model-irm). Provide the learners via parameters `ml_g` and `ml_m`. You can either stick with the default setting or change the parameters. The documentation for the [DoubleMLIRM](https://docs.doubleml.org/r/stable/reference/DoubleMLIRM.html) class is available [here](https://docs.doubleml.org/r/stable/reference/DoubleMLIRM.html). Also have a look at the documentation of the abstract base class [DoubleML](https://docs.doubleml.org/r/stable/reference/DoubleML.html)\n",
    "\n",
    "**Hint**: Use `set.seed()` to set a random seed prior to your initialization. This makes the sample splits of the different models comparable. Also try to use the same DML specifications in all models to attain some comparability."
   ]
  },
  {
   "cell_type": "markdown",
   "id": "eaa64ef7",
   "metadata": {},
   "source": [
    "### 4.1. Linear and logistic benchmark model"
   ]
  },
  {
   "cell_type": "code",
   "execution_count": 11,
   "id": "e6c28236",
   "metadata": {},
   "outputs": [],
   "source": [
    "# TODO: Initialize benchmark DoubleMLIRM model"
   ]
  },
  {
   "cell_type": "markdown",
   "id": "1367fed1",
   "metadata": {},
   "source": [
    "### 4.2. ML Model of your choice"
   ]
  },
  {
   "cell_type": "code",
   "execution_count": 12,
   "id": "69c7ba7a",
   "metadata": {},
   "outputs": [],
   "source": [
    "# TODO: Initialize a DoubleMLIRM model using the ML learners of your choice"
   ]
  },
  {
   "cell_type": "markdown",
   "id": "dbda1cbd",
   "metadata": {},
   "source": [
    "### 4.3. - 4.X. ML Model of your choice\n",
    "\n",
    "Proceed with the models using the other ML learners."
   ]
  },
  {
   "cell_type": "code",
   "execution_count": 13,
   "id": "73bcbfa4",
   "metadata": {},
   "outputs": [],
   "source": [
    "# TODO: Initialize a DoubleMLIRM model using the ML learners of your choice"
   ]
  },
  {
   "cell_type": "markdown",
   "id": "fd90491a",
   "metadata": {},
   "source": [
    "### 5. Estimation"
   ]
  },
  {
   "cell_type": "markdown",
   "id": "6392b0e4",
   "metadata": {},
   "source": [
    "### 5.1. Estimation for the Benchmark IRM"
   ]
  },
  {
   "cell_type": "code",
   "execution_count": 14,
   "id": "f7986485",
   "metadata": {},
   "outputs": [],
   "source": [
    "# TODO: Fit benchmark DoubleMLIRM model using the fit() method"
   ]
  },
  {
   "cell_type": "markdown",
   "id": "dde5b4ed",
   "metadata": {},
   "source": [
    "### 5.2. Estimation Diagnostics for the Benchmark IRM"
   ]
  },
  {
   "cell_type": "markdown",
   "id": "23b16d56",
   "metadata": {},
   "source": [
    "#### 5.2.1. Assess the Predictive Performance in the benchmark IRM"
   ]
  },
  {
   "cell_type": "markdown",
   "id": "9f448753",
   "metadata": {},
   "source": [
    "To evaluate the different models we can compare how well the employed estimators fit the nuisance functions $g_0(\\cdot)$ and $m_0(\\cdot)$. Use the following helper function to compare the predictive performance of your models."
   ]
  },
  {
   "cell_type": "code",
   "execution_count": 15,
   "id": "bbfb530c",
   "metadata": {},
   "outputs": [],
   "source": [
    "# A function to calculate prediction accuracy values for every repetition\n",
    "# of a Double Machine Learning model using IRM, DoubleMLIRM\n",
    "pred_acc_irm = function(obj, prop) {\n",
    "  # obj : DoubleML::DoubleMLIRM\n",
    "  # The IRM Double Machine Learning model\n",
    "  # prop : logical\n",
    "  # Indication if RMSE values have to be computed for main regression or\n",
    "  # log loss values for propensity score  \n",
    "  \n",
    "  if (obj$data$n_treat > 1) {\n",
    "    stop(\"Number of treatment variable is > 1. Helper function for nuisance accuracy is only implemented for 1 treatment variable.\")\n",
    "  }\n",
    "  h = obj$data$n_obs\n",
    "  w = obj$n_rep\n",
    "  \n",
    "  y = obj$data$data_model[[obj$data$y_col]]\n",
    "  d = obj$data$data_model[[obj$data$treat_col]]\n",
    "  g0 = matrix(obj$predictions[['ml_g0']][,,1], ncol = w)\n",
    "  g1 = matrix(obj$predictions[['ml_g1']][,,1], ncol = w)\n",
    "  m = matrix(obj$predictions[['ml_m']][,,1], ncol = w)\n",
    "  \n",
    "  if (!all(unique(d) %in% c(0,1))) {\n",
    "    stop(\"Treatment must be a binary variable.\")\n",
    "  }\n",
    "\n",
    "  if (!prop) {\n",
    "    export_pred = d*g1 + (1-d) * g0\n",
    "    # Calculate MSE for every repetition\n",
    "    pred_acc = apply(export_pred, 2,\n",
    "                     function(x) mlr3measures::rmse(y,x))\n",
    "  } else {\n",
    "    pred_acc = rep(NA, w)\n",
    "      for (j in seq_len(w)) {\n",
    "          class_probs = matrix(c(1-m[,j],m[,j]), ncol = 2)\n",
    "          colnames(class_probs) = c(\"0\", \"1\")\n",
    "          pred_acc[j] = mlr3measures::logloss(as.factor(d),class_probs)\n",
    "    }\n",
    "  }\n",
    "  return(pred_acc)\n",
    "}"
   ]
  },
  {
   "cell_type": "code",
   "execution_count": 16,
   "id": "1ce0cf1c",
   "metadata": {},
   "outputs": [],
   "source": [
    "# TODO: Evaluate the predictive performance for `ml_g` and `ml_m` using the\n",
    "#       helper function `pred_acc_irm()`."
   ]
  },
  {
   "cell_type": "markdown",
   "id": "2f78bab2",
   "metadata": {},
   "source": [
    "#### Optional: 5.2.2. Evaluation of Propensity Score Estimates in the Benchmark IRM"
   ]
  },
  {
   "cell_type": "markdown",
   "id": "4d994aa6",
   "metadata": {},
   "source": [
    "The propensity score $m_0(A,V)$ plays an important role in the [score of the IRM model](https://docs.doubleml.org/stable/guide/scores.html#interactive-regression-model-irm). Try to summarize the estimates for $m_0(A,V)$ using some descriptive statistics or visualization. You can use the following helper function to generate a histogram for the propensity score."
   ]
  },
  {
   "cell_type": "code",
   "execution_count": 17,
   "id": "57867b7a",
   "metadata": {},
   "outputs": [],
   "source": [
    "# Function to plot propensity scores\n",
    "rep_propscore_plot = function(obj) {\n",
    "  # obj : doubleml\n",
    "  # The Double Machine Learning model\n",
    "  if (obj$data$n_treat > 1) {\n",
    "    stop(\"Number of treatment variable is > 1. Helper function for nuisance accuracy is only implemented for 1 treatment variable.\")\n",
    "  }\n",
    "  m = data.table(obj$predictions[['ml_m']][,,1])\n",
    "  colnames(m) = paste(\"Repetition\", 1:obj$n_rep)\n",
    "  m = melt(m,\n",
    "           measure.vars = names(m))\n",
    "  \n",
    "  hist_ps = ggplot(m) +\n",
    "    geom_histogram(aes(y = ..count.., x = value),\n",
    "                   bins = 25, fill = \"darkblue\",\n",
    "                   col= \"darkblue\", alpha = 0.5) + \n",
    "    xlim(c(0,1)) + theme_minimal() + \n",
    "    facet_grid(. ~ variable )\n",
    "  return(hist_ps)\n",
    "}"
   ]
  },
  {
   "cell_type": "code",
   "execution_count": 18,
   "id": "138848fc",
   "metadata": {},
   "outputs": [],
   "source": [
    "# (TODO): Summarize the propensity score estimates"
   ]
  },
  {
   "cell_type": "markdown",
   "id": "60ccd18e",
   "metadata": {},
   "source": [
    "### 5.3. Estimation for ML Model"
   ]
  },
  {
   "cell_type": "code",
   "execution_count": 19,
   "id": "309a7aba",
   "metadata": {},
   "outputs": [],
   "source": [
    "# TODO: Fit the ML DoubleMLIRM model using the fit() method"
   ]
  },
  {
   "cell_type": "markdown",
   "id": "7f18ecb6",
   "metadata": {},
   "source": [
    "### 5.3. Estimation Diagnostics for the IRM using ML Methods"
   ]
  },
  {
   "cell_type": "markdown",
   "id": "4571bd0d",
   "metadata": {},
   "source": [
    "#### 5.3.1. Assess the Predictive Performance in the IRM using ML methods"
   ]
  },
  {
   "cell_type": "code",
   "execution_count": 20,
   "id": "27c92bcb",
   "metadata": {},
   "outputs": [],
   "source": [
    "# TODO: Evaluate the predictive performance for `ml_g` and `ml_m` using the\n",
    "#       helper function `pred_acc_irm()`."
   ]
  },
  {
   "cell_type": "markdown",
   "id": "fbd22162",
   "metadata": {},
   "source": [
    "#### Optional: 5.3.2. Evaluation of Propensity Score Estimates in the Benchmark IRM"
   ]
  },
  {
   "cell_type": "code",
   "execution_count": 21,
   "id": "f0e4a5d3",
   "metadata": {},
   "outputs": [],
   "source": [
    "# (TODO): Summarize the propensity score estimates"
   ]
  },
  {
   "cell_type": "markdown",
   "id": "b8e19983",
   "metadata": {},
   "source": [
    "### 5.4. - 5.X. ML Model of your choice\n",
    "\n",
    "Proceed with the models using the other ML learners."
   ]
  },
  {
   "cell_type": "code",
   "execution_count": null,
   "id": "ee86ebe2",
   "metadata": {},
   "outputs": [],
   "source": []
  },
  {
   "cell_type": "code",
   "execution_count": null,
   "id": "3ff068e5",
   "metadata": {},
   "outputs": [],
   "source": []
  },
  {
   "cell_type": "code",
   "execution_count": null,
   "id": "8eb098b1",
   "metadata": {},
   "outputs": [],
   "source": []
  },
  {
   "cell_type": "markdown",
   "id": "f91e9124",
   "metadata": {},
   "source": [
    "### 5.X+1 Summarize your Results on the Quality of Estimation \n",
    "\n",
    "Provide a brief summary of your estimation results, for example by creating a table or figure."
   ]
  },
  {
   "cell_type": "code",
   "execution_count": 22,
   "id": "68da1c78",
   "metadata": {},
   "outputs": [],
   "source": [
    "# TODO: Summarize the results on the nuisance estimation in a table or figure"
   ]
  },
  {
   "cell_type": "code",
   "execution_count": null,
   "id": "69fbab47",
   "metadata": {},
   "outputs": [],
   "source": []
  },
  {
   "cell_type": "code",
   "execution_count": null,
   "id": "3a29caf6",
   "metadata": {},
   "outputs": [],
   "source": []
  },
  {
   "cell_type": "code",
   "execution_count": null,
   "id": "90952bba",
   "metadata": {},
   "outputs": [],
   "source": []
  },
  {
   "cell_type": "code",
   "execution_count": null,
   "id": "c917c981",
   "metadata": {},
   "outputs": [],
   "source": []
  },
  {
   "cell_type": "markdown",
   "id": "ef834c3f",
   "metadata": {},
   "source": [
    "## 6. Inference"
   ]
  },
  {
   "cell_type": "markdown",
   "id": "e6d9cbbd",
   "metadata": {},
   "source": [
    "Summarize your results on the **coefficient estimate** for $\\theta_0$ as well as the **standard errors** and / or **confidence intervals**, respectively. You can create a table or a figure illustrating your findings.\n",
    "\n",
    "Try to answer the following questions: \n",
    "\n",
    "* Can you reject the $H_0$ that the new add ($A$) has no effect on sales ($Y$) at common significance levels?\n",
    "* How close is your estimate to the true value of $\\theta_0=0.8$?\n",
    "* Do the confidence intervals cover the true effect $\\theta_0 = 0.8$?"
   ]
  },
  {
   "cell_type": "markdown",
   "id": "ec427850",
   "metadata": {},
   "source": [
    "**Solution:**\n",
    "\n",
    "* In all ML based models, the null hypothesis $H_0: \\theta_0 = 0$ can be rejected at all common significance levels\n",
    "* The linear/logistic benchmarmk model seems to suffer from numerical instabilities/overfitting; the results in terms of the quality of fit for the nuisance functions are worse than for the ML methods leading to imprecise and instable estimation\n",
    "* The bias of the benchmark model is quite substantial, the results for the ML-based models are closer to the true effect of $\\theta_0=0.8$. The associated confidence intervals do cover the true effect $\\theta_0=0.8$."
   ]
  },
  {
   "cell_type": "markdown",
   "id": "f0827b52",
   "metadata": {},
   "source": [
    "### 6.1. Inference for the benchmark IRM"
   ]
  },
  {
   "cell_type": "code",
   "execution_count": 23,
   "id": "00e78ed2",
   "metadata": {},
   "outputs": [],
   "source": [
    "## TODO: After calling fit(), access the coefficient parameter,\n",
    "##      the standard error and confidence interva by calling the method\n",
    "##      `summary()` and `confint()."
   ]
  },
  {
   "cell_type": "markdown",
   "id": "a2193d00",
   "metadata": {},
   "source": [
    "### 6.2. Inference for the IRM using ML methods"
   ]
  },
  {
   "cell_type": "code",
   "execution_count": 24,
   "id": "e89e7553",
   "metadata": {},
   "outputs": [],
   "source": [
    "## TODO: After calling fit(), access the coefficient parameter,\n",
    "##      the standard error and confidence interval by calling the methods\n",
    "##      `summary()` and `confint()`."
   ]
  },
  {
   "cell_type": "markdown",
   "id": "79e3b4e1",
   "metadata": {},
   "source": [
    "### 6.3. - 6.X. ML Model of your choice\n",
    "\n",
    "Proceed with the models using the other ML learners."
   ]
  },
  {
   "cell_type": "code",
   "execution_count": null,
   "id": "9b6945f5",
   "metadata": {},
   "outputs": [],
   "source": []
  },
  {
   "cell_type": "markdown",
   "id": "a0345e90",
   "metadata": {},
   "source": [
    "_____________________________________________________________________\n",
    "\n",
    "## Variation / Scope for Extensions"
   ]
  },
  {
   "cell_type": "markdown",
   "id": "c4b65ab2",
   "metadata": {},
   "source": [
    "### Variation 1: Partially linear regression\n",
    "\n",
    "\n",
    "As an alternative to the (nonparametric) IRM model, the [DoubleML](https://docs.doubleml.org/stable/index.html) package also includes the [partial linear regression (PLR)](https://docs.doubleml.org/stable/guide/models.html#partially-linear-regression-model-plr) model, which assumes the population regression has a linear and additive structure. Although in reality, we never know if this structure really holds for the underlying data generating process, we can apply this model and see how the estimates compare to those from the IRM.\n",
    "\n",
    "We can estimate the nuisance functions $g_0$ and $m_0$ in the following PLR model:\n",
    "\n",
    "\\begin{eqnarray}\n",
    "& Y = A\\theta_0 + g_0(V) + \\zeta, &\\quad E[\\zeta \\mid A,V]= 0,\\\\\n",
    "& A = m_0(V) +  U_3, &\\quad E[U_3 \\mid V] = 0.\n",
    "\\end{eqnarray}"
   ]
  },
  {
   "cell_type": "markdown",
   "id": "064a5bf9",
   "metadata": {},
   "source": [
    "### Variation 2: Employ an alternative learner\n",
    "\n",
    "\n",
    "Instead of the learners used above, we can experiment with different learners that are available from the `mlr3` ecosystem. A searchable list of all implemented learners is available [here](https://mlr3extralearners.mlr-org.com/articles/learners/list_learners.html)."
   ]
  },
  {
   "cell_type": "markdown",
   "id": "7298d1fa",
   "metadata": {},
   "source": [
    "### Variation 3: Tune a learner or experiment with pipelines\n",
    "\n",
    "The [learner section of the user guide](https://docs.doubleml.org/stable/guide/learners.html#r-learners-and-hyperparameters) explains how to perform parameter tuning using the [mlr3tuning](https://mlr3tuning.mlr-org.com/) package.\n",
    "\n",
    "It is also possible to implement pipelines using the [mlr3pipelines](https://mlr3pipelines.mlr-org.com/index.html) package. You can find an experimental notebook [here](https://docs.doubleml.org/dev/examples/R_double_ml_pipeline.html)."
   ]
  },
  {
   "cell_type": "markdown",
   "id": "3aa8d603-0df5-48c6-ad62-ac5ffe3e8ada",
   "metadata": {},
   "source": [
    "______\n",
    "\n",
    "**Notes and Acknowledgement**\n",
    "\n",
    "We would like to thank the organizers of the [ACIC 2019 Data Challenge](https://sites.google.com/view/acic2019datachallenge/data-challenge) for setting up this data challenge and making the numerous synthetic data examples publicly available.  Although the data examples in the [ACIC 2019 Data Challenge](https://sites.google.com/view/acic2019datachallenge/data-challenge) do not explicitly adress A/B testing, we put the data example here in this context to give a tractable example on the use of causal machine learning in practice. The parameters for the random forests and extreme gradient boosting learners have been tuned externally. The corresponding tuning notebook will be uploaded in the [examples gallery](https://docs.doubleml.org/dev/examples/index.html) in the future."
   ]
  },
  {
   "cell_type": "markdown",
   "id": "egyptian-platform",
   "metadata": {},
   "source": [
    "## References\n",
    "\n",
    "Chernozhukov, V., Chetverikov, D., Demirer, M., Duflo, E., Hansen, C., Newey, W. and Robins, J. (2018), Double/debiased machine learning for treatment and structural parameters. The Econometrics Journal, 21: C1-C68. doi:10.1111/ectj.12097."
   ]
  }
 ],
 "metadata": {
  "kernelspec": {
   "display_name": "R",
   "language": "R",
   "name": "ir"
  },
  "language_info": {
   "codemirror_mode": "r",
   "file_extension": ".r",
   "mimetype": "text/x-r-source",
   "name": "R",
   "pygments_lexer": "r",
   "version": "4.0.3"
  }
 },
 "nbformat": 4,
 "nbformat_minor": 5
}
