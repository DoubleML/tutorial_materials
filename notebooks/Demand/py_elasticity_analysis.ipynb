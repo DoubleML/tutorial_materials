{
 "cells": [
  {
   "cell_type": "markdown",
   "metadata": {},
   "source": [
    "# Python: Estimation of Price Elasticities with Double/Debiased Machine Learning"
   ]
  },
  {
   "cell_type": "markdown",
   "metadata": {},
   "source": [
    "![](figures/demand.png)"
   ]
  },
  {
   "cell_type": "markdown",
   "metadata": {},
   "source": [
    "In this example, we will demonstrate the use of the [DoubleML](https://docs.doubleml.org/stable/index.html) package in a real-data industry example: Estimation of price elasticity of demand. This notebook is based on a [blogpost by Lars Roemheld (Roemheld, 2021)](https://towardsdatascience.com/causal-inference-example-elasticity-de4a3e2e621b) with code and preprocessed data being available from [GitHub](https://github.com/larsroemheld/causalinf_ex_elasticity). The original data file is made available as a public domain (CC0 1.0 Universal) data set and shared on [kaggle](https://www.kaggle.com/vijayuv/onlineretail). It contains data on sales from an online retailer in the period of December 2010 until December 2011.\n",
    "\n",
    "The data preprocessing is performed in a [separate notebook that is available online](https://github.com/DoubleML/doubleml-docs/blob/master/doc/examples/py_elasticity_preprocessing.ipynb). To keep the computational effort at a moderate level, we will only use a subset of the data that is used in [Roemheld (2021)](https://towardsdatascience.com/causal-inference-example-elasticity-de4a3e2e621b). Our main goal is to illustrate the main steps of elasticity estimation with [DoubleML](https://docs.doubleml.org/stable/index.html).\n",
    "\n",
    "The following case study is organized according to the steps of the [DoubleML workflow](https://docs.doubleml.org/stable/workflow/workflow.html)."
   ]
  },
  {
   "cell_type": "markdown",
   "metadata": {},
   "source": [
    "## 0. Problem Formulation: Estimation of Price Elasticity of Demand"
   ]
  },
  {
   "cell_type": "markdown",
   "metadata": {},
   "source": [
    "\"Supply\" and \"demand\" are probably the very first terms that economics and business students hear in their studies. In industry, the price elasticity of demand is a very important quantity: It indicates how much the demand for a product (= the quantity sold by the firm) changes due to a change in its price. As a retailer, this quantity is of great interest because it makes it possible to increase revenues, and eventually profits, by optimally adjusting prices according to elasticities.\n",
    "\n",
    "The price elasticity of demand is formally defined as the relative change of the demanded quantity ($q$) of a product given a percent-change of the price ($p$)\n",
    "\n",
    "$$\\theta_0 = \\frac{\\partial q/q}{\\partial p/p}.$$\n",
    "\n",
    "In words, the parameter $\\theta_0$ can be interpreted as follows: Provided the price for a product increases by $1\\%$, the demanded quantity changes by $\\theta_0\\%$.\n",
    "\n",
    "In general, it would be possible to estimate $\\theta_0$ based on an experiment or A/B test. However, this is not possible in our case as the data set only contains information on actual purchases in the period of consideration.\n",
    "\n",
    "The causal problem of price estimation based on an observational study is quite complex: It involves many (simultaneous) decisions made by the customers and the sellers. One approach for estimation of the causal parameter $\\theta_0$ would be to account for confounding variables, that might have an effect to both the price and the quantity sold. The approach taken in  [Roemheld (2021)](https://towardsdatascience.com/causal-inference-example-elasticity-de4a3e2e621b) is to flexibly account for and construct confounding variables, for example including similarities in their product description or seasonal patterns, and thereby justifying identification of $\\theta_0$.\n",
    "\n",
    "We can use a [partially linear regression](https://docs.doubleml.org/stable/guide/models.html#partially-linear-regression-model-plr) (PLR) model for estimation of $\\theta_0$\n",
    "\n",
    "$$\\log Q = \\theta_0 \\log P + g_0(X) + \\zeta,$$\n",
    "\n",
    "with $\\mathbb{E}(\\zeta|D,X)=0$. The confounders can enter the regression equation nonlinearily via the function $g_0(X)$. In order to equip $\\theta_0$ (approximately) with the interpretation of a price elasticity, we applied the $\\log()$ to both the demanded quantity ($Q$) and the prices ($P$), i.e., we set up a $\\log$-$\\log$-regression.\n",
    "\n",
    "Before we proceed with the data analysis, it is important to mention a potential drawback to our analysis: The data only contains information on sales, not on stock days. Hence, based on this data set, it is not possible to assess what happened on days without sales (sales = 0). This drawback must be kept in mind when we draw causal conclusions from this analysis."
   ]
  },
  {
   "cell_type": "markdown",
   "metadata": {},
   "source": [
    "## 1. Data-Backend\n",
    "\n",
    "To give an idea on the general setting we briefly load an exemplary data excerpt from the original data set. We can see that the data lists the transaction of a (online) retailer selling products like inflatable political globes or fancy pens."
   ]
  },
  {
   "cell_type": "code",
   "execution_count": 1,
   "metadata": {},
   "outputs": [],
   "source": [
    "# Load required modules\n",
    "from sklearn import linear_model\n",
    "from sklearn.pipeline import Pipeline\n",
    "from sklearn.compose import ColumnTransformer\n",
    "from sklearn.preprocessing import OneHotEncoder, StandardScaler, RobustScaler\n",
    "from sklearn.feature_extraction.text import CountVectorizer\n",
    "import sklearn.preprocessing\n",
    "import pandas as pd, numpy as np\n",
    "from datetime import datetime, date\n",
    "from matplotlib import pyplot as plt\n",
    "import seaborn as sns\n",
    "import doubleml as dml\n",
    "from sklearn.pipeline import make_pipeline\n",
    "from sklearn.linear_model import LinearRegression\n",
    "from sklearn.linear_model import LassoCV\n",
    "from sklearn.ensemble import RandomForestRegressor\n",
    "import numpy as np"
   ]
  },
  {
   "cell_type": "code",
   "execution_count": 2,
   "metadata": {},
   "outputs": [
    {
     "data": {
      "text/html": [
       "<div>\n",
       "<style scoped>\n",
       "    .dataframe tbody tr th:only-of-type {\n",
       "        vertical-align: middle;\n",
       "    }\n",
       "\n",
       "    .dataframe tbody tr th {\n",
       "        vertical-align: top;\n",
       "    }\n",
       "\n",
       "    .dataframe thead th {\n",
       "        text-align: right;\n",
       "    }\n",
       "</style>\n",
       "<table border=\"1\" class=\"dataframe\">\n",
       "  <thead>\n",
       "    <tr style=\"text-align: right;\">\n",
       "      <th></th>\n",
       "      <th>Unnamed: 0</th>\n",
       "      <th>Date</th>\n",
       "      <th>StockCode</th>\n",
       "      <th>Country</th>\n",
       "      <th>Description</th>\n",
       "      <th>Quantity</th>\n",
       "      <th>revenue</th>\n",
       "      <th>UnitPrice</th>\n",
       "    </tr>\n",
       "  </thead>\n",
       "  <tbody>\n",
       "    <tr>\n",
       "      <th>0</th>\n",
       "      <td>0</td>\n",
       "      <td>2010-12-01</td>\n",
       "      <td>10002</td>\n",
       "      <td>France</td>\n",
       "      <td>INFLATABLE POLITICAL GLOBE</td>\n",
       "      <td>48</td>\n",
       "      <td>40.80</td>\n",
       "      <td>0.850</td>\n",
       "    </tr>\n",
       "    <tr>\n",
       "      <th>1</th>\n",
       "      <td>1</td>\n",
       "      <td>2010-12-01</td>\n",
       "      <td>10002</td>\n",
       "      <td>United Kingdom</td>\n",
       "      <td>INFLATABLE POLITICAL GLOBE</td>\n",
       "      <td>12</td>\n",
       "      <td>10.20</td>\n",
       "      <td>0.850</td>\n",
       "    </tr>\n",
       "    <tr>\n",
       "      <th>2</th>\n",
       "      <td>2</td>\n",
       "      <td>2010-12-01</td>\n",
       "      <td>10125</td>\n",
       "      <td>United Kingdom</td>\n",
       "      <td>MINI FUNKY DESIGN TAPES</td>\n",
       "      <td>2</td>\n",
       "      <td>1.70</td>\n",
       "      <td>0.850</td>\n",
       "    </tr>\n",
       "    <tr>\n",
       "      <th>3</th>\n",
       "      <td>3</td>\n",
       "      <td>2010-12-01</td>\n",
       "      <td>10133</td>\n",
       "      <td>United Kingdom</td>\n",
       "      <td>COLOURING PENCILS BROWN TUBE</td>\n",
       "      <td>5</td>\n",
       "      <td>4.25</td>\n",
       "      <td>0.850</td>\n",
       "    </tr>\n",
       "    <tr>\n",
       "      <th>4</th>\n",
       "      <td>4</td>\n",
       "      <td>2010-12-01</td>\n",
       "      <td>10135</td>\n",
       "      <td>United Kingdom</td>\n",
       "      <td>COLOURING PENCILS BROWN TUBE</td>\n",
       "      <td>1</td>\n",
       "      <td>2.51</td>\n",
       "      <td>2.510</td>\n",
       "    </tr>\n",
       "    <tr>\n",
       "      <th>5</th>\n",
       "      <td>5</td>\n",
       "      <td>2010-12-01</td>\n",
       "      <td>11001</td>\n",
       "      <td>United Kingdom</td>\n",
       "      <td>ASSTD DESIGN RACING CAR PEN</td>\n",
       "      <td>3</td>\n",
       "      <td>10.08</td>\n",
       "      <td>3.360</td>\n",
       "    </tr>\n",
       "    <tr>\n",
       "      <th>6</th>\n",
       "      <td>6</td>\n",
       "      <td>2010-12-01</td>\n",
       "      <td>15044B</td>\n",
       "      <td>United Kingdom</td>\n",
       "      <td>BLUE PAPER PARASOL</td>\n",
       "      <td>1</td>\n",
       "      <td>2.95</td>\n",
       "      <td>2.950</td>\n",
       "    </tr>\n",
       "    <tr>\n",
       "      <th>7</th>\n",
       "      <td>7</td>\n",
       "      <td>2010-12-01</td>\n",
       "      <td>15056BL</td>\n",
       "      <td>United Kingdom</td>\n",
       "      <td>EDWARDIAN PARASOL BLACK</td>\n",
       "      <td>20</td>\n",
       "      <td>113.00</td>\n",
       "      <td>5.650</td>\n",
       "    </tr>\n",
       "    <tr>\n",
       "      <th>8</th>\n",
       "      <td>8</td>\n",
       "      <td>2010-12-01</td>\n",
       "      <td>15056N</td>\n",
       "      <td>United Kingdom</td>\n",
       "      <td>EDWARDIAN PARASOL NATURAL</td>\n",
       "      <td>50</td>\n",
       "      <td>236.30</td>\n",
       "      <td>4.726</td>\n",
       "    </tr>\n",
       "    <tr>\n",
       "      <th>9</th>\n",
       "      <td>9</td>\n",
       "      <td>2010-12-01</td>\n",
       "      <td>15056P</td>\n",
       "      <td>United Kingdom</td>\n",
       "      <td>EDWARDIAN PARASOL PINK</td>\n",
       "      <td>48</td>\n",
       "      <td>220.80</td>\n",
       "      <td>4.600</td>\n",
       "    </tr>\n",
       "  </tbody>\n",
       "</table>\n",
       "</div>"
      ],
      "text/plain": [
       "   Unnamed: 0        Date StockCode         Country   \n",
       "0           0  2010-12-01     10002          France  \\\n",
       "1           1  2010-12-01     10002  United Kingdom   \n",
       "2           2  2010-12-01     10125  United Kingdom   \n",
       "3           3  2010-12-01     10133  United Kingdom   \n",
       "4           4  2010-12-01     10135  United Kingdom   \n",
       "5           5  2010-12-01     11001  United Kingdom   \n",
       "6           6  2010-12-01    15044B  United Kingdom   \n",
       "7           7  2010-12-01   15056BL  United Kingdom   \n",
       "8           8  2010-12-01    15056N  United Kingdom   \n",
       "9           9  2010-12-01    15056P  United Kingdom   \n",
       "\n",
       "                    Description  Quantity  revenue  UnitPrice  \n",
       "0   INFLATABLE POLITICAL GLOBE         48    40.80      0.850  \n",
       "1   INFLATABLE POLITICAL GLOBE         12    10.20      0.850  \n",
       "2       MINI FUNKY DESIGN TAPES         2     1.70      0.850  \n",
       "3  COLOURING PENCILS BROWN TUBE         5     4.25      0.850  \n",
       "4  COLOURING PENCILS BROWN TUBE         1     2.51      2.510  \n",
       "5   ASSTD DESIGN RACING CAR PEN         3    10.08      3.360  \n",
       "6           BLUE PAPER PARASOL          1     2.95      2.950  \n",
       "7       EDWARDIAN PARASOL BLACK        20   113.00      5.650  \n",
       "8     EDWARDIAN PARASOL NATURAL        50   236.30      4.726  \n",
       "9        EDWARDIAN PARASOL PINK        48   220.80      4.600  "
      ]
     },
     "execution_count": 2,
     "metadata": {},
     "output_type": "execute_result"
    }
   ],
   "source": [
    "# Load example data set\n",
    "url = 'https://raw.githubusercontent.com/DoubleML/doubleml-docs/main/doc/examples/data/orig_demand_data_example.csv'\n",
    "data_example = pd.read_csv(url)\n",
    "data_example"
   ]
  },
  {
   "cell_type": "markdown",
   "metadata": {},
   "source": [
    "In our analysis, we will use a preprocessed data set. Each row corresponds to the sales of a product at a specific date $t$.\n",
    "\n",
    "In the data we have, \n",
    "\n",
    "* `Quantity`: Quantity demanded\n",
    "* `revenue`: Revenue\n",
    "* `UnitPrice`: Price per unit\n",
    "* `month`: Month\n",
    "* `DoM`: Day of month\n",
    "* `DoW`: Day of week\n",
    "* `stock_age_days`: Number of days product has been sold / observed in the data\n",
    "* `sku_avg_p`: Average (=median) price of the product\n",
    "* `Australia`, ...: Country dummies\n",
    "* `1`, `2`, ... : Numerical variables constructed to capture similarities in product descriptions (n-grams)\n",
    "* `dLnP`: Change in Price\n",
    "* `dLnQ`: Change in Quantity\n",
    "\n",
    "Note that we do not include product dummies as the price and quantity variables have been demeaned to account for product characteristics."
   ]
  },
  {
   "cell_type": "code",
   "execution_count": 3,
   "metadata": {},
   "outputs": [
    {
     "name": "stdout",
     "output_type": "stream",
     "text": [
      "Index(['Quantity', 'revenue', 'UnitPrice', 'month', 'DoM', 'DoW',\n",
      "       'stock_age_days', 'sku_avg_p', 'Australia', 'Austria',\n",
      "       ...\n",
      "       '544', '545', '546', '547', '548', '549', '550', '551', 'dLnP', 'dLnQ'],\n",
      "      dtype='object', length=600)\n"
     ]
    }
   ],
   "source": [
    "url2 = 'https://raw.githubusercontent.com/DoubleML/doubleml-docs/main/doc/examples/data/elasticity_subset.csv'\n",
    "demand_data = pd.read_csv(url2, index_col = 0)\n",
    "print(demand_data.columns)"
   ]
  },
  {
   "cell_type": "code",
   "execution_count": 4,
   "metadata": {},
   "outputs": [
    {
     "name": "stdout",
     "output_type": "stream",
     "text": [
      "(10000, 600)\n"
     ]
    }
   ],
   "source": [
    "# Print dimensions of data set\n",
    "print(demand_data.shape)"
   ]
  },
  {
   "cell_type": "code",
   "execution_count": 5,
   "metadata": {},
   "outputs": [
    {
     "data": {
      "text/html": [
       "<div>\n",
       "<style scoped>\n",
       "    .dataframe tbody tr th:only-of-type {\n",
       "        vertical-align: middle;\n",
       "    }\n",
       "\n",
       "    .dataframe tbody tr th {\n",
       "        vertical-align: top;\n",
       "    }\n",
       "\n",
       "    .dataframe thead th {\n",
       "        text-align: right;\n",
       "    }\n",
       "</style>\n",
       "<table border=\"1\" class=\"dataframe\">\n",
       "  <thead>\n",
       "    <tr style=\"text-align: right;\">\n",
       "      <th></th>\n",
       "      <th>Quantity</th>\n",
       "      <th>revenue</th>\n",
       "      <th>UnitPrice</th>\n",
       "      <th>month</th>\n",
       "      <th>DoM</th>\n",
       "      <th>DoW</th>\n",
       "      <th>stock_age_days</th>\n",
       "      <th>sku_avg_p</th>\n",
       "      <th>Australia</th>\n",
       "      <th>Austria</th>\n",
       "      <th>...</th>\n",
       "      <th>544</th>\n",
       "      <th>545</th>\n",
       "      <th>546</th>\n",
       "      <th>547</th>\n",
       "      <th>548</th>\n",
       "      <th>549</th>\n",
       "      <th>550</th>\n",
       "      <th>551</th>\n",
       "      <th>dLnP</th>\n",
       "      <th>dLnQ</th>\n",
       "    </tr>\n",
       "  </thead>\n",
       "  <tbody>\n",
       "    <tr>\n",
       "      <th>189628</th>\n",
       "      <td>5</td>\n",
       "      <td>8.15</td>\n",
       "      <td>1.630000</td>\n",
       "      <td>9</td>\n",
       "      <td>6</td>\n",
       "      <td>1</td>\n",
       "      <td>278</td>\n",
       "      <td>0.85</td>\n",
       "      <td>False</td>\n",
       "      <td>False</td>\n",
       "      <td>...</td>\n",
       "      <td>0</td>\n",
       "      <td>0</td>\n",
       "      <td>0</td>\n",
       "      <td>0</td>\n",
       "      <td>0</td>\n",
       "      <td>0</td>\n",
       "      <td>0</td>\n",
       "      <td>0</td>\n",
       "      <td>0.408612</td>\n",
       "      <td>-1.013840</td>\n",
       "    </tr>\n",
       "    <tr>\n",
       "      <th>37914</th>\n",
       "      <td>19</td>\n",
       "      <td>41.93</td>\n",
       "      <td>2.206842</td>\n",
       "      <td>1</td>\n",
       "      <td>25</td>\n",
       "      <td>1</td>\n",
       "      <td>55</td>\n",
       "      <td>2.10</td>\n",
       "      <td>False</td>\n",
       "      <td>False</td>\n",
       "      <td>...</td>\n",
       "      <td>0</td>\n",
       "      <td>0</td>\n",
       "      <td>0</td>\n",
       "      <td>0</td>\n",
       "      <td>0</td>\n",
       "      <td>0</td>\n",
       "      <td>0</td>\n",
       "      <td>0</td>\n",
       "      <td>-0.048811</td>\n",
       "      <td>-0.306368</td>\n",
       "    </tr>\n",
       "    <tr>\n",
       "      <th>80103</th>\n",
       "      <td>24</td>\n",
       "      <td>20.40</td>\n",
       "      <td>0.850000</td>\n",
       "      <td>3</td>\n",
       "      <td>31</td>\n",
       "      <td>3</td>\n",
       "      <td>120</td>\n",
       "      <td>0.85</td>\n",
       "      <td>False</td>\n",
       "      <td>False</td>\n",
       "      <td>...</td>\n",
       "      <td>0</td>\n",
       "      <td>0</td>\n",
       "      <td>0</td>\n",
       "      <td>0</td>\n",
       "      <td>0</td>\n",
       "      <td>0</td>\n",
       "      <td>0</td>\n",
       "      <td>0</td>\n",
       "      <td>-0.127108</td>\n",
       "      <td>1.371479</td>\n",
       "    </tr>\n",
       "    <tr>\n",
       "      <th>75019</th>\n",
       "      <td>12</td>\n",
       "      <td>23.40</td>\n",
       "      <td>1.950000</td>\n",
       "      <td>3</td>\n",
       "      <td>24</td>\n",
       "      <td>3</td>\n",
       "      <td>113</td>\n",
       "      <td>2.08</td>\n",
       "      <td>False</td>\n",
       "      <td>False</td>\n",
       "      <td>...</td>\n",
       "      <td>0</td>\n",
       "      <td>0</td>\n",
       "      <td>0</td>\n",
       "      <td>0</td>\n",
       "      <td>0</td>\n",
       "      <td>0</td>\n",
       "      <td>0</td>\n",
       "      <td>0</td>\n",
       "      <td>-0.228256</td>\n",
       "      <td>-1.034483</td>\n",
       "    </tr>\n",
       "    <tr>\n",
       "      <th>99878</th>\n",
       "      <td>4</td>\n",
       "      <td>39.80</td>\n",
       "      <td>9.950000</td>\n",
       "      <td>5</td>\n",
       "      <td>5</td>\n",
       "      <td>3</td>\n",
       "      <td>155</td>\n",
       "      <td>9.95</td>\n",
       "      <td>False</td>\n",
       "      <td>False</td>\n",
       "      <td>...</td>\n",
       "      <td>0</td>\n",
       "      <td>0</td>\n",
       "      <td>0</td>\n",
       "      <td>0</td>\n",
       "      <td>0</td>\n",
       "      <td>0</td>\n",
       "      <td>0</td>\n",
       "      <td>0</td>\n",
       "      <td>-0.034922</td>\n",
       "      <td>-0.050881</td>\n",
       "    </tr>\n",
       "  </tbody>\n",
       "</table>\n",
       "<p>5 rows × 600 columns</p>\n",
       "</div>"
      ],
      "text/plain": [
       "        Quantity  revenue  UnitPrice  month  DoM  DoW  stock_age_days   \n",
       "189628         5     8.15   1.630000      9    6    1             278  \\\n",
       "37914         19    41.93   2.206842      1   25    1              55   \n",
       "80103         24    20.40   0.850000      3   31    3             120   \n",
       "75019         12    23.40   1.950000      3   24    3             113   \n",
       "99878          4    39.80   9.950000      5    5    3             155   \n",
       "\n",
       "        sku_avg_p  Australia  Austria  ...  544  545  546  547  548  549  550   \n",
       "189628       0.85      False    False  ...    0    0    0    0    0    0    0  \\\n",
       "37914        2.10      False    False  ...    0    0    0    0    0    0    0   \n",
       "80103        0.85      False    False  ...    0    0    0    0    0    0    0   \n",
       "75019        2.08      False    False  ...    0    0    0    0    0    0    0   \n",
       "99878        9.95      False    False  ...    0    0    0    0    0    0    0   \n",
       "\n",
       "        551      dLnP      dLnQ  \n",
       "189628    0  0.408612 -1.013840  \n",
       "37914     0 -0.048811 -0.306368  \n",
       "80103     0 -0.127108  1.371479  \n",
       "75019     0 -0.228256 -1.034483  \n",
       "99878     0 -0.034922 -0.050881  \n",
       "\n",
       "[5 rows x 600 columns]"
      ]
     },
     "execution_count": 5,
     "metadata": {},
     "output_type": "execute_result"
    }
   ],
   "source": [
    "# Glimpse at first rows of data set\n",
    "demand_data.head()"
   ]
  },
  {
   "cell_type": "markdown",
   "metadata": {},
   "source": [
    "To initiate the data backend, we create a new [DoubleMLData](https://docs.doubleml.org/stable/api/generated/doubleml.DoubleMLData.html#doubleml.DoubleMLData) object. During instantiation, we assign the roles of the variables, i.e., `dLnQ` as the dependent var, `dLnP` as the treatment variable and the remaining variables as confounders."
   ]
  },
  {
   "cell_type": "code",
   "execution_count": 6,
   "metadata": {},
   "outputs": [],
   "source": [
    "feature_names = demand_data.columns.drop(['Quantity', 'revenue', 'UnitPrice',\n",
    "                                      'dLnQ', 'dLnP']).to_list()\n",
    "\n"
   ]
  },
  {
   "cell_type": "code",
   "execution_count": 7,
   "metadata": {},
   "outputs": [],
   "source": [
    "data_dml = dml.DoubleMLData(demand_data,\n",
    "                            y_col = 'dLnQ',\n",
    "                            d_cols = 'dLnP',\n",
    "                            x_cols = feature_names)"
   ]
  },
  {
   "cell_type": "code",
   "execution_count": 8,
   "metadata": {},
   "outputs": [
    {
     "name": "stdout",
     "output_type": "stream",
     "text": [
      "================== DoubleMLData Object ==================\n",
      "\n",
      "------------------ Data summary      ------------------\n",
      "Outcome variable: dLnQ\n",
      "Treatment variable(s): ['dLnP']\n",
      "Covariates: ['month', 'DoM', 'DoW', 'stock_age_days', 'sku_avg_p', 'Australia', 'Austria', 'Bahrain', 'Belgium', 'Brazil', 'Canada', 'Channel Islands', 'Cyprus', 'Czech Republic', 'Denmark', 'EIRE', 'European Community', 'Finland', 'France', 'Germany', 'Greece', 'Hong Kong', 'Iceland', 'Israel', 'Italy', 'Japan', 'Lebanon', 'Lithuania', 'Malta', 'Netherlands', 'Norway', 'Poland', 'Portugal', 'RSA', 'Saudi Arabia', 'Singapore', 'Spain', 'Sweden', 'Switzerland', 'USA', 'United Arab Emirates', 'United Kingdom', 'Unspecified', '0', '1', '2', '3', '4', '5', '6', '7', '8', '9', '10', '11', '12', '13', '14', '15', '16', '17', '18', '19', '20', '21', '22', '23', '24', '25', '26', '27', '28', '29', '30', '31', '32', '33', '34', '35', '36', '37', '38', '39', '40', '41', '42', '43', '44', '45', '46', '47', '48', '49', '50', '51', '52', '53', '54', '55', '56', '57', '58', '59', '60', '61', '62', '63', '64', '65', '66', '67', '68', '69', '70', '71', '72', '73', '74', '75', '76', '77', '78', '79', '80', '81', '82', '83', '84', '85', '86', '87', '88', '89', '90', '91', '92', '93', '94', '95', '96', '97', '98', '99', '100', '101', '102', '103', '104', '105', '106', '107', '108', '109', '110', '111', '112', '113', '114', '115', '116', '117', '118', '119', '120', '121', '122', '123', '124', '125', '126', '127', '128', '129', '130', '131', '132', '133', '134', '135', '136', '137', '138', '139', '140', '141', '142', '143', '144', '145', '146', '147', '148', '149', '150', '151', '152', '153', '154', '155', '156', '157', '158', '159', '160', '161', '162', '163', '164', '165', '166', '167', '168', '169', '170', '171', '172', '173', '174', '175', '176', '177', '178', '179', '180', '181', '182', '183', '184', '185', '186', '187', '188', '189', '190', '191', '192', '193', '194', '195', '196', '197', '198', '199', '200', '201', '202', '203', '204', '205', '206', '207', '208', '209', '210', '211', '212', '213', '214', '215', '216', '217', '218', '219', '220', '221', '222', '223', '224', '225', '226', '227', '228', '229', '230', '231', '232', '233', '234', '235', '236', '237', '238', '239', '240', '241', '242', '243', '244', '245', '246', '247', '248', '249', '250', '251', '252', '253', '254', '255', '256', '257', '258', '259', '260', '261', '262', '263', '264', '265', '266', '267', '268', '269', '270', '271', '272', '273', '274', '275', '276', '277', '278', '279', '280', '281', '282', '283', '284', '285', '286', '287', '288', '289', '290', '291', '292', '293', '294', '295', '296', '297', '298', '299', '300', '301', '302', '303', '304', '305', '306', '307', '308', '309', '310', '311', '312', '313', '314', '315', '316', '317', '318', '319', '320', '321', '322', '323', '324', '325', '326', '327', '328', '329', '330', '331', '332', '333', '334', '335', '336', '337', '338', '339', '340', '341', '342', '343', '344', '345', '346', '347', '348', '349', '350', '351', '352', '353', '354', '355', '356', '357', '358', '359', '360', '361', '362', '363', '364', '365', '366', '367', '368', '369', '370', '371', '372', '373', '374', '375', '376', '377', '378', '379', '380', '381', '382', '383', '384', '385', '386', '387', '388', '389', '390', '391', '392', '393', '394', '395', '396', '397', '398', '399', '400', '401', '402', '403', '404', '405', '406', '407', '408', '409', '410', '411', '412', '413', '414', '415', '416', '417', '418', '419', '420', '421', '422', '423', '424', '425', '426', '427', '428', '429', '430', '431', '432', '433', '434', '435', '436', '437', '438', '439', '440', '441', '442', '443', '444', '445', '446', '447', '448', '449', '450', '451', '452', '453', '454', '455', '456', '457', '458', '459', '460', '461', '462', '463', '464', '465', '466', '467', '468', '469', '470', '471', '472', '473', '474', '475', '476', '477', '478', '479', '480', '481', '482', '483', '484', '485', '486', '487', '488', '489', '490', '491', '492', '493', '494', '495', '496', '497', '498', '499', '500', '501', '502', '503', '504', '505', '506', '507', '508', '509', '510', '511', '512', '513', '514', '515', '516', '517', '518', '519', '520', '521', '522', '523', '524', '525', '526', '527', '528', '529', '530', '531', '532', '533', '534', '535', '536', '537', '538', '539', '540', '541', '542', '543', '544', '545', '546', '547', '548', '549', '550', '551']\n",
      "Instrument variable(s): None\n",
      "No. Observations: 10000\n",
      "\n",
      "------------------ DataFrame info    ------------------\n",
      "<class 'pandas.core.frame.DataFrame'>\n",
      "Index: 10000 entries, 189628 to 73347\n",
      "Columns: 600 entries, Quantity to dLnQ\n",
      "dtypes: bool(38), float64(5), int64(557)\n",
      "memory usage: 43.3 MB\n",
      "\n"
     ]
    }
   ],
   "source": [
    "print(data_dml)"
   ]
  },
  {
   "cell_type": "markdown",
   "metadata": {},
   "source": [
    "## 2. Causal Model \n",
    "\n",
    "We already stated that a partially linear regression model in a $\\log$-$\\log$-specification will allow us to interpret the regression coefficient $\\theta_0$ as the price elasticity of demand. We restate the main regression as well as the auxiliary regression that is required for orthogonality\n",
    "\n",
    "\n",
    "$$\\begin{aligned}\\log Q &= \\theta_0 \\log P + g_0(X) + \\zeta,\\\\\n",
    "\\log P &= m_0(X) + V\\end{aligned},$$\n",
    "\n",
    "with $\\mathbb{E}(\\zeta|D,X)=0$ and $\\mathbb{E}(V|X)=0$. As stated above, we hope to justify the assumption $\\mathbb{E}(\\zeta|D,X)=0$ by sufficiently accounting for the confounding variables $X$.\n"
   ]
  },
  {
   "cell_type": "markdown",
   "metadata": {},
   "source": [
    "## 3. ML Methods\n",
    "\n",
    "We start with the linear regression model as a benchmark lerner for learning nuisance parameters $g_0(X)$ and $m_0(X)$. We additionally set up two models based on a lasso learner as well as a random forest learner and compare our results."
   ]
  },
  {
   "cell_type": "code",
   "execution_count": 9,
   "metadata": {},
   "outputs": [],
   "source": [
    "ml_l_lin_reg = LinearRegression()\n",
    "ml_m_lin_reg = LinearRegression()"
   ]
  },
  {
   "cell_type": "code",
   "execution_count": 10,
   "metadata": {},
   "outputs": [],
   "source": [
    "Cs = 0.0001*np.logspace(0, 4, 10)\n",
    "ml_l_lasso = make_pipeline(StandardScaler(), LassoCV(cv=5, max_iter=10000,\n",
    "                                                     n_jobs = -1))\n",
    "ml_m_lasso = make_pipeline(StandardScaler(), LassoCV(cv=5, max_iter=10000,\n",
    "                                                     n_jobs = -1))"
   ]
  },
  {
   "cell_type": "code",
   "execution_count": 11,
   "metadata": {},
   "outputs": [],
   "source": [
    "ml_l_forest = RandomForestRegressor(n_estimators=50,\n",
    "                                    min_samples_leaf=3,\n",
    "                                    n_jobs=-1, verbose=0)\n",
    "ml_m_forest = RandomForestRegressor(n_estimators=50,\n",
    "                                    min_samples_leaf=3,\n",
    "                                    n_jobs=-1, verbose=0)"
   ]
  },
  {
   "cell_type": "markdown",
   "metadata": {},
   "source": [
    "## 4. DML Specifications\n",
    "\n",
    "For each learner configuration, we initialize a new [DoubleMLPLR](https://docs.doubleml.org/stable/api/generated/doubleml.DoubleMLPLR.html) object. We stick to the default options, i.e., `dml_procedure = 'dml2'`, `score = \"partialling out\"`, n_folds = 5. "
   ]
  },
  {
   "cell_type": "code",
   "execution_count": 12,
   "metadata": {},
   "outputs": [],
   "source": [
    "np.random.seed(123)\n",
    "dml_plr_lin_reg = dml.DoubleMLPLR(data_dml,\n",
    "                                  ml_l = ml_l_lin_reg,\n",
    "                                  ml_m = ml_m_lin_reg)"
   ]
  },
  {
   "cell_type": "code",
   "execution_count": 13,
   "metadata": {},
   "outputs": [],
   "source": [
    "np.random.seed(123)\n",
    "dml_plr_lasso = dml.DoubleMLPLR(data_dml,\n",
    "                                ml_l = ml_l_lasso,\n",
    "                                ml_m = ml_m_lasso)"
   ]
  },
  {
   "cell_type": "code",
   "execution_count": 14,
   "metadata": {},
   "outputs": [],
   "source": [
    "np.random.seed(123)\n",
    "dml_plr_forest = dml.DoubleMLPLR(data_dml,\n",
    "                                 ml_l = ml_l_forest,\n",
    "                                 ml_m = ml_m_forest)"
   ]
  },
  {
   "cell_type": "markdown",
   "metadata": {},
   "source": [
    "## 5. Estimation "
   ]
  },
  {
   "cell_type": "markdown",
   "metadata": {},
   "source": [
    "To estimate our target parameter $\\theta_0$, we call the `fit()` method. The results can be summarized by accessing the `summary` field."
   ]
  },
  {
   "cell_type": "code",
   "execution_count": 15,
   "metadata": {},
   "outputs": [
    {
     "data": {
      "text/html": [
       "<div>\n",
       "<style scoped>\n",
       "    .dataframe tbody tr th:only-of-type {\n",
       "        vertical-align: middle;\n",
       "    }\n",
       "\n",
       "    .dataframe tbody tr th {\n",
       "        vertical-align: top;\n",
       "    }\n",
       "\n",
       "    .dataframe thead th {\n",
       "        text-align: right;\n",
       "    }\n",
       "</style>\n",
       "<table border=\"1\" class=\"dataframe\">\n",
       "  <thead>\n",
       "    <tr style=\"text-align: right;\">\n",
       "      <th></th>\n",
       "      <th>coef</th>\n",
       "      <th>std err</th>\n",
       "      <th>t</th>\n",
       "      <th>P&gt;|t|</th>\n",
       "      <th>2.5 %</th>\n",
       "      <th>97.5 %</th>\n",
       "    </tr>\n",
       "  </thead>\n",
       "  <tbody>\n",
       "    <tr>\n",
       "      <th>dLnP</th>\n",
       "      <td>-6.265544</td>\n",
       "      <td>0.973676</td>\n",
       "      <td>-6.434937</td>\n",
       "      <td>1.235243e-10</td>\n",
       "      <td>-8.173914</td>\n",
       "      <td>-4.357174</td>\n",
       "    </tr>\n",
       "  </tbody>\n",
       "</table>\n",
       "</div>"
      ],
      "text/plain": [
       "          coef   std err         t         P>|t|     2.5 %    97.5 %\n",
       "dLnP -6.265544  0.973676 -6.434937  1.235243e-10 -8.173914 -4.357174"
      ]
     },
     "execution_count": 15,
     "metadata": {},
     "output_type": "execute_result"
    }
   ],
   "source": [
    "dml_plr_lin_reg.fit(store_predictions = True)\n",
    "summary_plr_lin_reg = dml_plr_lin_reg.summary\n",
    "summary_plr_lin_reg"
   ]
  },
  {
   "cell_type": "code",
   "execution_count": 16,
   "metadata": {},
   "outputs": [
    {
     "data": {
      "text/html": [
       "<div>\n",
       "<style scoped>\n",
       "    .dataframe tbody tr th:only-of-type {\n",
       "        vertical-align: middle;\n",
       "    }\n",
       "\n",
       "    .dataframe tbody tr th {\n",
       "        vertical-align: top;\n",
       "    }\n",
       "\n",
       "    .dataframe thead th {\n",
       "        text-align: right;\n",
       "    }\n",
       "</style>\n",
       "<table border=\"1\" class=\"dataframe\">\n",
       "  <thead>\n",
       "    <tr style=\"text-align: right;\">\n",
       "      <th></th>\n",
       "      <th>coef</th>\n",
       "      <th>std err</th>\n",
       "      <th>t</th>\n",
       "      <th>P&gt;|t|</th>\n",
       "      <th>2.5 %</th>\n",
       "      <th>97.5 %</th>\n",
       "    </tr>\n",
       "  </thead>\n",
       "  <tbody>\n",
       "    <tr>\n",
       "      <th>dLnP</th>\n",
       "      <td>-1.766224</td>\n",
       "      <td>0.042451</td>\n",
       "      <td>-41.606171</td>\n",
       "      <td>0.0</td>\n",
       "      <td>-1.849427</td>\n",
       "      <td>-1.683022</td>\n",
       "    </tr>\n",
       "  </tbody>\n",
       "</table>\n",
       "</div>"
      ],
      "text/plain": [
       "          coef   std err          t  P>|t|     2.5 %    97.5 %\n",
       "dLnP -1.766224  0.042451 -41.606171    0.0 -1.849427 -1.683022"
      ]
     },
     "execution_count": 16,
     "metadata": {},
     "output_type": "execute_result"
    }
   ],
   "source": [
    "dml_plr_lasso.fit(store_predictions = True)\n",
    "summary_plr_lasso = dml_plr_lasso.summary\n",
    "summary_plr_lasso"
   ]
  },
  {
   "cell_type": "code",
   "execution_count": 17,
   "metadata": {},
   "outputs": [
    {
     "data": {
      "text/html": [
       "<div>\n",
       "<style scoped>\n",
       "    .dataframe tbody tr th:only-of-type {\n",
       "        vertical-align: middle;\n",
       "    }\n",
       "\n",
       "    .dataframe tbody tr th {\n",
       "        vertical-align: top;\n",
       "    }\n",
       "\n",
       "    .dataframe thead th {\n",
       "        text-align: right;\n",
       "    }\n",
       "</style>\n",
       "<table border=\"1\" class=\"dataframe\">\n",
       "  <thead>\n",
       "    <tr style=\"text-align: right;\">\n",
       "      <th></th>\n",
       "      <th>coef</th>\n",
       "      <th>std err</th>\n",
       "      <th>t</th>\n",
       "      <th>P&gt;|t|</th>\n",
       "      <th>2.5 %</th>\n",
       "      <th>97.5 %</th>\n",
       "    </tr>\n",
       "  </thead>\n",
       "  <tbody>\n",
       "    <tr>\n",
       "      <th>dLnP</th>\n",
       "      <td>-1.785837</td>\n",
       "      <td>0.043101</td>\n",
       "      <td>-41.43402</td>\n",
       "      <td>0.0</td>\n",
       "      <td>-1.870313</td>\n",
       "      <td>-1.701361</td>\n",
       "    </tr>\n",
       "  </tbody>\n",
       "</table>\n",
       "</div>"
      ],
      "text/plain": [
       "          coef   std err         t  P>|t|     2.5 %    97.5 %\n",
       "dLnP -1.785837  0.043101 -41.43402    0.0 -1.870313 -1.701361"
      ]
     },
     "execution_count": 17,
     "metadata": {},
     "output_type": "execute_result"
    }
   ],
   "source": [
    "dml_plr_forest.fit(store_predictions = True)\n",
    "summary_plr_forest = dml_plr_forest.summary\n",
    "summary_plr_forest"
   ]
  },
  {
   "cell_type": "markdown",
   "metadata": {},
   "source": [
    "Let us now compare how well the three models approximate the nuisance functions $g_0(X)$ and $m_0(X)$. We first define a helper function that calculates the RMSE for both."
   ]
  },
  {
   "cell_type": "code",
   "execution_count": 18,
   "metadata": {},
   "outputs": [],
   "source": [
    "from sklearn.metrics import mean_squared_error\n",
    "\n",
    "def pred_acc_plr(DoubleML, nuis):\n",
    "    \"\"\"\n",
    "    A function to calculate prediction accuracy values for every repetition\n",
    "    of a Double Machine Learning model using PLR, DoubleMLPLR\n",
    "    \n",
    "    ...\n",
    "    \n",
    "    Parameters\n",
    "    ----------\n",
    "    DoubleML : doubleml.double_ml_plr.DoubleMLPLR\n",
    "        The PLR Double Machine Learning model\n",
    "    nuis : str\n",
    "        Indicates nuisance component for evaluation of RMSE, either `'ml_l'` or `ml_m`.\n",
    "    \"\"\"\n",
    "    \n",
    "    # export data, fitted coefficient and predictions of the DoubleML model\n",
    "    y = DoubleML._dml_data.y\n",
    "    d = DoubleML._dml_data.d\n",
    "    theta = DoubleML.coef\n",
    "    ml_nuis = DoubleML.predictions.get(nuis)\n",
    "    \n",
    "    # dimensions of prediction array\n",
    "    h = ml_nuis.shape[0]\n",
    "    export_pred_array = np.zeros(h)      \n",
    "    \n",
    "    if nuis == 'ml_l':\n",
    "        for j in range(h):\n",
    "            export_pred_array[j] = theta*d[j] + ml_nuis[j]\n",
    "    \n",
    "    elif nuis == 'ml_m':\n",
    "        for j in range(h):\n",
    "            export_pred_array[j] = ml_nuis[j]\n",
    "\n",
    "    rmse = mean_squared_error(y, export_pred_array, squared=False)\n",
    "    \n",
    "    return rmse"
   ]
  },
  {
   "cell_type": "code",
   "execution_count": 19,
   "metadata": {},
   "outputs": [],
   "source": [
    "rmse_lin_reg_ml_l = pred_acc_plr(dml_plr_lin_reg, 'ml_l')\n",
    "rmse_lin_reg_ml_m = pred_acc_plr(dml_plr_lin_reg, 'ml_m')"
   ]
  },
  {
   "cell_type": "code",
   "execution_count": 20,
   "metadata": {},
   "outputs": [],
   "source": [
    "rmse_lasso_ml_l = pred_acc_plr(dml_plr_lasso, 'ml_l')\n",
    "rmse_lasso_ml_m = pred_acc_plr(dml_plr_lasso, 'ml_m')"
   ]
  },
  {
   "cell_type": "code",
   "execution_count": 21,
   "metadata": {},
   "outputs": [],
   "source": [
    "rmse_forest_ml_l = pred_acc_plr(dml_plr_forest, 'ml_l')\n",
    "rmse_forest_ml_m = pred_acc_plr(dml_plr_forest, 'ml_m')"
   ]
  },
  {
   "cell_type": "markdown",
   "metadata": {},
   "source": [
    "We visualize and compare the results in terms of the predictive performance."
   ]
  },
  {
   "cell_type": "code",
   "execution_count": 22,
   "metadata": {},
   "outputs": [
    {
     "data": {
      "text/html": [
       "<div>\n",
       "<style scoped>\n",
       "    .dataframe tbody tr th:only-of-type {\n",
       "        vertical-align: middle;\n",
       "    }\n",
       "\n",
       "    .dataframe tbody tr th {\n",
       "        vertical-align: top;\n",
       "    }\n",
       "\n",
       "    .dataframe thead th {\n",
       "        text-align: right;\n",
       "    }\n",
       "</style>\n",
       "<table border=\"1\" class=\"dataframe\">\n",
       "  <thead>\n",
       "    <tr style=\"text-align: right;\">\n",
       "      <th></th>\n",
       "      <th>ml_l</th>\n",
       "      <th>ml_m</th>\n",
       "    </tr>\n",
       "  </thead>\n",
       "  <tbody>\n",
       "    <tr>\n",
       "      <th>regression</th>\n",
       "      <td>5.453633e+07</td>\n",
       "      <td>8250849.365</td>\n",
       "    </tr>\n",
       "    <tr>\n",
       "      <th>lasso</th>\n",
       "      <td>1.019000e+00</td>\n",
       "      <td>1.281</td>\n",
       "    </tr>\n",
       "    <tr>\n",
       "      <th>forest</th>\n",
       "      <td>1.017000e+00</td>\n",
       "      <td>1.291</td>\n",
       "    </tr>\n",
       "  </tbody>\n",
       "</table>\n",
       "</div>"
      ],
      "text/plain": [
       "                    ml_l         ml_m\n",
       "regression  5.453633e+07  8250849.365\n",
       "lasso       1.019000e+00        1.281\n",
       "forest      1.017000e+00        1.291"
      ]
     },
     "execution_count": 22,
     "metadata": {},
     "output_type": "execute_result"
    }
   ],
   "source": [
    "plr_rmse_index = ['regression','lasso', 'forest']\n",
    "plr_rmse = pd.DataFrame([[rmse_lin_reg_ml_l, rmse_lin_reg_ml_m],\n",
    "                         [rmse_lasso_ml_l, rmse_lasso_ml_m],\n",
    "                         [rmse_forest_ml_l, rmse_forest_ml_m]],\n",
    "                        index=plr_rmse_index,\n",
    "                        columns=['ml_l', 'ml_m'])\n",
    "plr_rmse.round(3)"
   ]
  },
  {
   "cell_type": "code",
   "execution_count": 23,
   "metadata": {},
   "outputs": [
    {
     "data": {
      "image/png": "[encoded data removed]",
      "text/plain": [
       "<Figure size 640x480 with 1 Axes>"
      ]
     },
     "metadata": {},
     "output_type": "display_data"
    }
   ],
   "source": [
    "plt.scatter(x = plr_rmse_index, y= plr_rmse['ml_l'])\n",
    "plt.title('RMSE, ml_l')\n",
    "plt.xlabel('learner')\n",
    "_ = plt.ylabel('RMSE')"
   ]
  },
  {
   "cell_type": "code",
   "execution_count": 24,
   "metadata": {},
   "outputs": [
    {
     "data": {
      "image/png": "[encoded data removed]",
      "text/plain": [
       "<Figure size 640x480 with 1 Axes>"
      ]
     },
     "metadata": {},
     "output_type": "display_data"
    }
   ],
   "source": [
    "plt.scatter(x = plr_rmse_index, y= plr_rmse['ml_m'])\n",
    "plt.title('RMSE, ml_m')\n",
    "plt.xlabel('learner')\n",
    "_ = plt.ylabel('RMSE')"
   ]
  },
  {
   "cell_type": "markdown",
   "metadata": {},
   "source": [
    "## 7. Inference\n",
    "\n",
    "We can visualize and summarize our findings so far. We can conclude that the price elasticity of demand, as indicated by the causal parameter $\\theta_0$, is around $-1.8$. In all models, the coefficient is significantly different from zero."
   ]
  },
  {
   "cell_type": "code",
   "execution_count": 25,
   "metadata": {
    "scrolled": true
   },
   "outputs": [
    {
     "data": {
      "text/html": [
       "<div>\n",
       "<style scoped>\n",
       "    .dataframe tbody tr th:only-of-type {\n",
       "        vertical-align: middle;\n",
       "    }\n",
       "\n",
       "    .dataframe tbody tr th {\n",
       "        vertical-align: top;\n",
       "    }\n",
       "\n",
       "    .dataframe thead th {\n",
       "        text-align: right;\n",
       "    }\n",
       "</style>\n",
       "<table border=\"1\" class=\"dataframe\">\n",
       "  <thead>\n",
       "    <tr style=\"text-align: right;\">\n",
       "      <th></th>\n",
       "      <th>coef</th>\n",
       "      <th>2.5 %</th>\n",
       "      <th>97.5 %</th>\n",
       "    </tr>\n",
       "  </thead>\n",
       "  <tbody>\n",
       "    <tr>\n",
       "      <th>linear regression</th>\n",
       "      <td>-6.265544</td>\n",
       "      <td>-8.173914</td>\n",
       "      <td>-4.357174</td>\n",
       "    </tr>\n",
       "    <tr>\n",
       "      <th>lasso</th>\n",
       "      <td>-1.766224</td>\n",
       "      <td>-1.849427</td>\n",
       "      <td>-1.683022</td>\n",
       "    </tr>\n",
       "    <tr>\n",
       "      <th>forest</th>\n",
       "      <td>-1.785837</td>\n",
       "      <td>-1.870313</td>\n",
       "      <td>-1.701361</td>\n",
       "    </tr>\n",
       "  </tbody>\n",
       "</table>\n",
       "</div>"
      ],
      "text/plain": [
       "                       coef     2.5 %    97.5 %\n",
       "linear regression -6.265544 -8.173914 -4.357174\n",
       "lasso             -1.766224 -1.849427 -1.683022\n",
       "forest            -1.785837 -1.870313 -1.701361"
      ]
     },
     "execution_count": 25,
     "metadata": {},
     "output_type": "execute_result"
    }
   ],
   "source": [
    "plr_summary = pd.concat((summary_plr_lin_reg,\n",
    "                         summary_plr_lasso,\n",
    "                         summary_plr_forest))\n",
    "plr_summary.index = ['linear regression', 'lasso', 'forest']\n",
    "plr_summary[['coef', '2.5 %', '97.5 %']]"
   ]
  },
  {
   "cell_type": "code",
   "execution_count": 27,
   "metadata": {},
   "outputs": [
    {
     "data": {
      "image/png": "[encoded data removed]",
      "text/plain": [
       "<Figure size 640x480 with 1 Axes>"
      ]
     },
     "metadata": {},
     "output_type": "display_data"
    }
   ],
   "source": [
    "errors = np.full((2, plr_summary.shape[0]), np.nan)\n",
    "errors[0, :] = plr_summary['coef'] - plr_summary['2.5 %']\n",
    "errors[1, :] = plr_summary['97.5 %'] - plr_summary['coef']\n",
    "plt.errorbar(plr_summary.index, plr_summary.coef, fmt='o', yerr=errors)\n",
    "plt.axhline(y=0, color='gray')\n",
    "plt.ylim([-6.5, 0.1])\n",
    "\n",
    "plt.title('Partially Linear Regression Model (PLR)')\n",
    "plt.xlabel('ML method')\n",
    "_ =  plt.ylabel('Coefficients and 95%-CI')"
   ]
  },
  {
   "cell_type": "markdown",
   "metadata": {},
   "source": [
    "______\n",
    "\n",
    "**Acknowledgement**\n",
    "\n",
    "We would like to thank [Lars Roemheld](https://www.larsroemheld.com/) for setting up the blog post on demand estimation using double machine learning as well as for sharing the code and preprocessed data set. We hope that with this notebook, we illustrate how to run such an analysis using [DoubleML](https://docs.doubleml.org/stable/index.html). Moreover, we would like to thank [Anzony Quispe](https://github.com/anzonyquispe) for excellent assistance in creating this notebook.\n"
   ]
  }
 ],
 "metadata": {
  "hide_input": false,
  "kernelspec": {
   "display_name": "Python 3",
   "language": "python",
   "name": "python3"
  },
  "language_info": {
   "codemirror_mode": {
    "name": "ipython",
    "version": 3
   },
   "file_extension": ".py",
   "mimetype": "text/x-python",
   "name": "python",
   "nbconvert_exporter": "python",
   "pygments_lexer": "ipython3",
   "version": "3.8.12"
  }
 },
 "nbformat": 4,
 "nbformat_minor": 4
}
