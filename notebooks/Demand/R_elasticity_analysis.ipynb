{
 "cells": [
  {
   "cell_type": "raw",
   "id": "03c7fb03",
   "metadata": {},
   "source": [
    "---\n",
    "title: \"R: Estimation of Price Elasticities with Double/Debiased Machine Learning\"\n",
    "output: html_document\n",
    "---"
   ]
  },
  {
   "cell_type": "markdown",
   "id": "e0401026",
   "metadata": {},
   "source": [
    "<img src=\"figures/demand.png\" alt=\"An illustration of demand estimation. On the left hand side two hands are displayed on top of each other. Between the hands there are two arrows showing up and down. On the right hand side, there is a price tag with a dollar sign attached to a circular graph.\" style=\"width: 400px;\"/>\n",
    "\n",
    "In this example, we will demonstrate the use of the [DoubleML](https://docs.doubleml.org/stable/index.html) package in a real-data industry example: Estimation of price elasticity of demand. This notebook is based on a [blogpost by Lars Roemheld (Roemheld, 2021)](https://towardsdatascience.com/causal-inference-example-elasticity-de4a3e2e621b) with code and preprocessed data being available from [GitHub](https://github.com/larsroemheld/causalinf_ex_elasticity). The original data file is made available as a public domain (CC0 1.0 Universal) data set and shared on [kaggle](https://www.kaggle.com/vijayuv/onlineretail). It contains data on sales from an online retailer in the period of December 2010 until December 2011.\n",
    "\n",
    "The data preprocessing is performed in a [separate notebook that is available online](https://github.com/DoubleML/doubleml-docs/blob/master/doc/examples/py_elasticity_preprocessing.ipynb). To keep the computational effort at a moderate level, we will only use a subset of the data that is used in [Roemheld (2021)](https://towardsdatascience.com/causal-inference-example-elasticity-de4a3e2e621b). Our main goal is to illustrate the main steps of elasticity estimation with [DoubleML](https://docs.doubleml.org/stable/index.html).\n",
    "\n",
    "The following case study is organized according to the steps of the [DoubleML workflow](https://docs.doubleml.org/stable/workflow/workflow.html).\n",
    "\n",
    "## 0. Problem Formulation: Estimation of Price Elasticity of Demand\n",
    "\n",
    "\"Supply\" and \"demand\" are probably the very first terms that economics and business students hear in their studies. In industry, the price elasticity of demand is a very important quantity: It indicates how much the demand for a product (= the quantity sold by the firm) changes due to a change in its price. As a retailer, this quantity is of great interest because it makes it possible to increase revenues, and eventually profits, by optimally adjusting prices according to elasticities.\n",
    "\n",
    "The price elasticity of demand is formally defined as the relative change of the demanded quantity ($q$) of a product given a percent-change of the price ($p$)\n",
    "\n",
    "$$\\theta_0 = \\frac{\\partial q/q}{\\partial p/p}.$$\n",
    "\n",
    "In words, the parameter $\\theta_0$ can be interpreted as follows: Provided the price for a product increases by $1\\%$, the demanded quantity changes by $\\theta_0\\%$.\n",
    "\n",
    "In general, it would be possible to estimate $\\theta_0$ based on an experiment or A/B test. However, this is not possible in our case as the data set only contains information on actual purchases in the period of consideration.\n",
    "\n",
    "The causal problem of price estimation based on an observational study is quite complex: It involves many (simultaneous) decisions made by the customers and the sellers. One approach for estimation of the causal parameter $\\theta_0$ would be to account for confounding variables, that might have an effect to both the price and the quantity sold. The approach taken in  [Roemheld (2021)](https://towardsdatascience.com/causal-inference-example-elasticity-de4a3e2e621b) is to flexibly account for and construct confounding variables, for example including similarities in their product description or seasonal patterns, and thereby justifying identification of $\\theta_0$.\n",
    "\n",
    "We can use a [partially linear regression](https://docs.doubleml.org/stable/guide/models.html#partially-linear-regression-model-plr) (PLR) model for estimation of $\\theta_0$\n",
    "\n",
    "$$\\log Q = \\theta_0 \\log P + g_0(X) + \\zeta,$$\n",
    "\n",
    "with $\\mathbb{E}(\\zeta|D,X)=0$. The confounders can enter the regression equation nonlinearily via the function $g_0(X)$. In order to equip $\\theta_0$ (approximately) with the interpretation of a price elasticity, we applied the $\\log()$ to both the demanded quantity ($Q$) and the prices ($P$), i.e., we set up a $\\log$-$\\log$-regression.\n",
    "\n",
    "Before we proceed with the data analysis, it is important to mention a potential drawback to our analysis: The data only contains information on sales, not on stock days. Hence, based on this data set, it is not possible to assess what happened on days without sales (sales = 0). This drawback must be kept in mind when we draw causal conclusions from this analysis.\n",
    "\n",
    "## 1. Data-Backend\n",
    "\n",
    "To give an idea on the general setting we briefly load an exemplary data excerpt from the original data set. We can see that the data lists the transaction of a (online) retailer selling products like inflatable political globes or fancy pens."
   ]
  },
  {
   "cell_type": "code",
   "execution_count": null,
   "id": "fb296906",
   "metadata": {},
   "outputs": [],
   "source": [
    "# load required packages\n",
    "library(data.table)\n",
    "library(mlr3)\n",
    "library(mlr3learners)\n",
    "library(DoubleML)\n",
    "library(ggplot2)\n",
    "\n",
    "# suppress messages during fitting\n",
    "lgr::get_logger(\"mlr3\")$set_threshold(\"warn\")"
   ]
  },
  {
   "cell_type": "code",
   "execution_count": null,
   "id": "8ce1de03",
   "metadata": {},
   "outputs": [],
   "source": [
    "# Load example data set from URL\n",
    "url = 'https://raw.githubusercontent.com/DoubleML/doubleml-docs/main/doc/examples/data/orig_demand_data_example.csv'\n",
    "data_example = fread(url)\n",
    "data_example"
   ]
  },
  {
   "cell_type": "markdown",
   "id": "72ad69bf",
   "metadata": {},
   "source": [
    "In our analysis, we will use a preprocessed data set. Each row corresponds to the sales of a product at a specific date $t$.\n",
    "\n",
    "In the data we have, \n",
    "\n",
    "* `Quantity`: Quantity demanded\n",
    "* `revenue`: Revenue\n",
    "* `UnitPrice`: Price per unit\n",
    "* `month`: Month\n",
    "* `DoM`: Day of month\n",
    "* `DoW`: Day of week\n",
    "* `stock_age_days`: Number of days product has been sold / observed in the data\n",
    "* `sku_avg_p`: Average (=median) price of the product\n",
    "* `Australia`, ...: Country dummies\n",
    "* `1`, `2`, ... : Numerical variables constructed to capture similarities in product descriptions (n-grams)\n",
    "* `dLnP`: Change in Price\n",
    "* `dLnQ`: Change in Quantity\n",
    "\n",
    "Note that we do not include product dummies as the price and quantity variables have been demeaned to account for product characteristics."
   ]
  },
  {
   "cell_type": "code",
   "execution_count": null,
   "id": "63394687",
   "metadata": {},
   "outputs": [],
   "source": [
    "# Load data set from URL\n",
    "url2 = 'https://raw.githubusercontent.com/DoubleML/doubleml-docs/main/doc/examples/data/elasticity_subset.csv'\n",
    "demand_data = fread(url2)\n",
    "\n",
    "demand_data = demand_data[,2:ncol(demand_data)]\n",
    "# Replace column names by names that are conform to R\n",
    "names(demand_data) = make.names(names(demand_data), unique = TRUE)\n",
    "\n",
    "# replace\n",
    "names(demand_data)[1:20]"
   ]
  },
  {
   "cell_type": "code",
   "execution_count": null,
   "id": "8b041dd3",
   "metadata": {},
   "outputs": [],
   "source": [
    "# Print dimensions of data set\n",
    "dim(demand_data)"
   ]
  },
  {
   "cell_type": "code",
   "execution_count": null,
   "id": "5ea90a42",
   "metadata": {},
   "outputs": [],
   "source": [
    "# Glimpse at first rows of data set\n",
    "head(demand_data[,1:10])"
   ]
  },
  {
   "cell_type": "markdown",
   "id": "d4d8c0e0",
   "metadata": {},
   "source": [
    "To initiate the data backend, we create a new [DoubleMLData](https://docs.doubleml.org/stable/api/generated/doubleml.DoubleMLData.html#doubleml.DoubleMLData) object. During instantiation, we assign the roles of the variables, i.e., `dLnQ` as the dependent var, `dLnP` as the treatment variable and the remaining variables as confounders."
   ]
  },
  {
   "cell_type": "code",
   "execution_count": null,
   "id": "18f0ea0b",
   "metadata": {},
   "outputs": [],
   "source": [
    "feature_names = names(demand_data)[names(demand_data) !=\n",
    "                    c(\"Quantity\", \"revenue\", \"UnitPrice\", \"dLnP\", \"dLnQ\")]"
   ]
  },
  {
   "cell_type": "code",
   "execution_count": null,
   "id": "5c709a23",
   "metadata": {},
   "outputs": [],
   "source": [
    "data_dml = DoubleMLData$new(demand_data,\n",
    "                            y_col = \"dLnQ\",\n",
    "                            d_cols = 'dLnP',\n",
    "                            x_cols = feature_names)\n",
    "data_dml"
   ]
  },
  {
   "cell_type": "markdown",
   "id": "6187a2e7",
   "metadata": {},
   "source": [
    "## 2. Causal Model \n",
    "\n",
    "We already stated that a partially linear regression model in a $\\log$-$\\log$-specification will allow us to interpret the regression coefficient $\\theta_0$ as the price elasticity of demand. We restate the main regression as well as the auxiliary regression that is required for orthogonality"
   ]
  },
  {
   "cell_type": "markdown",
   "id": "c96e4ee5",
   "metadata": {},
   "source": [
    "$$\\begin{aligned}\\log Q &= \\theta_0 \\log P + g_0(X) + \\zeta,\\\\\n",
    "\\log P &= m_0(X) + V\\end{aligned},$$\n",
    "\n",
    "with $\\mathbb{E}(\\zeta|D,X)=0$ and $\\mathbb{E}(V|X)=0$. As stated above, we hope to justify the assumption $\\mathbb{E}(\\zeta|D,X)=0$ by sufficiently accounting for the confounding variables $X$.\n",
    "\n",
    "## 3. ML Methods\n",
    "\n",
    "We start with the linear regression model as a benchmark lerner for learning nuisance parameters $g_0(X)$ and $m_0(X)$. We additionally set up two models based on a lasso learner as well as a random forest learner and compare our results."
   ]
  },
  {
   "cell_type": "code",
   "execution_count": null,
   "id": "88354589",
   "metadata": {},
   "outputs": [],
   "source": [
    "ml_l_lin_reg = lrn(\"regr.lm\")\n",
    "ml_m_lin_reg = lrn(\"regr.lm\")"
   ]
  },
  {
   "cell_type": "code",
   "execution_count": null,
   "id": "5a71801a",
   "metadata": {},
   "outputs": [],
   "source": [
    "ml_l_lasso = lrn(\"regr.cv_glmnet\", s = \"lambda.min\")\n",
    "ml_m_lasso = lrn(\"regr.cv_glmnet\", s = \"lambda.min\")"
   ]
  },
  {
   "cell_type": "code",
   "execution_count": null,
   "id": "3f0d9674",
   "metadata": {},
   "outputs": [],
   "source": [
    "ml_l_forest = lrn(\"regr.ranger\", num.trees = 50,\n",
    "                  min.node.size = 3)\n",
    "ml_m_forest = lrn(\"regr.ranger\", num.trees = 50,\n",
    "                  min.node.size = 3)"
   ]
  },
  {
   "cell_type": "markdown",
   "id": "ede863b7",
   "metadata": {},
   "source": [
    "## 4. DML Specifications\n",
    "\n",
    "For each learner configuration, we initialize a new [DoubleMLPLR](https://docs.doubleml.org/stable/api/generated/doubleml.DoubleMLPLR.html) object. We stick to the default options, i.e., `dml_procedure = 'dml2'`, `score = \"partialling out\"`, n_folds = 5. "
   ]
  },
  {
   "cell_type": "code",
   "execution_count": null,
   "id": "afedcd71",
   "metadata": {},
   "outputs": [],
   "source": [
    "set.seed(123)\n",
    "dml_plr_lin_reg = DoubleMLPLR$new(data_dml,\n",
    "                                  ml_l = ml_l_lin_reg,\n",
    "                                  ml_m = ml_m_lin_reg)"
   ]
  },
  {
   "cell_type": "code",
   "execution_count": null,
   "id": "9458f72e",
   "metadata": {},
   "outputs": [],
   "source": [
    "set.seed(123)\n",
    "dml_plr_lasso = DoubleMLPLR$new(data_dml,\n",
    "                                ml_l = ml_l_lasso,\n",
    "                                ml_m = ml_m_lasso)                            "
   ]
  },
  {
   "cell_type": "code",
   "execution_count": null,
   "id": "01297756",
   "metadata": {},
   "outputs": [],
   "source": [
    "set.seed(123)\n",
    "dml_plr_forest = DoubleMLPLR$new(data_dml,\n",
    "                                 ml_l = ml_l_forest,\n",
    "                                 ml_m = ml_m_forest)"
   ]
  },
  {
   "cell_type": "markdown",
   "id": "ab1e8412",
   "metadata": {},
   "source": [
    "## 5. Estimation \n",
    "\n",
    "To estimate our target parameter $\\theta_0$, we call the `fit()` method. The results can be summarized by calling the `summary()` method."
   ]
  },
  {
   "cell_type": "code",
   "execution_count": null,
   "id": "34558abb",
   "metadata": {},
   "outputs": [],
   "source": [
    "dml_plr_lin_reg$fit(store_predictions = TRUE)\n",
    "dml_plr_lin_reg$summary()"
   ]
  },
  {
   "cell_type": "code",
   "execution_count": null,
   "id": "fb34025c",
   "metadata": {},
   "outputs": [],
   "source": [
    "dml_plr_lasso$fit(store_predictions = TRUE)\n",
    "dml_plr_lasso$summary()"
   ]
  },
  {
   "cell_type": "code",
   "execution_count": null,
   "id": "11f23de2",
   "metadata": {},
   "outputs": [],
   "source": [
    "dml_plr_forest$fit(store_predictions = TRUE)\n",
    "dml_plr_forest$summary()"
   ]
  },
  {
   "cell_type": "code",
   "execution_count": null,
   "id": "39626eff",
   "metadata": {},
   "outputs": [],
   "source": [
    "# Define function for RMSE of nuisance components\n",
    "pred_acc_plr = function(obj, nuis) {\n",
    "    # A function to calculate prediction accuracy values for every repetition\n",
    "    # of a Double Machine Learning model using PLR, DoubleMLPLR\n",
    "    \n",
    "    # Parameters\n",
    "    # DoubleML: DoubleML::DoubleMLPLR \n",
    "        # A DoubleML PLR model object\n",
    "    # nuis: character (1l)\n",
    "        # Indicates nuisance component for evaluation of RMSE, either\n",
    "        # 'ml_l' or 'ml_m'\n",
    "    \n",
    "    # Export data, fitted coefficient and predictions of the DoubleML model\n",
    "    y = obj$data$data_model[[obj$data$y_col]]\n",
    "    d = obj$data$data_model[[obj$data$treat_col]]\n",
    "    theta = obj$coef\n",
    "    ml_nuis = obj$predictions[[nuis]]\n",
    "    \n",
    "    # Dimensions of prediction array\n",
    "    h = obj$data$n_obs\n",
    "    \n",
    "    if (nuis == \"ml_l\") {\n",
    "        export_pred = theta*d + ml_nuis\n",
    "    } else if (nuis == \"ml_m\") {\n",
    "        export_pred = ml_nuis\n",
    "    }    \n",
    "    rmse = mlr3measures::rmse(y, ml_nuis)\n",
    "    return(rmse)\n",
    "}"
   ]
  },
  {
   "cell_type": "code",
   "execution_count": null,
   "id": "2e2a2611",
   "metadata": {},
   "outputs": [],
   "source": [
    "rmse_lin_reg_ml_l = pred_acc_plr(dml_plr_lin_reg, 'ml_l')\n",
    "rmse_lin_reg_ml_m = pred_acc_plr(dml_plr_lin_reg, 'ml_m')"
   ]
  },
  {
   "cell_type": "code",
   "execution_count": null,
   "id": "a6435a14",
   "metadata": {},
   "outputs": [],
   "source": [
    "rmse_lasso_ml_l = pred_acc_plr(dml_plr_lasso, 'ml_l')\n",
    "rmse_lasso_ml_m = pred_acc_plr(dml_plr_lasso, 'ml_m')"
   ]
  },
  {
   "cell_type": "code",
   "execution_count": null,
   "id": "f4b13cc9",
   "metadata": {},
   "outputs": [],
   "source": [
    "rmse_forest_ml_l = pred_acc_plr(dml_plr_forest, 'ml_l')\n",
    "rmse_forest_ml_m = pred_acc_plr(dml_plr_forest, 'ml_m')"
   ]
  },
  {
   "cell_type": "code",
   "execution_count": null,
   "id": "9de20718",
   "metadata": {},
   "outputs": [],
   "source": [
    "estimators = c(\"regression\", \"lasso\", \"forest\")\n",
    "estimators = ordered(estimators, levels = estimators)\n",
    "\n",
    "plr_rmse = data.table(\n",
    "    \"ML\" = estimators,\n",
    "    \"RMSE\" = c(rmse_lin_reg_ml_l, rmse_lasso_ml_l,\n",
    "               rmse_forest_ml_l,              \n",
    "               rmse_lin_reg_ml_m, rmse_lasso_ml_m,\n",
    "               rmse_forest_ml_m),\n",
    "    \"nuis\" = c(rep(\"ml_l\", 3), rep(\"ml_m\", 3)))"
   ]
  },
  {
   "cell_type": "code",
   "execution_count": null,
   "id": "91e993df",
   "metadata": {},
   "outputs": [],
   "source": [
    "plr_rmse"
   ]
  },
  {
   "cell_type": "code",
   "execution_count": null,
   "id": "a5ed1525",
   "metadata": {},
   "outputs": [],
   "source": [
    "g_rmse_ml_l = ggplot(plr_rmse[nuis == 'ml_l',], aes(x = ML, y = RMSE,\n",
    "                                               fill = ML)) +\n",
    "        geom_point(size = 5, color = \"darkblue\") +\n",
    "        theme_minimal() + ylab(\"RMSE\") +\n",
    "        ggtitle(\"RMSE, ml_l\") +\n",
    "        xlab(\"learner\") + theme(legend.position = \"none\")\n",
    "g_rmse_ml_l"
   ]
  },
  {
   "cell_type": "code",
   "execution_count": null,
   "id": "4135c53e",
   "metadata": {},
   "outputs": [],
   "source": [
    "g_rmse_ml_m = ggplot(plr_rmse[nuis == 'ml_m',], aes(x = ML, y = RMSE,\n",
    "                                               fill = ML)) +\n",
    "        geom_point(size = 5, color = \"darkblue\") +\n",
    "        theme_minimal() + ylab(\"RMSE\") +\n",
    "        ggtitle(\"RMSE, ml_m\") +\n",
    "        xlab(\"learner\") + theme(legend.position = \"none\")\n",
    "g_rmse_ml_m"
   ]
  },
  {
   "cell_type": "markdown",
   "id": "5edb18c9",
   "metadata": {},
   "source": [
    "## 7. Inference\n",
    "\n",
    "We can visualize and summarize our findings so far. We can conclude that the price elasticity of demand, as indicated by the causal parameter $\\theta_0$, is around $-1.8$. In all models, the coefficient is significantly different from zero."
   ]
  },
  {
   "cell_type": "code",
   "execution_count": null,
   "id": "7ddedb6c",
   "metadata": {},
   "outputs": [],
   "source": [
    "models = list(dml_plr_lin_reg, dml_plr_lasso, dml_plr_forest)"
   ]
  },
  {
   "cell_type": "code",
   "execution_count": null,
   "id": "5079c661",
   "metadata": {},
   "outputs": [],
   "source": [
    "plr_summary_list = lapply(models,\n",
    "                    function(x) {\n",
    "                        ci = x$confint()\n",
    "                        return(list(\"coef\" = x$coef,\n",
    "                                    \"lower\" = ci[1],\n",
    "                                    \"upper\" = ci[2]))\n",
    "                        })"
   ]
  },
  {
   "cell_type": "code",
   "execution_count": null,
   "id": "754ea6e0",
   "metadata": {},
   "outputs": [],
   "source": [
    "plr_summary = data.table::rbindlist(plr_summary_list)\n",
    "plr_summary[, \"ML\" := estimators]"
   ]
  },
  {
   "cell_type": "code",
   "execution_count": null,
   "id": "34937e19",
   "metadata": {},
   "outputs": [],
   "source": [
    "plr_summary"
   ]
  },
  {
   "cell_type": "code",
   "execution_count": null,
   "id": "14afee3e",
   "metadata": {},
   "outputs": [],
   "source": [
    "g_ci = ggplot(plr_summary, aes(x = ML, y = coef)) +\n",
    "    geom_point() +\n",
    "    geom_errorbar(aes(ymin = lower, ymax = upper), color = \"grey\") +\n",
    "    theme_minimal() + ylab(\"Coefficients and 0.95-CI\") +\n",
    "    xlab(\"learner\") +\n",
    "    theme(axis.text.x = element_text(angle = 90), legend.position = \"none\",\n",
    "          text = element_text(size = 20)) + \n",
    "    geom_hline(yintercept = 0, color = \"darkgrey\") +\n",
    "    ylim(-3, 0.1)\n",
    "\n",
    "g_ci"
   ]
  },
  {
   "cell_type": "markdown",
   "id": "34c492a0",
   "metadata": {},
   "source": [
    "______\n",
    "\n",
    "**Acknowledgement**\n",
    "\n",
    "We would like to thank [Lars Roemheld](https://www.larsroemheld.com/) for setting up the blog post on demand estimation using double machine learning as well as for sharing the code and preprocessed data set. We hope that with this notebook, we illustrate how to run such an analysis using [DoubleML](https://docs.doubleml.org/stable/index.html). Moreover, we would like to thank [Anzony Quispe](https://github.com/anzonyquispe) for excellent assistance in creating this notebook.\n"
   ]
  }
 ],
 "metadata": {
  "jupytext": {
   "cell_metadata_filter": "-all",
   "main_language": "R",
   "notebook_metadata_filter": "-all"
  }
 },
 "nbformat": 4,
 "nbformat_minor": 5
}
