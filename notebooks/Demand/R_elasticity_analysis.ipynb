{
 "cells": [
  {
   "cell_type": "markdown",
   "id": "34563dfd",
   "metadata": {},
   "source": [
    "# R: Estimation of Price Elasticities with Double/Debiased Machine Learning"
   ]
  },
  {
   "cell_type": "markdown",
   "id": "920bb099",
   "metadata": {},
   "source": [
    "![](figures/demand.png)"
   ]
  },
  {
   "cell_type": "markdown",
   "id": "acec0abe",
   "metadata": {},
   "source": [
    "In this example, we will demonstrate the use of the [DoubleML](https://docs.doubleml.org/stable/index.html) package in a real-data industry example: Estimation of price elasticity of demand. This notebook is based on a [blogpost by Lars Roemheld (Roemheld, 2021)](https://towardsdatascience.com/causal-inference-example-elasticity-de4a3e2e621b) with code and preprocessed data being available from [GitHub](https://github.com/larsroemheld/causalinf_ex_elasticity). The original data file is made available as a public domain (CC0 1.0 Universal) data set and shared on [kaggle](https://www.kaggle.com/vijayuv/onlineretail). It contains data on sales from an online retailer in the period of December 2010 until December 2011.\n",
    "\n",
    "The data preprocessing is performed in a [separate notebook that is available online](https://github.com/DoubleML/doubleml-docs/blob/master/doc/examples/py_elasticity_preprocessing.ipynb). To keep the computational effort at a moderate level, we will only use a subset of the data that is used in [Roemheld (2021)](https://towardsdatascience.com/causal-inference-example-elasticity-de4a3e2e621b). Our main goal is to illustrate the main steps of elasticity estimation with [DoubleML](https://docs.doubleml.org/stable/index.html).\n",
    "\n",
    "The following case study is organized according to the steps of the [DoubleML workflow](https://docs.doubleml.org/stable/workflow/workflow.html)."
   ]
  },
  {
   "cell_type": "markdown",
   "id": "b32f056f",
   "metadata": {},
   "source": [
    "## 0. Problem Formulation: Estimation of Price Elasticity of Demand"
   ]
  },
  {
   "cell_type": "markdown",
   "id": "137e8540",
   "metadata": {},
   "source": [
    "\"Supply\" and \"demand\" are probably the very first terms that economics and business students hear in their studies. In industry, the price elasticity of demand is a very important quantity: It indicates how much the demand for a product (= the quantity sold by the firm) changes due to a change in its price. As a retailer, this quantity is of great interest because it makes it possible to increase revenues, and eventually profits, by optimally adjusting prices according to elasticities.\n",
    "\n",
    "The price elasticity of demand is formally defined as the relative change of the demanded quantity ($q$) of a product given a percent-change of the price ($p$)\n",
    "\n",
    "$$\\theta_0 = \\frac{\\partial q/q}{\\partial p/p}.$$\n",
    "\n",
    "In words, the parameter $\\theta_0$ can be interpreted as follows: Provided the price for a product increases by $1\\%$, the demanded quantity changes by $\\theta_0\\%$.\n",
    "\n",
    "In general, it would be possible to estimate $\\theta_0$ based on an experiment or A/B test. However, this is not possible in our case as the data set only contains information on actual purchases in the period of consideration.\n",
    "\n",
    "The causal problem of price estimation based on an observational study is quite complex: It involves many (simultaneous) decisions made by the customers and the sellers. One approach for estimation of the causal parameter $\\theta_0$ would be to account for confounding variables, that might have an effect to both the price and the quantity sold. The approach taken in  [Roemheld (2021)](https://towardsdatascience.com/causal-inference-example-elasticity-de4a3e2e621b) is to flexibly account for and construct confounding variables, for example including similarities in their product description or seasonal patterns, and thereby justifying identification of $\\theta_0$.\n",
    "\n",
    "We can use a [partially linear regression](https://docs.doubleml.org/stable/guide/models.html#partially-linear-regression-model-plr) (PLR) model for estimation of $\\theta_0$\n",
    "\n",
    "$$\\log Q = \\theta_0 \\log P + g_0(X) + \\zeta,$$\n",
    "\n",
    "with $\\mathbb{E}(\\zeta|D,X)=0$. The confounders can enter the regression equation nonlinearily via the function $g_0(X)$. In order to equip $\\theta_0$ (approximately) with the interpretation of a price elasticity, we applied the $\\log()$ to both the demanded quantity ($Q$) and the prices ($P$), i.e., we set up a $\\log$-$\\log$-regression.\n",
    "\n",
    "Before we proceed with the data analysis, it is important to mention a potential drawback to our analysis: The data only contains information on sales, not on stock days. Hence, based on this data set, it is not possible to assess what happened on days without sales (sales = 0). This drawback must be kept in mind when we draw causal conclusions from this analysis."
   ]
  },
  {
   "cell_type": "markdown",
   "id": "5db44301",
   "metadata": {},
   "source": [
    "## 1. Data-Backend\n",
    "\n",
    "To give an idea on the general setting we briefly load an exemplary data excerpt from the original data set. We can see that the data lists the transaction of a (online) retailer selling products like inflatable political globes or fancy pens."
   ]
  },
  {
   "cell_type": "code",
   "execution_count": 1,
   "id": "a3f49a04",
   "metadata": {},
   "outputs": [
    {
     "name": "stderr",
     "output_type": "stream",
     "text": [
      "Warning message:\n",
      "\"package 'data.table' was built under R version 4.0.5\"\n",
      "Warning message:\n",
      "\"package 'mlr3' was built under R version 4.0.5\"\n"
     ]
    }
   ],
   "source": [
    "# load required packages\n",
    "library(data.table)\n",
    "library(mlr3)\n",
    "library(mlr3learners)\n",
    "library(DoubleML)\n",
    "library(ggplot2)\n",
    "\n",
    "# suppress messages during fitting\n",
    "lgr::get_logger(\"mlr3\")$set_threshold(\"warn\")"
   ]
  },
  {
   "cell_type": "code",
   "execution_count": 2,
   "id": "33f177e5",
   "metadata": {},
   "outputs": [
    {
     "data": {
      "text/html": [
       "<table class=\"dataframe\">\n",
       "<caption>A data.table: 10 × 8</caption>\n",
       "<thead>\n",
       "\t<tr><th scope=col>V1</th><th scope=col>Date</th><th scope=col>StockCode</th><th scope=col>Country</th><th scope=col>Description</th><th scope=col>Quantity</th><th scope=col>revenue</th><th scope=col>UnitPrice</th></tr>\n",
       "\t<tr><th scope=col>&lt;int&gt;</th><th scope=col>&lt;date&gt;</th><th scope=col>&lt;chr&gt;</th><th scope=col>&lt;chr&gt;</th><th scope=col>&lt;chr&gt;</th><th scope=col>&lt;int&gt;</th><th scope=col>&lt;dbl&gt;</th><th scope=col>&lt;dbl&gt;</th></tr>\n",
       "</thead>\n",
       "<tbody>\n",
       "\t<tr><td>0</td><td>2010-12-01</td><td>10002  </td><td>France        </td><td>INFLATABLE POLITICAL GLOBE  </td><td>48</td><td> 40.80</td><td>0.850</td></tr>\n",
       "\t<tr><td>1</td><td>2010-12-01</td><td>10002  </td><td>United Kingdom</td><td>INFLATABLE POLITICAL GLOBE  </td><td>12</td><td> 10.20</td><td>0.850</td></tr>\n",
       "\t<tr><td>2</td><td>2010-12-01</td><td>10125  </td><td>United Kingdom</td><td>MINI FUNKY DESIGN TAPES     </td><td> 2</td><td>  1.70</td><td>0.850</td></tr>\n",
       "\t<tr><td>3</td><td>2010-12-01</td><td>10133  </td><td>United Kingdom</td><td>COLOURING PENCILS BROWN TUBE</td><td> 5</td><td>  4.25</td><td>0.850</td></tr>\n",
       "\t<tr><td>4</td><td>2010-12-01</td><td>10135  </td><td>United Kingdom</td><td>COLOURING PENCILS BROWN TUBE</td><td> 1</td><td>  2.51</td><td>2.510</td></tr>\n",
       "\t<tr><td>5</td><td>2010-12-01</td><td>11001  </td><td>United Kingdom</td><td>ASSTD DESIGN RACING CAR PEN </td><td> 3</td><td> 10.08</td><td>3.360</td></tr>\n",
       "\t<tr><td>6</td><td>2010-12-01</td><td>15044B </td><td>United Kingdom</td><td>BLUE PAPER PARASOL          </td><td> 1</td><td>  2.95</td><td>2.950</td></tr>\n",
       "\t<tr><td>7</td><td>2010-12-01</td><td>15056BL</td><td>United Kingdom</td><td>EDWARDIAN PARASOL BLACK     </td><td>20</td><td>113.00</td><td>5.650</td></tr>\n",
       "\t<tr><td>8</td><td>2010-12-01</td><td>15056N </td><td>United Kingdom</td><td>EDWARDIAN PARASOL NATURAL   </td><td>50</td><td>236.30</td><td>4.726</td></tr>\n",
       "\t<tr><td>9</td><td>2010-12-01</td><td>15056P </td><td>United Kingdom</td><td>EDWARDIAN PARASOL PINK      </td><td>48</td><td>220.80</td><td>4.600</td></tr>\n",
       "</tbody>\n",
       "</table>\n"
      ],
      "text/latex": [
       "A data.table: 10 × 8\n",
       "\\begin{tabular}{llllllll}\n",
       " V1 & Date & StockCode & Country & Description & Quantity & revenue & UnitPrice\\\\\n",
       " <int> & <date> & <chr> & <chr> & <chr> & <int> & <dbl> & <dbl>\\\\\n",
       "\\hline\n",
       "\t 0 & 2010-12-01 & 10002   & France         & INFLATABLE POLITICAL GLOBE   & 48 &  40.80 & 0.850\\\\\n",
       "\t 1 & 2010-12-01 & 10002   & United Kingdom & INFLATABLE POLITICAL GLOBE   & 12 &  10.20 & 0.850\\\\\n",
       "\t 2 & 2010-12-01 & 10125   & United Kingdom & MINI FUNKY DESIGN TAPES      &  2 &   1.70 & 0.850\\\\\n",
       "\t 3 & 2010-12-01 & 10133   & United Kingdom & COLOURING PENCILS BROWN TUBE &  5 &   4.25 & 0.850\\\\\n",
       "\t 4 & 2010-12-01 & 10135   & United Kingdom & COLOURING PENCILS BROWN TUBE &  1 &   2.51 & 2.510\\\\\n",
       "\t 5 & 2010-12-01 & 11001   & United Kingdom & ASSTD DESIGN RACING CAR PEN  &  3 &  10.08 & 3.360\\\\\n",
       "\t 6 & 2010-12-01 & 15044B  & United Kingdom & BLUE PAPER PARASOL           &  1 &   2.95 & 2.950\\\\\n",
       "\t 7 & 2010-12-01 & 15056BL & United Kingdom & EDWARDIAN PARASOL BLACK      & 20 & 113.00 & 5.650\\\\\n",
       "\t 8 & 2010-12-01 & 15056N  & United Kingdom & EDWARDIAN PARASOL NATURAL    & 50 & 236.30 & 4.726\\\\\n",
       "\t 9 & 2010-12-01 & 15056P  & United Kingdom & EDWARDIAN PARASOL PINK       & 48 & 220.80 & 4.600\\\\\n",
       "\\end{tabular}\n"
      ],
      "text/markdown": [
       "\n",
       "A data.table: 10 × 8\n",
       "\n",
       "| V1 &lt;int&gt; | Date &lt;date&gt; | StockCode &lt;chr&gt; | Country &lt;chr&gt; | Description &lt;chr&gt; | Quantity &lt;int&gt; | revenue &lt;dbl&gt; | UnitPrice &lt;dbl&gt; |\n",
       "|---|---|---|---|---|---|---|---|\n",
       "| 0 | 2010-12-01 | 10002   | France         | INFLATABLE POLITICAL GLOBE   | 48 |  40.80 | 0.850 |\n",
       "| 1 | 2010-12-01 | 10002   | United Kingdom | INFLATABLE POLITICAL GLOBE   | 12 |  10.20 | 0.850 |\n",
       "| 2 | 2010-12-01 | 10125   | United Kingdom | MINI FUNKY DESIGN TAPES      |  2 |   1.70 | 0.850 |\n",
       "| 3 | 2010-12-01 | 10133   | United Kingdom | COLOURING PENCILS BROWN TUBE |  5 |   4.25 | 0.850 |\n",
       "| 4 | 2010-12-01 | 10135   | United Kingdom | COLOURING PENCILS BROWN TUBE |  1 |   2.51 | 2.510 |\n",
       "| 5 | 2010-12-01 | 11001   | United Kingdom | ASSTD DESIGN RACING CAR PEN  |  3 |  10.08 | 3.360 |\n",
       "| 6 | 2010-12-01 | 15044B  | United Kingdom | BLUE PAPER PARASOL           |  1 |   2.95 | 2.950 |\n",
       "| 7 | 2010-12-01 | 15056BL | United Kingdom | EDWARDIAN PARASOL BLACK      | 20 | 113.00 | 5.650 |\n",
       "| 8 | 2010-12-01 | 15056N  | United Kingdom | EDWARDIAN PARASOL NATURAL    | 50 | 236.30 | 4.726 |\n",
       "| 9 | 2010-12-01 | 15056P  | United Kingdom | EDWARDIAN PARASOL PINK       | 48 | 220.80 | 4.600 |\n",
       "\n"
      ],
      "text/plain": [
       "   V1 Date       StockCode Country        Description                  Quantity\n",
       "1  0  2010-12-01 10002     France         INFLATABLE POLITICAL GLOBE   48      \n",
       "2  1  2010-12-01 10002     United Kingdom INFLATABLE POLITICAL GLOBE   12      \n",
       "3  2  2010-12-01 10125     United Kingdom MINI FUNKY DESIGN TAPES       2      \n",
       "4  3  2010-12-01 10133     United Kingdom COLOURING PENCILS BROWN TUBE  5      \n",
       "5  4  2010-12-01 10135     United Kingdom COLOURING PENCILS BROWN TUBE  1      \n",
       "6  5  2010-12-01 11001     United Kingdom ASSTD DESIGN RACING CAR PEN   3      \n",
       "7  6  2010-12-01 15044B    United Kingdom BLUE PAPER PARASOL            1      \n",
       "8  7  2010-12-01 15056BL   United Kingdom EDWARDIAN PARASOL BLACK      20      \n",
       "9  8  2010-12-01 15056N    United Kingdom EDWARDIAN PARASOL NATURAL    50      \n",
       "10 9  2010-12-01 15056P    United Kingdom EDWARDIAN PARASOL PINK       48      \n",
       "   revenue UnitPrice\n",
       "1   40.80  0.850    \n",
       "2   10.20  0.850    \n",
       "3    1.70  0.850    \n",
       "4    4.25  0.850    \n",
       "5    2.51  2.510    \n",
       "6   10.08  3.360    \n",
       "7    2.95  2.950    \n",
       "8  113.00  5.650    \n",
       "9  236.30  4.726    \n",
       "10 220.80  4.600    "
      ]
     },
     "metadata": {},
     "output_type": "display_data"
    }
   ],
   "source": [
    "# Load example data set from URL\n",
    "url = 'https://raw.githubusercontent.com/DoubleML/doubleml-docs/master/doc/examples/data/orig_demand_data_example.csv'\n",
    "data_example = fread(url)\n",
    "data_example"
   ]
  },
  {
   "cell_type": "markdown",
   "id": "61dedcf3",
   "metadata": {},
   "source": [
    "In our analysis, we will use a preprocessed data set. Each row corresponds to the sales of a product at a specific date $t$.\n",
    "\n",
    "In the data we have, \n",
    "\n",
    "* `Quantity`: Quantity demanded\n",
    "* `revenue`: Revenue\n",
    "* `UnitPrice`: Price per unit\n",
    "* `month`: Month\n",
    "* `DoM`: Day of month\n",
    "* `DoW`: Day of week\n",
    "* `stock_age_days`: Number of days product has been sold / observed in the data\n",
    "* `sku_avg_p`: Average (=median) price of the product\n",
    "* `2010-12-01`, ...: Date dummies\n",
    "* `Australia`, ...: Country dummies\n",
    "* `1`, `2`, ... : Numerical variables constructed to capture similarities in product descriptions (n-grams)\n",
    "* `dLnP`: Change in Price\n",
    "* `dLnQ`: Change in Quantity\n",
    "\n",
    "Note that we do not include product dummies as the price and quantity variables have been demeaned to account for product characteristics."
   ]
  },
  {
   "cell_type": "code",
   "execution_count": 3,
   "id": "118def8e",
   "metadata": {},
   "outputs": [
    {
     "data": {
      "text/html": [
       "<style>\n",
       ".list-inline {list-style: none; margin:0; padding: 0}\n",
       ".list-inline>li {display: inline-block}\n",
       ".list-inline>li:not(:last-child)::after {content: \"\\00b7\"; padding: 0 .5ex}\n",
       "</style>\n",
       "<ol class=list-inline><li>'V1'</li><li>'Quantity'</li><li>'revenue'</li><li>'UnitPrice'</li><li>'month'</li><li>'DoM'</li><li>'DoW'</li><li>'stock_age_days'</li><li>'sku_avg_p'</li><li>'X2010.12.01.00.00.00'</li><li>'X2010.12.02.00.00.00'</li><li>'X2010.12.03.00.00.00'</li><li>'X2010.12.05.00.00.00'</li><li>'X2010.12.06.00.00.00'</li><li>'X2010.12.07.00.00.00'</li><li>'X2010.12.08.00.00.00'</li><li>'X2010.12.09.00.00.00'</li><li>'X2010.12.10.00.00.00'</li><li>'X2010.12.12.00.00.00'</li><li>'X2010.12.13.00.00.00'</li></ol>\n"
      ],
      "text/latex": [
       "\\begin{enumerate*}\n",
       "\\item 'V1'\n",
       "\\item 'Quantity'\n",
       "\\item 'revenue'\n",
       "\\item 'UnitPrice'\n",
       "\\item 'month'\n",
       "\\item 'DoM'\n",
       "\\item 'DoW'\n",
       "\\item 'stock\\_age\\_days'\n",
       "\\item 'sku\\_avg\\_p'\n",
       "\\item 'X2010.12.01.00.00.00'\n",
       "\\item 'X2010.12.02.00.00.00'\n",
       "\\item 'X2010.12.03.00.00.00'\n",
       "\\item 'X2010.12.05.00.00.00'\n",
       "\\item 'X2010.12.06.00.00.00'\n",
       "\\item 'X2010.12.07.00.00.00'\n",
       "\\item 'X2010.12.08.00.00.00'\n",
       "\\item 'X2010.12.09.00.00.00'\n",
       "\\item 'X2010.12.10.00.00.00'\n",
       "\\item 'X2010.12.12.00.00.00'\n",
       "\\item 'X2010.12.13.00.00.00'\n",
       "\\end{enumerate*}\n"
      ],
      "text/markdown": [
       "1. 'V1'\n",
       "2. 'Quantity'\n",
       "3. 'revenue'\n",
       "4. 'UnitPrice'\n",
       "5. 'month'\n",
       "6. 'DoM'\n",
       "7. 'DoW'\n",
       "8. 'stock_age_days'\n",
       "9. 'sku_avg_p'\n",
       "10. 'X2010.12.01.00.00.00'\n",
       "11. 'X2010.12.02.00.00.00'\n",
       "12. 'X2010.12.03.00.00.00'\n",
       "13. 'X2010.12.05.00.00.00'\n",
       "14. 'X2010.12.06.00.00.00'\n",
       "15. 'X2010.12.07.00.00.00'\n",
       "16. 'X2010.12.08.00.00.00'\n",
       "17. 'X2010.12.09.00.00.00'\n",
       "18. 'X2010.12.10.00.00.00'\n",
       "19. 'X2010.12.12.00.00.00'\n",
       "20. 'X2010.12.13.00.00.00'\n",
       "\n",
       "\n"
      ],
      "text/plain": [
       " [1] \"V1\"                   \"Quantity\"             \"revenue\"             \n",
       " [4] \"UnitPrice\"            \"month\"                \"DoM\"                 \n",
       " [7] \"DoW\"                  \"stock_age_days\"       \"sku_avg_p\"           \n",
       "[10] \"X2010.12.01.00.00.00\" \"X2010.12.02.00.00.00\" \"X2010.12.03.00.00.00\"\n",
       "[13] \"X2010.12.05.00.00.00\" \"X2010.12.06.00.00.00\" \"X2010.12.07.00.00.00\"\n",
       "[16] \"X2010.12.08.00.00.00\" \"X2010.12.09.00.00.00\" \"X2010.12.10.00.00.00\"\n",
       "[19] \"X2010.12.12.00.00.00\" \"X2010.12.13.00.00.00\""
      ]
     },
     "metadata": {},
     "output_type": "display_data"
    }
   ],
   "source": [
    "# Load data set from URL\n",
    "url2 = 'https://raw.githubusercontent.com/DoubleML/doubleml-docs/master/doc/examples/data/elasticity_subset.csv'\n",
    "demand_data = fread(url2)\n",
    "\n",
    "# Replace column names by names that are conform to R\n",
    "names(demand_data) = make.names(names(demand_data), unique = TRUE)\n",
    "\n",
    "# replace\n",
    "names(demand_data)[1:20]"
   ]
  },
  {
   "cell_type": "code",
   "execution_count": 4,
   "id": "e52bb201",
   "metadata": {},
   "outputs": [
    {
     "data": {
      "text/html": [
       "<style>\n",
       ".list-inline {list-style: none; margin:0; padding: 0}\n",
       ".list-inline>li {display: inline-block}\n",
       ".list-inline>li:not(:last-child)::after {content: \"\\00b7\"; padding: 0 .5ex}\n",
       "</style>\n",
       "<ol class=list-inline><li>10000</li><li>906</li></ol>\n"
      ],
      "text/latex": [
       "\\begin{enumerate*}\n",
       "\\item 10000\n",
       "\\item 906\n",
       "\\end{enumerate*}\n"
      ],
      "text/markdown": [
       "1. 10000\n",
       "2. 906\n",
       "\n",
       "\n"
      ],
      "text/plain": [
       "[1] 10000   906"
      ]
     },
     "metadata": {},
     "output_type": "display_data"
    }
   ],
   "source": [
    "# Print dimensions of data set\n",
    "dim(demand_data)"
   ]
  },
  {
   "cell_type": "code",
   "execution_count": 5,
   "id": "d22acfcd",
   "metadata": {},
   "outputs": [
    {
     "data": {
      "text/html": [
       "<table class=\"dataframe\">\n",
       "<caption>A data.table: 6 × 906</caption>\n",
       "<thead>\n",
       "\t<tr><th scope=col>V1</th><th scope=col>Quantity</th><th scope=col>revenue</th><th scope=col>UnitPrice</th><th scope=col>month</th><th scope=col>DoM</th><th scope=col>DoW</th><th scope=col>stock_age_days</th><th scope=col>sku_avg_p</th><th scope=col>X2010.12.01.00.00.00</th><th scope=col>...</th><th scope=col>X544</th><th scope=col>X545</th><th scope=col>X546</th><th scope=col>X547</th><th scope=col>X548</th><th scope=col>X549</th><th scope=col>X550</th><th scope=col>X551</th><th scope=col>dLnP</th><th scope=col>dLnQ</th></tr>\n",
       "\t<tr><th scope=col>&lt;int&gt;</th><th scope=col>&lt;int&gt;</th><th scope=col>&lt;dbl&gt;</th><th scope=col>&lt;dbl&gt;</th><th scope=col>&lt;int&gt;</th><th scope=col>&lt;int&gt;</th><th scope=col>&lt;int&gt;</th><th scope=col>&lt;int&gt;</th><th scope=col>&lt;dbl&gt;</th><th scope=col>&lt;int&gt;</th><th scope=col>...</th><th scope=col>&lt;int&gt;</th><th scope=col>&lt;int&gt;</th><th scope=col>&lt;int&gt;</th><th scope=col>&lt;int&gt;</th><th scope=col>&lt;int&gt;</th><th scope=col>&lt;int&gt;</th><th scope=col>&lt;int&gt;</th><th scope=col>&lt;int&gt;</th><th scope=col>&lt;dbl&gt;</th><th scope=col>&lt;dbl&gt;</th></tr>\n",
       "</thead>\n",
       "<tbody>\n",
       "\t<tr><td>189628</td><td> 5</td><td> 8.15</td><td>1.630000</td><td> 9</td><td> 6</td><td>1</td><td>278</td><td>0.85</td><td>0</td><td>...</td><td>0</td><td>0</td><td>0</td><td>0</td><td>0</td><td>0</td><td>0</td><td>0</td><td> 0.40861180</td><td>-1.01384000</td></tr>\n",
       "\t<tr><td> 37914</td><td>19</td><td>41.93</td><td>2.206842</td><td> 1</td><td>25</td><td>1</td><td> 55</td><td>2.10</td><td>0</td><td>...</td><td>0</td><td>0</td><td>0</td><td>0</td><td>0</td><td>0</td><td>0</td><td>0</td><td>-0.04881062</td><td>-0.30636793</td></tr>\n",
       "\t<tr><td> 80103</td><td>24</td><td>20.40</td><td>0.850000</td><td> 3</td><td>31</td><td>3</td><td>120</td><td>0.85</td><td>0</td><td>...</td><td>0</td><td>0</td><td>0</td><td>0</td><td>0</td><td>0</td><td>0</td><td>0</td><td>-0.12710826</td><td> 1.37147928</td></tr>\n",
       "\t<tr><td> 75019</td><td>12</td><td>23.40</td><td>1.950000</td><td> 3</td><td>24</td><td>3</td><td>113</td><td>2.08</td><td>0</td><td>...</td><td>0</td><td>0</td><td>0</td><td>0</td><td>0</td><td>0</td><td>0</td><td>0</td><td>-0.22825574</td><td>-1.03448268</td></tr>\n",
       "\t<tr><td> 99878</td><td> 4</td><td>39.80</td><td>9.950000</td><td> 5</td><td> 5</td><td>3</td><td>155</td><td>9.95</td><td>0</td><td>...</td><td>0</td><td>0</td><td>0</td><td>0</td><td>0</td><td>0</td><td>0</td><td>0</td><td>-0.03492181</td><td>-0.05088112</td></tr>\n",
       "\t<tr><td> 20013</td><td> 1</td><td> 1.25</td><td>1.250000</td><td>12</td><td>23</td><td>3</td><td> 22</td><td>1.25</td><td>0</td><td>...</td><td>0</td><td>0</td><td>0</td><td>0</td><td>0</td><td>0</td><td>0</td><td>0</td><td>-0.22889026</td><td>-3.03970526</td></tr>\n",
       "</tbody>\n",
       "</table>\n"
      ],
      "text/latex": [
       "A data.table: 6 × 906\n",
       "\\begin{tabular}{lllllllllllllllllllll}\n",
       " V1 & Quantity & revenue & UnitPrice & month & DoM & DoW & stock\\_age\\_days & sku\\_avg\\_p & X2010.12.01.00.00.00 & ... & X544 & X545 & X546 & X547 & X548 & X549 & X550 & X551 & dLnP & dLnQ\\\\\n",
       " <int> & <int> & <dbl> & <dbl> & <int> & <int> & <int> & <int> & <dbl> & <int> & ... & <int> & <int> & <int> & <int> & <int> & <int> & <int> & <int> & <dbl> & <dbl>\\\\\n",
       "\\hline\n",
       "\t 189628 &  5 &  8.15 & 1.630000 &  9 &  6 & 1 & 278 & 0.85 & 0 & ... & 0 & 0 & 0 & 0 & 0 & 0 & 0 & 0 &  0.40861180 & -1.01384000\\\\\n",
       "\t  37914 & 19 & 41.93 & 2.206842 &  1 & 25 & 1 &  55 & 2.10 & 0 & ... & 0 & 0 & 0 & 0 & 0 & 0 & 0 & 0 & -0.04881062 & -0.30636793\\\\\n",
       "\t  80103 & 24 & 20.40 & 0.850000 &  3 & 31 & 3 & 120 & 0.85 & 0 & ... & 0 & 0 & 0 & 0 & 0 & 0 & 0 & 0 & -0.12710826 &  1.37147928\\\\\n",
       "\t  75019 & 12 & 23.40 & 1.950000 &  3 & 24 & 3 & 113 & 2.08 & 0 & ... & 0 & 0 & 0 & 0 & 0 & 0 & 0 & 0 & -0.22825574 & -1.03448268\\\\\n",
       "\t  99878 &  4 & 39.80 & 9.950000 &  5 &  5 & 3 & 155 & 9.95 & 0 & ... & 0 & 0 & 0 & 0 & 0 & 0 & 0 & 0 & -0.03492181 & -0.05088112\\\\\n",
       "\t  20013 &  1 &  1.25 & 1.250000 & 12 & 23 & 3 &  22 & 1.25 & 0 & ... & 0 & 0 & 0 & 0 & 0 & 0 & 0 & 0 & -0.22889026 & -3.03970526\\\\\n",
       "\\end{tabular}\n"
      ],
      "text/markdown": [
       "\n",
       "A data.table: 6 × 906\n",
       "\n",
       "| V1 &lt;int&gt; | Quantity &lt;int&gt; | revenue &lt;dbl&gt; | UnitPrice &lt;dbl&gt; | month &lt;int&gt; | DoM &lt;int&gt; | DoW &lt;int&gt; | stock_age_days &lt;int&gt; | sku_avg_p &lt;dbl&gt; | X2010.12.01.00.00.00 &lt;int&gt; | ... ... | X544 &lt;int&gt; | X545 &lt;int&gt; | X546 &lt;int&gt; | X547 &lt;int&gt; | X548 &lt;int&gt; | X549 &lt;int&gt; | X550 &lt;int&gt; | X551 &lt;int&gt; | dLnP &lt;dbl&gt; | dLnQ &lt;dbl&gt; |\n",
       "|---|---|---|---|---|---|---|---|---|---|---|---|---|---|---|---|---|---|---|---|---|\n",
       "| 189628 |  5 |  8.15 | 1.630000 |  9 |  6 | 1 | 278 | 0.85 | 0 | ... | 0 | 0 | 0 | 0 | 0 | 0 | 0 | 0 |  0.40861180 | -1.01384000 |\n",
       "|  37914 | 19 | 41.93 | 2.206842 |  1 | 25 | 1 |  55 | 2.10 | 0 | ... | 0 | 0 | 0 | 0 | 0 | 0 | 0 | 0 | -0.04881062 | -0.30636793 |\n",
       "|  80103 | 24 | 20.40 | 0.850000 |  3 | 31 | 3 | 120 | 0.85 | 0 | ... | 0 | 0 | 0 | 0 | 0 | 0 | 0 | 0 | -0.12710826 |  1.37147928 |\n",
       "|  75019 | 12 | 23.40 | 1.950000 |  3 | 24 | 3 | 113 | 2.08 | 0 | ... | 0 | 0 | 0 | 0 | 0 | 0 | 0 | 0 | -0.22825574 | -1.03448268 |\n",
       "|  99878 |  4 | 39.80 | 9.950000 |  5 |  5 | 3 | 155 | 9.95 | 0 | ... | 0 | 0 | 0 | 0 | 0 | 0 | 0 | 0 | -0.03492181 | -0.05088112 |\n",
       "|  20013 |  1 |  1.25 | 1.250000 | 12 | 23 | 3 |  22 | 1.25 | 0 | ... | 0 | 0 | 0 | 0 | 0 | 0 | 0 | 0 | -0.22889026 | -3.03970526 |\n",
       "\n"
      ],
      "text/plain": [
       "  V1     Quantity revenue UnitPrice month DoM DoW stock_age_days sku_avg_p\n",
       "1 189628  5        8.15   1.630000   9     6  1   278            0.85     \n",
       "2  37914 19       41.93   2.206842   1    25  1    55            2.10     \n",
       "3  80103 24       20.40   0.850000   3    31  3   120            0.85     \n",
       "4  75019 12       23.40   1.950000   3    24  3   113            2.08     \n",
       "5  99878  4       39.80   9.950000   5     5  3   155            9.95     \n",
       "6  20013  1        1.25   1.250000  12    23  3    22            1.25     \n",
       "  X2010.12.01.00.00.00 ... X544 X545 X546 X547 X548 X549 X550 X551 dLnP       \n",
       "1 0                    ... 0    0    0    0    0    0    0    0     0.40861180\n",
       "2 0                    ... 0    0    0    0    0    0    0    0    -0.04881062\n",
       "3 0                    ... 0    0    0    0    0    0    0    0    -0.12710826\n",
       "4 0                    ... 0    0    0    0    0    0    0    0    -0.22825574\n",
       "5 0                    ... 0    0    0    0    0    0    0    0    -0.03492181\n",
       "6 0                    ... 0    0    0    0    0    0    0    0    -0.22889026\n",
       "  dLnQ       \n",
       "1 -1.01384000\n",
       "2 -0.30636793\n",
       "3  1.37147928\n",
       "4 -1.03448268\n",
       "5 -0.05088112\n",
       "6 -3.03970526"
      ]
     },
     "metadata": {},
     "output_type": "display_data"
    }
   ],
   "source": [
    "# Glimpse at first rows of data set\n",
    "head(demand_data)"
   ]
  },
  {
   "cell_type": "markdown",
   "id": "d63ba55e",
   "metadata": {},
   "source": [
    "To initiate the data backend, we create a new [DoubleMLData](https://docs.doubleml.org/stable/api/generated/doubleml.DoubleMLData.html#doubleml.DoubleMLData) object. During instantiation, we assign the roles of the variables, i.e., `dLnQ` as the dependent var, `dLnP` as the treatment variable and the remaining variables as confounders."
   ]
  },
  {
   "cell_type": "code",
   "execution_count": 6,
   "id": "f3174a6b",
   "metadata": {},
   "outputs": [],
   "source": [
    "feature_names = names(demand_data)[5:(dim(demand_data)[2]-2)]"
   ]
  },
  {
   "cell_type": "code",
   "execution_count": 7,
   "id": "1420c3cf",
   "metadata": {},
   "outputs": [
    {
     "data": {
      "text/plain": [
       "================= DoubleMLData Object ==================\n",
       "\n",
       "\n",
       "------------------ Data summary      ------------------\n",
       "Outcome variable: dLnQ\n",
       "Treatment variable(s): dLnP\n",
       "Covariates: month, DoM, DoW, stock_age_days, sku_avg_p, X2010.12.01.00.00.00, X2010.12.02.00.00.00, X2010.12.03.00.00.00, X2010.12.05.00.00.00, X2010.12.06.00.00.00, X2010.12.07.00.00.00, X2010.12.08.00.00.00, X2010.12.09.00.00.00, X2010.12.10.00.00.00, X2010.12.12.00.00.00, X2010.12.13.00.00.00, X2010.12.14.00.00.00, X2010.12.15.00.00.00, X2010.12.16.00.00.00, X2010.12.17.00.00.00, X2010.12.19.00.00.00, X2010.12.20.00.00.00, X2010.12.21.00.00.00, X2010.12.22.00.00.00, X2010.12.23.00.00.00, X2011.01.04.00.00.00, X2011.01.05.00.00.00, X2011.01.06.00.00.00, X2011.01.07.00.00.00, X2011.01.09.00.00.00, X2011.01.10.00.00.00, X2011.01.11.00.00.00, X2011.01.12.00.00.00, X2011.01.13.00.00.00, X2011.01.14.00.00.00, X2011.01.16.00.00.00, X2011.01.17.00.00.00, X2011.01.18.00.00.00, X2011.01.19.00.00.00, X2011.01.20.00.00.00, X2011.01.21.00.00.00, X2011.01.23.00.00.00, X2011.01.24.00.00.00, X2011.01.25.00.00.00, X2011.01.26.00.00.00, X2011.01.27.00.00.00, X2011.01.28.00.00.00, X2011.01.30.00.00.00, X2011.01.31.00.00.00, X2011.02.01.00.00.00, X2011.02.02.00.00.00, X2011.02.03.00.00.00, X2011.02.04.00.00.00, X2011.02.06.00.00.00, X2011.02.07.00.00.00, X2011.02.08.00.00.00, X2011.02.09.00.00.00, X2011.02.10.00.00.00, X2011.02.11.00.00.00, X2011.02.13.00.00.00, X2011.02.14.00.00.00, X2011.02.15.00.00.00, X2011.02.16.00.00.00, X2011.02.17.00.00.00, X2011.02.18.00.00.00, X2011.02.20.00.00.00, X2011.02.21.00.00.00, X2011.02.22.00.00.00, X2011.02.23.00.00.00, X2011.02.24.00.00.00, X2011.02.25.00.00.00, X2011.02.27.00.00.00, X2011.02.28.00.00.00, X2011.03.01.00.00.00, X2011.03.02.00.00.00, X2011.03.03.00.00.00, X2011.03.04.00.00.00, X2011.03.06.00.00.00, X2011.03.07.00.00.00, X2011.03.08.00.00.00, X2011.03.09.00.00.00, X2011.03.10.00.00.00, X2011.03.11.00.00.00, X2011.03.13.00.00.00, X2011.03.14.00.00.00, X2011.03.15.00.00.00, X2011.03.16.00.00.00, X2011.03.17.00.00.00, X2011.03.18.00.00.00, X2011.03.20.00.00.00, X2011.03.21.00.00.00, X2011.03.22.00.00.00, X2011.03.23.00.00.00, X2011.03.24.00.00.00, X2011.03.25.00.00.00, X2011.03.27.00.00.00, X2011.03.28.00.00.00, X2011.03.29.00.00.00, X2011.03.30.00.00.00, X2011.03.31.00.00.00, X2011.04.01.00.00.00, X2011.04.03.00.00.00, X2011.04.04.00.00.00, X2011.04.05.00.00.00, X2011.04.06.00.00.00, X2011.04.07.00.00.00, X2011.04.08.00.00.00, X2011.04.10.00.00.00, X2011.04.11.00.00.00, X2011.04.12.00.00.00, X2011.04.13.00.00.00, X2011.04.14.00.00.00, X2011.04.15.00.00.00, X2011.04.17.00.00.00, X2011.04.18.00.00.00, X2011.04.19.00.00.00, X2011.04.20.00.00.00, X2011.04.21.00.00.00, X2011.04.26.00.00.00, X2011.04.27.00.00.00, X2011.04.28.00.00.00, X2011.05.01.00.00.00, X2011.05.03.00.00.00, X2011.05.04.00.00.00, X2011.05.05.00.00.00, X2011.05.06.00.00.00, X2011.05.08.00.00.00, X2011.05.09.00.00.00, X2011.05.10.00.00.00, X2011.05.11.00.00.00, X2011.05.12.00.00.00, X2011.05.13.00.00.00, X2011.05.15.00.00.00, X2011.05.16.00.00.00, X2011.05.17.00.00.00, X2011.05.18.00.00.00, X2011.05.19.00.00.00, X2011.05.20.00.00.00, X2011.05.22.00.00.00, X2011.05.23.00.00.00, X2011.05.24.00.00.00, X2011.05.25.00.00.00, X2011.05.26.00.00.00, X2011.05.27.00.00.00, X2011.05.29.00.00.00, X2011.05.31.00.00.00, X2011.06.01.00.00.00, X2011.06.02.00.00.00, X2011.06.03.00.00.00, X2011.06.05.00.00.00, X2011.06.06.00.00.00, X2011.06.07.00.00.00, X2011.06.08.00.00.00, X2011.06.09.00.00.00, X2011.06.10.00.00.00, X2011.06.12.00.00.00, X2011.06.13.00.00.00, X2011.06.14.00.00.00, X2011.06.15.00.00.00, X2011.06.16.00.00.00, X2011.06.17.00.00.00, X2011.06.19.00.00.00, X2011.06.20.00.00.00, X2011.06.21.00.00.00, X2011.06.22.00.00.00, X2011.06.23.00.00.00, X2011.06.24.00.00.00, X2011.06.26.00.00.00, X2011.06.27.00.00.00, X2011.06.28.00.00.00, X2011.06.29.00.00.00, X2011.06.30.00.00.00, X2011.07.01.00.00.00, X2011.07.03.00.00.00, X2011.07.04.00.00.00, X2011.07.05.00.00.00, X2011.07.06.00.00.00, X2011.07.07.00.00.00, X2011.07.08.00.00.00, X2011.07.10.00.00.00, X2011.07.11.00.00.00, X2011.07.12.00.00.00, X2011.07.13.00.00.00, X2011.07.14.00.00.00, X2011.07.15.00.00.00, X2011.07.17.00.00.00, X2011.07.18.00.00.00, X2011.07.19.00.00.00, X2011.07.20.00.00.00, X2011.07.21.00.00.00, X2011.07.22.00.00.00, X2011.07.24.00.00.00, X2011.07.25.00.00.00, X2011.07.26.00.00.00, X2011.07.27.00.00.00, X2011.07.28.00.00.00, X2011.07.29.00.00.00, X2011.07.31.00.00.00, X2011.08.01.00.00.00, X2011.08.02.00.00.00, X2011.08.03.00.00.00, X2011.08.04.00.00.00, X2011.08.05.00.00.00, X2011.08.07.00.00.00, X2011.08.08.00.00.00, X2011.08.09.00.00.00, X2011.08.10.00.00.00, X2011.08.11.00.00.00, X2011.08.12.00.00.00, X2011.08.14.00.00.00, X2011.08.15.00.00.00, X2011.08.16.00.00.00, X2011.08.17.00.00.00, X2011.08.18.00.00.00, X2011.08.19.00.00.00, X2011.08.21.00.00.00, X2011.08.22.00.00.00, X2011.08.23.00.00.00, X2011.08.24.00.00.00, X2011.08.25.00.00.00, X2011.08.26.00.00.00, X2011.08.28.00.00.00, X2011.08.30.00.00.00, X2011.08.31.00.00.00, X2011.09.01.00.00.00, X2011.09.02.00.00.00, X2011.09.04.00.00.00, X2011.09.05.00.00.00, X2011.09.06.00.00.00, X2011.09.07.00.00.00, X2011.09.08.00.00.00, X2011.09.09.00.00.00, X2011.09.11.00.00.00, X2011.09.12.00.00.00, X2011.09.13.00.00.00, X2011.09.14.00.00.00, X2011.09.15.00.00.00, X2011.09.16.00.00.00, X2011.09.18.00.00.00, X2011.09.19.00.00.00, X2011.09.20.00.00.00, X2011.09.21.00.00.00, X2011.09.22.00.00.00, X2011.09.23.00.00.00, X2011.09.25.00.00.00, X2011.09.26.00.00.00, X2011.09.27.00.00.00, X2011.09.28.00.00.00, X2011.09.29.00.00.00, X2011.09.30.00.00.00, X2011.10.02.00.00.00, X2011.10.03.00.00.00, X2011.10.04.00.00.00, X2011.10.05.00.00.00, X2011.10.06.00.00.00, X2011.10.07.00.00.00, X2011.10.09.00.00.00, X2011.10.10.00.00.00, X2011.10.11.00.00.00, X2011.10.12.00.00.00, X2011.10.13.00.00.00, X2011.10.14.00.00.00, X2011.10.16.00.00.00, X2011.10.17.00.00.00, X2011.10.18.00.00.00, X2011.10.19.00.00.00, X2011.10.20.00.00.00, X2011.10.21.00.00.00, X2011.10.23.00.00.00, X2011.10.24.00.00.00, X2011.10.25.00.00.00, X2011.10.26.00.00.00, X2011.10.27.00.00.00, X2011.10.28.00.00.00, X2011.10.30.00.00.00, X2011.10.31.00.00.00, X2011.11.01.00.00.00, X2011.11.02.00.00.00, X2011.11.03.00.00.00, X2011.11.04.00.00.00, X2011.11.06.00.00.00, X2011.11.07.00.00.00, X2011.11.08.00.00.00, X2011.11.09.00.00.00, X2011.11.10.00.00.00, X2011.11.11.00.00.00, X2011.11.13.00.00.00, X2011.11.14.00.00.00, X2011.11.15.00.00.00, X2011.11.16.00.00.00, X2011.11.17.00.00.00, X2011.11.18.00.00.00, X2011.11.20.00.00.00, X2011.11.21.00.00.00, X2011.11.22.00.00.00, X2011.11.23.00.00.00, X2011.11.24.00.00.00, X2011.11.25.00.00.00, X2011.11.27.00.00.00, X2011.11.28.00.00.00, X2011.11.29.00.00.00, X2011.11.30.00.00.00, X2011.12.01.00.00.00, X2011.12.02.00.00.00, X2011.12.04.00.00.00, X2011.12.05.00.00.00, X2011.12.06.00.00.00, X2011.12.07.00.00.00, X2011.12.08.00.00.00, X2011.12.09.00.00.00, Australia, Austria, Bahrain, Belgium, Brazil, Canada, Channel.Islands, Cyprus, Czech.Republic, Denmark, EIRE, European.Community, Finland, France, Germany, Greece, Hong.Kong, Iceland, Israel, Italy, Japan, Lebanon, Lithuania, Malta, Netherlands, Norway, Poland, Portugal, RSA, Saudi.Arabia, Singapore, Spain, Sweden, Switzerland, USA, United.Arab.Emirates, United.Kingdom, Unspecified, X0, X1, X2, X3, X4, X5, X6, X7, X8, X9, X10, X11, X12, X13, X14, X15, X16, X17, X18, X19, X20, X21, X22, X23, X24, X25, X26, X27, X28, X29, X30, X31, X32, X33, X34, X35, X36, X37, X38, X39, X40, X41, X42, X43, X44, X45, X46, X47, X48, X49, X50, X51, X52, X53, X54, X55, X56, X57, X58, X59, X60, X61, X62, X63, X64, X65, X66, X67, X68, X69, X70, X71, X72, X73, X74, X75, X76, X77, X78, X79, X80, X81, X82, X83, X84, X85, X86, X87, X88, X89, X90, X91, X92, X93, X94, X95, X96, X97, X98, X99, X100, X101, X102, X103, X104, X105, X106, X107, X108, X109, X110, X111, X112, X113, X114, X115, X116, X117, X118, X119, X120, X121, X122, X123, X124, X125, X126, X127, X128, X129, X130, X131, X132, X133, X134, X135, X136, X137, X138, X139, X140, X141, X142, X143, X144, X145, X146, X147, X148, X149, X150, X151, X152, X153, X154, X155, X156, X157, X158, X159, X160, X161, X162, X163, X164, X165, X166, X167, X168, X169, X170, X171, X172, X173, X174, X175, X176, X177, X178, X179, X180, X181, X182, X183, X184, X185, X186, X187, X188, X189, X190, X191, X192, X193, X194, X195, X196, X197, X198, X199, X200, X201, X202, X203, X204, X205, X206, X207, X208, X209, X210, X211, X212, X213, X214, X215, X216, X217, X218, X219, X220, X221, X222, X223, X224, X225, X226, X227, X228, X229, X230, X231, X232, X233, X234, X235, X236, X237, X238, X239, X240, X241, X242, X243, X244, X245, X246, X247, X248, X249, X250, X251, X252, X253, X254, X255, X256, X257, X258, X259, X260, X261, X262, X263, X264, X265, X266, X267, X268, X269, X270, X271, X272, X273, X274, X275, X276, X277, X278, X279, X280, X281, X282, X283, X284, X285, X286, X287, X288, X289, X290, X291, X292, X293, X294, X295, X296, X297, X298, X299, X300, X301, X302, X303, X304, X305, X306, X307, X308, X309, X310, X311, X312, X313, X314, X315, X316, X317, X318, X319, X320, X321, X322, X323, X324, X325, X326, X327, X328, X329, X330, X331, X332, X333, X334, X335, X336, X337, X338, X339, X340, X341, X342, X343, X344, X345, X346, X347, X348, X349, X350, X351, X352, X353, X354, X355, X356, X357, X358, X359, X360, X361, X362, X363, X364, X365, X366, X367, X368, X369, X370, X371, X372, X373, X374, X375, X376, X377, X378, X379, X380, X381, X382, X383, X384, X385, X386, X387, X388, X389, X390, X391, X392, X393, X394, X395, X396, X397, X398, X399, X400, X401, X402, X403, X404, X405, X406, X407, X408, X409, X410, X411, X412, X413, X414, X415, X416, X417, X418, X419, X420, X421, X422, X423, X424, X425, X426, X427, X428, X429, X430, X431, X432, X433, X434, X435, X436, X437, X438, X439, X440, X441, X442, X443, X444, X445, X446, X447, X448, X449, X450, X451, X452, X453, X454, X455, X456, X457, X458, X459, X460, X461, X462, X463, X464, X465, X466, X467, X468, X469, X470, X471, X472, X473, X474, X475, X476, X477, X478, X479, X480, X481, X482, X483, X484, X485, X486, X487, X488, X489, X490, X491, X492, X493, X494, X495, X496, X497, X498, X499, X500, X501, X502, X503, X504, X505, X506, X507, X508, X509, X510, X511, X512, X513, X514, X515, X516, X517, X518, X519, X520, X521, X522, X523, X524, X525, X526, X527, X528, X529, X530, X531, X532, X533, X534, X535, X536, X537, X538, X539, X540, X541, X542, X543, X544, X545, X546, X547, X548, X549, X550, X551\n",
       "Instrument(s): \n",
       "No. Observations: 10000"
      ]
     },
     "metadata": {},
     "output_type": "display_data"
    }
   ],
   "source": [
    "data_dml = DoubleMLData$new(demand_data,\n",
    "                            y_col = \"dLnQ\",\n",
    "                            d_cols = 'dLnP',\n",
    "                            x_cols = feature_names)\n",
    "data_dml"
   ]
  },
  {
   "cell_type": "markdown",
   "id": "ab2b3080",
   "metadata": {},
   "source": [
    "## 2. Causal Model \n",
    "\n",
    "We already stated that a partially linear regression model in a $\\log$-$\\log$-specification will allow us to interpret the regression coefficient $\\theta_0$ as the price elasticity of demand. We restate the main regression as well as the auxiliary regression that is required for orthogonality\n",
    "\n",
    "\n",
    "$$\\begin{aligned}\\log Q &= \\theta_0 \\log P + g_0(X) + \\zeta,\\\\\n",
    "\\log P &= m_0(X) + V\\end{aligned},$$\n",
    "\n",
    "with $\\mathbb{E}(\\zeta|D,X)=0$ and $\\mathbb{E}(V|X)=0$. As stated above, we hope to justify the assumption $\\mathbb{E}(\\zeta|D,X)=0$ by sufficiently accounting for the confounding variables $X$.\n"
   ]
  },
  {
   "cell_type": "markdown",
   "id": "a79a5abc",
   "metadata": {},
   "source": [
    "## 3. ML Methods\n",
    "\n",
    "We start with the linear regression model as a benchmark lerner for learning nuisance parameters $g_0(X)$ and $m_0(X)$. We additionally set up two models based on a lasso learner as well as a random forest learner and compare our results."
   ]
  },
  {
   "cell_type": "code",
   "execution_count": 8,
   "id": "9ea5126d",
   "metadata": {},
   "outputs": [],
   "source": [
    "ml_l_lin_reg = lrn(\"regr.lm\")\n",
    "ml_m_lin_reg = lrn(\"regr.lm\")"
   ]
  },
  {
   "cell_type": "code",
   "execution_count": 9,
   "id": "42a70a39",
   "metadata": {},
   "outputs": [],
   "source": [
    "ml_l_lasso = lrn(\"regr.cv_glmnet\", s = \"lambda.min\")\n",
    "ml_m_lasso = lrn(\"regr.cv_glmnet\", s = \"lambda.min\")"
   ]
  },
  {
   "cell_type": "code",
   "execution_count": 10,
   "id": "fe35be91",
   "metadata": {},
   "outputs": [],
   "source": [
    "ml_l_forest = lrn(\"regr.ranger\", num.trees = 50,\n",
    "                  min.node.size = 3)\n",
    "ml_m_forest = lrn(\"regr.ranger\", num.trees = 50,\n",
    "                  min.node.size = 3)"
   ]
  },
  {
   "cell_type": "markdown",
   "id": "70a0ee0b",
   "metadata": {},
   "source": [
    "## 4. DML Specifications\n",
    "\n",
    "For each learner configuration, we initialize a new [DoubleMLPLR](https://docs.doubleml.org/stable/api/generated/doubleml.DoubleMLPLR.html) object. We stick to the default options, i.e., `dml_procedure = 'dml2'`, `score = \"partialling out\"`, n_folds = 5. "
   ]
  },
  {
   "cell_type": "code",
   "execution_count": 11,
   "id": "cc7d0510",
   "metadata": {},
   "outputs": [],
   "source": [
    "set.seed(123)\n",
    "dml_plr_lin_reg = DoubleMLPLR$new(data_dml,\n",
    "                                  ml_l = ml_l_lin_reg,\n",
    "                                  ml_m = ml_m_lin_reg)"
   ]
  },
  {
   "cell_type": "code",
   "execution_count": 12,
   "id": "6ee23b42",
   "metadata": {},
   "outputs": [],
   "source": [
    "set.seed(123)\n",
    "dml_plr_lasso = DoubleMLPLR$new(data_dml,\n",
    "                                ml_l = ml_l_lasso,\n",
    "                                ml_m = ml_m_lasso)                            "
   ]
  },
  {
   "cell_type": "code",
   "execution_count": 13,
   "id": "46c98ab5",
   "metadata": {},
   "outputs": [],
   "source": [
    "set.seed(123)\n",
    "dml_plr_forest = DoubleMLPLR$new(data_dml,\n",
    "                                 ml_l = ml_l_forest,\n",
    "                                 ml_m = ml_m_forest)"
   ]
  },
  {
   "cell_type": "markdown",
   "id": "889dd5f5",
   "metadata": {},
   "source": [
    "## 5. Estimation "
   ]
  },
  {
   "cell_type": "markdown",
   "id": "84c6ff75",
   "metadata": {},
   "source": [
    "To estimate our target parameter $\\theta_0$, we call the `fit()` method. The results can be summarized by calling the `summary()` method."
   ]
  },
  {
   "cell_type": "code",
   "execution_count": 14,
   "id": "11b1f33e",
   "metadata": {},
   "outputs": [
    {
     "name": "stderr",
     "output_type": "stream",
     "text": [
      "Warning message in predict.lm(object = self$model, newdata = newdata, se.fit = se_fit):\n",
      "\"prediction from a rank-deficient fit may be misleading\"\n",
      "Warning message in predict.lm(object = self$model, newdata = newdata, se.fit = se_fit):\n",
      "\"prediction from a rank-deficient fit may be misleading\"\n",
      "Warning message in predict.lm(object = self$model, newdata = newdata, se.fit = se_fit):\n",
      "\"prediction from a rank-deficient fit may be misleading\"\n",
      "Warning message in predict.lm(object = self$model, newdata = newdata, se.fit = se_fit):\n",
      "\"prediction from a rank-deficient fit may be misleading\"\n",
      "Warning message in predict.lm(object = self$model, newdata = newdata, se.fit = se_fit):\n",
      "\"prediction from a rank-deficient fit may be misleading\"\n",
      "Warning message in predict.lm(object = self$model, newdata = newdata, se.fit = se_fit):\n",
      "\"prediction from a rank-deficient fit may be misleading\"\n",
      "Warning message in predict.lm(object = self$model, newdata = newdata, se.fit = se_fit):\n",
      "\"prediction from a rank-deficient fit may be misleading\"\n",
      "Warning message in predict.lm(object = self$model, newdata = newdata, se.fit = se_fit):\n",
      "\"prediction from a rank-deficient fit may be misleading\"\n",
      "Warning message in predict.lm(object = self$model, newdata = newdata, se.fit = se_fit):\n",
      "\"prediction from a rank-deficient fit may be misleading\"\n",
      "Warning message in predict.lm(object = self$model, newdata = newdata, se.fit = se_fit):\n",
      "\"prediction from a rank-deficient fit may be misleading\"\n"
     ]
    },
    {
     "name": "stdout",
     "output_type": "stream",
     "text": [
      "Estimates and significance testing of the effect of target variables\n",
      "     Estimate. Std. Error t value Pr(>|t|)    \n",
      "dLnP  -1.83549    0.04343  -42.26   <2e-16 ***\n",
      "---\n",
      "Signif. codes:  0 '***' 0.001 '**' 0.01 '*' 0.05 '.' 0.1 ' ' 1\n",
      "\n",
      "\n"
     ]
    }
   ],
   "source": [
    "dml_plr_lin_reg$fit(store_predictions = TRUE)\n",
    "dml_plr_lin_reg$summary()"
   ]
  },
  {
   "cell_type": "code",
   "execution_count": 15,
   "id": "45452e9b",
   "metadata": {},
   "outputs": [
    {
     "name": "stdout",
     "output_type": "stream",
     "text": [
      "Estimates and significance testing of the effect of target variables\n",
      "     Estimate. Std. Error t value Pr(>|t|)    \n",
      "dLnP  -1.81615    0.04381  -41.45   <2e-16 ***\n",
      "---\n",
      "Signif. codes:  0 '***' 0.001 '**' 0.01 '*' 0.05 '.' 0.1 ' ' 1\n",
      "\n",
      "\n"
     ]
    }
   ],
   "source": [
    "dml_plr_lasso$fit(store_predictions = TRUE)\n",
    "dml_plr_lasso$summary()"
   ]
  },
  {
   "cell_type": "code",
   "execution_count": 16,
   "id": "43d516d2",
   "metadata": {},
   "outputs": [
    {
     "name": "stdout",
     "output_type": "stream",
     "text": [
      "Estimates and significance testing of the effect of target variables\n",
      "     Estimate. Std. Error t value Pr(>|t|)    \n",
      "dLnP  -1.80559    0.04359  -41.43   <2e-16 ***\n",
      "---\n",
      "Signif. codes:  0 '***' 0.001 '**' 0.01 '*' 0.05 '.' 0.1 ' ' 1\n",
      "\n",
      "\n"
     ]
    }
   ],
   "source": [
    "dml_plr_forest$fit(store_predictions = TRUE)\n",
    "dml_plr_forest$summary()"
   ]
  },
  {
   "cell_type": "code",
   "execution_count": 17,
   "id": "85bdd5f2",
   "metadata": {},
   "outputs": [],
   "source": [
    "# Define function for RMSE of nuisance components\n",
    "pred_acc_plr = function(obj, nuis) {\n",
    "    # A function to calculate prediction accuracy values for every repetition\n",
    "    # of a Double Machine Learning model using PLR, DoubleMLPLR\n",
    "    \n",
    "    # Parameters\n",
    "    # DoubleML: DoubleML::DoubleMLPLR \n",
    "        # A DoubleML PLR model object\n",
    "    # nuis: character (1l)\n",
    "        # Indicates nuisance component for evaluation of RMSE, either\n",
    "        # 'ml_l' or 'ml_m'\n",
    "    \n",
    "    # Export data, fitted coefficient and predictions of the DoubleML model\n",
    "    y = obj$data$data_model[[obj$data$y_col]]\n",
    "    d = obj$data$data_model[[obj$data$treat_col]]\n",
    "    theta = obj$coef\n",
    "    ml_nuis = obj$predictions[[nuis]]\n",
    "    \n",
    "    # Dimensions of prediction array\n",
    "    h = obj$data$n_obs\n",
    "    \n",
    "    if (nuis == \"ml_l\") {\n",
    "        export_pred = theta*d + ml_nuis\n",
    "    } else if (nuis == \"ml_m\") {\n",
    "        export_pred = ml_nuis\n",
    "    }    \n",
    "    rmse = mlr3measures::rmse(y, ml_nuis)\n",
    "    return(rmse)\n",
    "}"
   ]
  },
  {
   "cell_type": "code",
   "execution_count": 18,
   "id": "cf244f24",
   "metadata": {},
   "outputs": [],
   "source": [
    "rmse_lin_reg_ml_l = pred_acc_plr(dml_plr_lin_reg, 'ml_l')\n",
    "rmse_lin_reg_ml_m = pred_acc_plr(dml_plr_lin_reg, 'ml_m')"
   ]
  },
  {
   "cell_type": "code",
   "execution_count": 19,
   "id": "38022718",
   "metadata": {},
   "outputs": [],
   "source": [
    "rmse_lasso_ml_l = pred_acc_plr(dml_plr_lasso, 'ml_l')\n",
    "rmse_lasso_ml_m = pred_acc_plr(dml_plr_lasso, 'ml_m')"
   ]
  },
  {
   "cell_type": "code",
   "execution_count": 20,
   "id": "c6bb38d5",
   "metadata": {},
   "outputs": [],
   "source": [
    "rmse_forest_ml_l = pred_acc_plr(dml_plr_forest, 'ml_l')\n",
    "rmse_forest_ml_m = pred_acc_plr(dml_plr_forest, 'ml_m')"
   ]
  },
  {
   "cell_type": "code",
   "execution_count": 21,
   "id": "7a078dfa",
   "metadata": {},
   "outputs": [],
   "source": [
    "estimators = c(\"regression\", \"lasso\", \"forest\")\n",
    "estimators = ordered(estimators, levels = estimators)\n",
    "\n",
    "plr_rmse = data.table(\n",
    "    \"ML\" = estimators,\n",
    "    \"RMSE\" = c(rmse_lin_reg_ml_l, rmse_lasso_ml_l,\n",
    "               rmse_forest_ml_l,              \n",
    "               rmse_lin_reg_ml_m, rmse_lasso_ml_m,\n",
    "               rmse_forest_ml_m),\n",
    "    \"nuis\" = c(rep(\"ml_l\", 3), rep(\"ml_m\", 3)))"
   ]
  },
  {
   "cell_type": "code",
   "execution_count": 22,
   "id": "e9cef84e",
   "metadata": {},
   "outputs": [
    {
     "data": {
      "text/html": [
       "<table class=\"dataframe\">\n",
       "<caption>A data.table: 6 × 3</caption>\n",
       "<thead>\n",
       "\t<tr><th scope=col>ML</th><th scope=col>RMSE</th><th scope=col>nuis</th></tr>\n",
       "\t<tr><th scope=col>&lt;ord&gt;</th><th scope=col>&lt;dbl&gt;</th><th scope=col>&lt;chr&gt;</th></tr>\n",
       "</thead>\n",
       "<tbody>\n",
       "\t<tr><td>regression</td><td>1.133228</td><td>ml_l</td></tr>\n",
       "\t<tr><td>lasso     </td><td>1.104634</td><td>ml_l</td></tr>\n",
       "\t<tr><td>forest    </td><td>1.087215</td><td>ml_l</td></tr>\n",
       "\t<tr><td>regression</td><td>1.295019</td><td>ml_m</td></tr>\n",
       "\t<tr><td>lasso     </td><td>1.287731</td><td>ml_m</td></tr>\n",
       "\t<tr><td>forest    </td><td>1.289340</td><td>ml_m</td></tr>\n",
       "</tbody>\n",
       "</table>\n"
      ],
      "text/latex": [
       "A data.table: 6 × 3\n",
       "\\begin{tabular}{lll}\n",
       " ML & RMSE & nuis\\\\\n",
       " <ord> & <dbl> & <chr>\\\\\n",
       "\\hline\n",
       "\t regression & 1.133228 & ml\\_l\\\\\n",
       "\t lasso      & 1.104634 & ml\\_l\\\\\n",
       "\t forest     & 1.087215 & ml\\_l\\\\\n",
       "\t regression & 1.295019 & ml\\_m\\\\\n",
       "\t lasso      & 1.287731 & ml\\_m\\\\\n",
       "\t forest     & 1.289340 & ml\\_m\\\\\n",
       "\\end{tabular}\n"
      ],
      "text/markdown": [
       "\n",
       "A data.table: 6 × 3\n",
       "\n",
       "| ML &lt;ord&gt; | RMSE &lt;dbl&gt; | nuis &lt;chr&gt; |\n",
       "|---|---|---|\n",
       "| regression | 1.133228 | ml_l |\n",
       "| lasso      | 1.104634 | ml_l |\n",
       "| forest     | 1.087215 | ml_l |\n",
       "| regression | 1.295019 | ml_m |\n",
       "| lasso      | 1.287731 | ml_m |\n",
       "| forest     | 1.289340 | ml_m |\n",
       "\n"
      ],
      "text/plain": [
       "  ML         RMSE     nuis\n",
       "1 regression 1.133228 ml_l\n",
       "2 lasso      1.104634 ml_l\n",
       "3 forest     1.087215 ml_l\n",
       "4 regression 1.295019 ml_m\n",
       "5 lasso      1.287731 ml_m\n",
       "6 forest     1.289340 ml_m"
      ]
     },
     "metadata": {},
     "output_type": "display_data"
    }
   ],
   "source": [
    "plr_rmse"
   ]
  },
  {
   "cell_type": "code",
   "execution_count": 23,
   "id": "471a895f",
   "metadata": {},
   "outputs": [
    {
     "data": {
      "image/png": "[encoded data removed]",
      "text/plain": [
       "plot without title"
      ]
     },
     "metadata": {
      "image/png": {
       "height": 420,
       "width": 420
      }
     },
     "output_type": "display_data"
    }
   ],
   "source": [
    "g_rmse_ml_l = ggplot(plr_rmse[nuis == 'ml_l',], aes(x = ML, y = RMSE,\n",
    "                                               fill = ML)) +\n",
    "        geom_point(size = 5, color = \"darkblue\") +\n",
    "        theme_minimal() + ylab(\"RMSE\") +\n",
    "        ggtitle(\"RMSE, ml_l\") +\n",
    "        xlab(\"learner\") + theme(legend.position = \"none\")\n",
    "g_rmse_ml_l"
   ]
  },
  {
   "cell_type": "code",
   "execution_count": 24,
   "id": "54c11d49",
   "metadata": {},
   "outputs": [
    {
     "data": {
      "image/png": "[encoded data removed]",
      "text/plain": [
       "plot without title"
      ]
     },
     "metadata": {
      "image/png": {
       "height": 420,
       "width": 420
      }
     },
     "output_type": "display_data"
    }
   ],
   "source": [
    "g_rmse_ml_m = ggplot(plr_rmse[nuis == 'ml_m',], aes(x = ML, y = RMSE,\n",
    "                                               fill = ML)) +\n",
    "        geom_point(size = 5, color = \"darkblue\") +\n",
    "        theme_minimal() + ylab(\"RMSE\") +\n",
    "        ggtitle(\"RMSE, ml_m\") +\n",
    "        xlab(\"learner\") + theme(legend.position = \"none\")\n",
    "g_rmse_ml_m"
   ]
  },
  {
   "cell_type": "markdown",
   "id": "49c3b8e0",
   "metadata": {},
   "source": [
    "## 7. Inference\n",
    "\n",
    "We can visualize and summarize our findings so far. We can conclude that the price elasticity of demand, as indicated by the causal parameter $\\theta_0$, is around $-1.8$. In all models, the coefficient is significantly different from zero."
   ]
  },
  {
   "cell_type": "code",
   "execution_count": 25,
   "id": "d87d40ad",
   "metadata": {},
   "outputs": [],
   "source": [
    "models = list(dml_plr_lin_reg, dml_plr_lasso, dml_plr_forest)"
   ]
  },
  {
   "cell_type": "code",
   "execution_count": 26,
   "id": "26012629",
   "metadata": {},
   "outputs": [],
   "source": [
    "plr_summary_list = lapply(models,\n",
    "                    function(x) {\n",
    "                        ci = x$confint()\n",
    "                        return(list(\"coef\" = x$coef,\n",
    "                                    \"lower\" = ci[1],\n",
    "                                    \"upper\" = ci[2]))\n",
    "                        })"
   ]
  },
  {
   "cell_type": "code",
   "execution_count": 27,
   "id": "c3dccd19",
   "metadata": {},
   "outputs": [],
   "source": [
    "plr_summary = data.table::rbindlist(plr_summary_list)\n",
    "plr_summary[, \"ML\" := estimators]"
   ]
  },
  {
   "cell_type": "code",
   "execution_count": 28,
   "id": "476cd031",
   "metadata": {},
   "outputs": [
    {
     "data": {
      "text/html": [
       "<table class=\"dataframe\">\n",
       "<caption>A data.table: 3 × 4</caption>\n",
       "<thead>\n",
       "\t<tr><th scope=col>coef</th><th scope=col>lower</th><th scope=col>upper</th><th scope=col>ML</th></tr>\n",
       "\t<tr><th scope=col>&lt;dbl&gt;</th><th scope=col>&lt;dbl&gt;</th><th scope=col>&lt;dbl&gt;</th><th scope=col>&lt;ord&gt;</th></tr>\n",
       "</thead>\n",
       "<tbody>\n",
       "\t<tr><td>-1.835487</td><td>-1.920613</td><td>-1.750361</td><td>regression</td></tr>\n",
       "\t<tr><td>-1.816147</td><td>-1.902015</td><td>-1.730280</td><td>lasso     </td></tr>\n",
       "\t<tr><td>-1.805594</td><td>-1.891020</td><td>-1.720169</td><td>forest    </td></tr>\n",
       "</tbody>\n",
       "</table>\n"
      ],
      "text/latex": [
       "A data.table: 3 × 4\n",
       "\\begin{tabular}{llll}\n",
       " coef & lower & upper & ML\\\\\n",
       " <dbl> & <dbl> & <dbl> & <ord>\\\\\n",
       "\\hline\n",
       "\t -1.835487 & -1.920613 & -1.750361 & regression\\\\\n",
       "\t -1.816147 & -1.902015 & -1.730280 & lasso     \\\\\n",
       "\t -1.805594 & -1.891020 & -1.720169 & forest    \\\\\n",
       "\\end{tabular}\n"
      ],
      "text/markdown": [
       "\n",
       "A data.table: 3 × 4\n",
       "\n",
       "| coef &lt;dbl&gt; | lower &lt;dbl&gt; | upper &lt;dbl&gt; | ML &lt;ord&gt; |\n",
       "|---|---|---|---|\n",
       "| -1.835487 | -1.920613 | -1.750361 | regression |\n",
       "| -1.816147 | -1.902015 | -1.730280 | lasso      |\n",
       "| -1.805594 | -1.891020 | -1.720169 | forest     |\n",
       "\n"
      ],
      "text/plain": [
       "  coef      lower     upper     ML        \n",
       "1 -1.835487 -1.920613 -1.750361 regression\n",
       "2 -1.816147 -1.902015 -1.730280 lasso     \n",
       "3 -1.805594 -1.891020 -1.720169 forest    "
      ]
     },
     "metadata": {},
     "output_type": "display_data"
    }
   ],
   "source": [
    "plr_summary"
   ]
  },
  {
   "cell_type": "code",
   "execution_count": 29,
   "id": "565d92ec",
   "metadata": {},
   "outputs": [
    {
     "data": {
      "image/png": "[encoded data removed]",
      "text/plain": [
       "plot without title"
      ]
     },
     "metadata": {
      "image/png": {
       "height": 420,
       "width": 420
      }
     },
     "output_type": "display_data"
    }
   ],
   "source": [
    "g_ci = ggplot(plr_summary, aes(x = ML, y = coef)) +\n",
    "    geom_point() +\n",
    "    geom_errorbar(aes(ymin = lower, ymax = upper), color = \"grey\") +\n",
    "    theme_minimal() + ylab(\"Coefficients and 0.95-CI\") +\n",
    "    xlab(\"learner\") +\n",
    "    theme(axis.text.x = element_text(angle = 90), legend.position = \"none\",\n",
    "          text = element_text(size = 20)) + \n",
    "    geom_hline(yintercept = 0, color = \"darkgrey\") +\n",
    "    ylim(-3, 0.1)\n",
    "\n",
    "g_ci"
   ]
  },
  {
   "cell_type": "markdown",
   "id": "8929e815",
   "metadata": {},
   "source": [
    "______\n",
    "\n",
    "**Acknowledgement**\n",
    "\n",
    "We would like to thank [Lars Roemheld](https://www.larsroemheld.com/) for setting up the blog post on demand estimation using double machine learning as well as for sharing the code and preprocessed data set. We hope that with this notebook, we illustrate how to run such an analysis using [DoubleML](https://docs.doubleml.org/stable/index.html). Moreover, we would like to thank [Anzony Quispe](https://github.com/anzonyquispe) for excellent assistance in creating this notebook.\n"
   ]
  }
 ],
 "metadata": {
  "kernelspec": {
   "display_name": "R",
   "language": "R",
   "name": "ir"
  },
  "language_info": {
   "codemirror_mode": "r",
   "file_extension": ".r",
   "mimetype": "text/x-r-source",
   "name": "R",
   "pygments_lexer": "r",
   "version": "4.0.3"
  }
 },
 "nbformat": 4,
 "nbformat_minor": 5
}
