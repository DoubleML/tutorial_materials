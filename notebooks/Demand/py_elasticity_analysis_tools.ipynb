{
  "cells": [
    {
      "cell_type": "raw",
      "metadata": {},
      "source": [
        "---\n",
        "title: 'Python: Estimation of Price Elasticities with Double/Debiased Machine Learning'\n",
        "format: html\n",
        "execute:\n",
        "  eval: false\n",
        "  echo: true\n",
        "---"
      ]
    },
    {
      "cell_type": "markdown",
      "metadata": {},
      "source": [
        "![](figures/demand.png)\n",
        "\n",
        "In this example, we will demonstrate the use of the [DoubleML](https://docs.doubleml.org/stable/index.html) package in a real-data industry example: Estimation of price elasticity of demand. This notebook is based on a [blogpost by Lars Roemheld (Roemheld, 2021)](https://towardsdatascience.com/causal-inference-example-elasticity-de4a3e2e621b) with code and preprocessed data being available from [GitHub](https://github.com/larsroemheld/causalinf_ex_elasticity). The original data file is made available as a public domain (CC0 1.0 Universal) data set and shared on [kaggle](https://www.kaggle.com/vijayuv/onlineretail). It contains data on sales from an online retailer in the period of December 2010 until December 2011.\n",
        "\n",
        "The data preprocessing is performed in a [separate notebook that is available online](https://github.com/DoubleML/doubleml-docs/blob/master/doc/examples/py_elasticity_preprocessing.ipynb). To keep the computational effort at a moderate level, we will only use a subset of the data that is used in [Roemheld (2021)](https://towardsdatascience.com/causal-inference-example-elasticity-de4a3e2e621b). Our main goal is to illustrate the main steps of elasticity estimation with [DoubleML](https://docs.doubleml.org/stable/index.html).\n",
        "\n",
        "The following case study is organized according to the steps of the [DoubleML workflow](https://docs.doubleml.org/stable/workflow/workflow.html).\n",
        "\n",
        "## 0. Problem Formulation: Estimation of Price Elasticity of Demand\n",
        "\n",
        "\"Supply\" and \"demand\" are probably the very first terms that economics and business students hear in their studies. In industry, the price elasticity of demand is a very important quantity: It indicates how much the demand for a product (= the quantity sold by the firm) changes due to a change in its price. As a retailer, this quantity is of great interest because it makes it possible to increase revenues, and eventually profits, by optimally adjusting prices according to elasticities.\n",
        "\n",
        "\n",
        "The price elasticity of demand is formally defined as the relative change of the demanded quantity ($q$) of a product given a percent-change of the price ($p$)$$\\theta_0 = \\frac{\\partial q/q}{\\partial p/p}.$$\n",
        "\n",
        "In words, the parameter $\\theta_0$ can be interpreted as follows: Provided the price for a product increases by $1\\%$, the demanded quantity changes by $\\theta_0\\%$.\n",
        "\n",
        "In general, it would be possible to estimate $\\theta_0$ based on an experiment or A/B test. However, this is not possible in our case as the data set only contains information on actual purchases in the period of consideration.\n",
        "\n",
        "The causal problem of price estimation based on an observational study is quite complex: It involves many (simultaneous) decisions made by the customers and the sellers. One approach for estimation of the causal parameter $\\theta_0$ would be to account for confounding variables, that might have an effect to both the price and the quantity sold. The approach taken in  [Roemheld (2021)](https://towardsdatascience.com/causal-inference-example-elasticity-de4a3e2e621b) is to flexibly account for and construct confounding variables, for example including similarities in their product description or seasonal patterns, and thereby justifying identification of $\\theta_0$.\n",
        "\n",
        "\n",
        "We can use a [partially linear regression](https://docs.doubleml.org/stable/guide/models.html#partially-linear-regression-model-plr) (PLR) model for estimation of $\\theta_0$\n",
        "\n",
        "$$\\log Q = \\theta_0 \\log P + g_0(X) + \\zeta,$$\n",
        "\n",
        "with $\\mathbb{E}(\\zeta|D,X)=0$. The confounders can enter the regression equation nonlinearily via the function $g_0(X)$. In order to equip $\\theta_0$ (approximately) with the interpretation of a price elasticity, we applied the $\\log()$ to both the demanded quantity ($Q$) and the prices ($P$), i.e., we set up a $\\log$-$\\log$-regression.\n",
        "\n",
        "Before we proceed with the data analysis, it is important to mention a potential drawback to our analysis: The data only contains information on sales, not on stock days. Hence, based on this data set, it is not possible to assess what happened on days without sales (sales = 0). This drawback must be kept in mind when we draw causal conclusions from this analysis.\n",
        "\n",
        "## 1. Data-Backend\n",
        "\n",
        "To give an idea on the general setting we briefly load an exemplary data excerpt from the original data set. We can see that the data lists the transaction of a (online) retailer selling products like inflatable political globes or fancy pens."
      ]
    },
    {
      "cell_type": "code",
      "metadata": {},
      "source": [
        "# Load required modules\n",
        "from sklearn import linear_model\n",
        "from sklearn.pipeline import Pipeline\n",
        "from sklearn.compose import ColumnTransformer\n",
        "from sklearn.preprocessing import OneHotEncoder, StandardScaler, RobustScaler\n",
        "from sklearn.feature_extraction.text import CountVectorizer\n",
        "import sklearn.preprocessing\n",
        "import pandas as pd, numpy as np\n",
        "from datetime import datetime, date\n",
        "from matplotlib import pyplot as plt\n",
        "import seaborn as sns\n",
        "import doubleml as dml\n",
        "from sklearn.pipeline import make_pipeline\n",
        "from sklearn.linear_model import LinearRegression\n",
        "from sklearn.linear_model import LassoCV\n",
        "from sklearn.ensemble import RandomForestRegressor\n",
        "from xgboost import XGBRegressor\n",
        "import numpy as np"
      ],
      "execution_count": null,
      "outputs": []
    },
    {
      "cell_type": "code",
      "metadata": {},
      "source": [
        "# Load example data set\n",
        "url = 'https://raw.githubusercontent.com/DoubleML/doubleml-docs/main/doc/examples/data/orig_demand_data_example.csv'\n",
        "data_example = pd.read_csv(url)\n",
        "data_example"
      ],
      "execution_count": null,
      "outputs": []
    },
    {
      "cell_type": "markdown",
      "metadata": {},
      "source": [
        "In our analysis, we will use a preprocessed data set. Each row corresponds to the sales of a product at a specific date $t$.\n",
        "\n",
        "In the data we have, \n",
        "\n",
        "* `Quantity`: Quantity demanded\n",
        "* `revenue`: Revenue\n",
        "* `UnitPrice`: Price per unit\n",
        "* `month`: Month\n",
        "* `DoM`: Day of month\n",
        "* `DoW`: Day of week\n",
        "* `stock_age_days`: Number of days product has been sold / observed in the data\n",
        "* `sku_avg_p`: Average (=median) price of the product\n",
        "* `Australia`, ...: Country dummies\n",
        "* `1`, `2`, ... : Numerical variables constructed to capture similarities in product descriptions (n-grams)\n",
        "* `dLnP`: Change in Price\n",
        "* `dLnQ`: Change in Quantity\n",
        "\n",
        "Note that we do not include product dummies as the price and quantity variables have been demeaned to account for product characteristics."
      ]
    },
    {
      "cell_type": "code",
      "metadata": {},
      "source": [
        "url2 = 'https://raw.githubusercontent.com/DoubleML/doubleml-docs/main/doc/examples/data/elasticity_subset.csv'\n",
        "demand_data = pd.read_csv(url2, index_col = 0)\n",
        "print(demand_data.columns)"
      ],
      "execution_count": null,
      "outputs": []
    },
    {
      "cell_type": "code",
      "metadata": {},
      "source": [
        "# Print dimensions of data set\n",
        "print(demand_data.shape)"
      ],
      "execution_count": null,
      "outputs": []
    },
    {
      "cell_type": "code",
      "metadata": {},
      "source": [
        "# Glimpse at first rows of data set\n",
        "demand_data.head()"
      ],
      "execution_count": null,
      "outputs": []
    },
    {
      "cell_type": "markdown",
      "metadata": {},
      "source": [
        "To initiate the data backend, we create a new [DoubleMLData](https://docs.doubleml.org/stable/api/generated/doubleml.DoubleMLData.html#doubleml.DoubleMLData) object. During instantiation, we assign the roles of the variables, i.e., `dLnQ` as the dependent var, `dLnP` as the treatment variable and the remaining variables as confounders."
      ]
    },
    {
      "cell_type": "code",
      "metadata": {},
      "source": [
        "feature_names = demand_data.columns.drop(['Quantity', 'revenue', 'UnitPrice',\n",
        "                                      'dLnQ', 'dLnP']).to_list()"
      ],
      "execution_count": null,
      "outputs": []
    },
    {
      "cell_type": "code",
      "metadata": {},
      "source": [
        "# TODO: Initialize the data backend"
      ],
      "execution_count": null,
      "outputs": []
    },
    {
      "cell_type": "code",
      "metadata": {},
      "source": [
        "# TODO: Print the data backend"
      ],
      "execution_count": null,
      "outputs": []
    },
    {
      "cell_type": "markdown",
      "metadata": {},
      "source": [
        "## 2. Causal Model \n",
        "\n",
        "We already stated that a partially linear regression model in a $\\log$-$\\log$-specification will allow us to interpret the regression coefficient $\\theta_0$ as the price elasticity of demand. We restate the main regression as well as the auxiliary regression that is required for orthogonality\n",
        "\n",
        "\n",
        "$$\\begin{aligned}\\log Q &= \\theta_0 \\log P + g_0(X) + \\zeta,\\\\ \\log P &= m_0(X) + V\\end{aligned},$$\n",
        "\n",
        "with $\\mathbb{E}(\\zeta|D,X)=0$ and $\\mathbb{E}(V|X)=0$. As stated above, we hope to justify the assumption $\\mathbb{E}(\\zeta|D,X)=0$ by sufficiently accounting for the confounding variables $X$.\n",
        "\n",
        "## 3. ML Methods\n",
        "\n",
        "We start with the linear regression model as a benchmark lerner for learning nuisance parameters $g_0(X)$ and $m_0(X)$. We additionally set up two models based on a lasso learner as well as a random forest learner and compare our results.\n"
      ]
    },
    {
      "cell_type": "code",
      "metadata": {},
      "source": [
        "ml_l_lin_reg = LinearRegression()\n",
        "ml_m_lin_reg = LinearRegression()"
      ],
      "execution_count": null,
      "outputs": []
    },
    {
      "cell_type": "code",
      "metadata": {},
      "source": [
        "## TODO: Initialize a lasso learner"
      ],
      "execution_count": null,
      "outputs": []
    },
    {
      "cell_type": "code",
      "metadata": {},
      "source": [
        "## TODO: Initialize a random forest learner"
      ],
      "execution_count": null,
      "outputs": []
    },
    {
      "cell_type": "code",
      "metadata": {},
      "source": [
        "## TODO: Initialize a gradient boosting learner of your choice"
      ],
      "execution_count": null,
      "outputs": []
    },
    {
      "cell_type": "markdown",
      "metadata": {},
      "source": [
        "## 4. DML Specifications\n",
        "\n",
        "For each learner configuration, we initialize a new [DoubleMLPLR](https://docs.doubleml.org/stable/api/generated/doubleml.DoubleMLPLR.html) object. We stick to the default options, i.e., `dml_procedure = 'dml2'`, `score = \"partialling out\"`, n_folds = 5. "
      ]
    },
    {
      "cell_type": "code",
      "metadata": {},
      "source": [
        "np.random.seed(123)\n",
        "dml_plr_lin_reg = dml.DoubleMLPLR(data_dml,\n",
        "                                  ml_l = ml_l_lin_reg,\n",
        "                                  ml_m = ml_m_lin_reg)"
      ],
      "execution_count": null,
      "outputs": []
    },
    {
      "cell_type": "code",
      "metadata": {},
      "source": [
        "# TODO: Initialize the DoubleML models for the other ML methods"
      ],
      "execution_count": null,
      "outputs": []
    },
    {
      "cell_type": "markdown",
      "metadata": {},
      "source": [
        "## 5. Estimation \n",
        "\n",
        "To estimate our target parameter $\\theta_0$, we call the `fit()` method. The results can be summarized by accessing the `summary` field."
      ]
    },
    {
      "cell_type": "code",
      "metadata": {},
      "source": [
        "## TODO: Fit and summarize the results from the different models"
      ],
      "execution_count": null,
      "outputs": []
    },
    {
      "cell_type": "markdown",
      "metadata": {},
      "source": [
        "Let us now compare how well the three models approximate the nuisance functions $g_0(X)$ and $m_0(X)$. We can call the `evaluate_learners()` method. We can also visualize and compare the results in terms of the predictive performance."
      ]
    },
    {
      "cell_type": "code",
      "metadata": {},
      "source": [
        "# TODO: Evaluate the predictive performance of the different learners"
      ],
      "execution_count": null,
      "outputs": []
    },
    {
      "cell_type": "markdown",
      "metadata": {},
      "source": [
        "## 6. Inference\n",
        "\n",
        "We can visualize and summarize our findings so far. We can conclude that the price elasticity of demand, as indicated by the causal parameter $\\theta_0$, is around $-1.8$. In all models, the coefficient is significantly different from zero."
      ]
    },
    {
      "cell_type": "code",
      "metadata": {},
      "source": [
        "## TODO: Summarize the results so far"
      ],
      "execution_count": null,
      "outputs": []
    },
    {
      "cell_type": "code",
      "metadata": {},
      "source": [
        "## TODO: Visualization of results"
      ],
      "execution_count": null,
      "outputs": []
    },
    {
      "cell_type": "markdown",
      "metadata": {},
      "source": [
        "## 8. Sensitivity Analysis\n",
        "\n",
        "Let's run the sensitivity analysis with some benchmark scenarios. We focus on the one of the models now. For this, let's call `sensitivity_analysis()`."
      ]
    },
    {
      "cell_type": "code",
      "metadata": {},
      "source": [
        "## TODO: Run the sensitivity analysis (with default values)"
      ],
      "execution_count": null,
      "outputs": []
    },
    {
      "cell_type": "markdown",
      "metadata": {},
      "source": [
        "Now, let's visualize the results. What can we conclude from the contour plot?"
      ]
    },
    {
      "cell_type": "code",
      "metadata": {},
      "source": [
        "## TODO: Generate the contour plot "
      ],
      "execution_count": null,
      "outputs": []
    },
    {
      "cell_type": "markdown",
      "metadata": {},
      "source": [
        "Now, let's consider a benchmarking scenario. A smiple heuristic could be to use variable importance to gain an impression on important predictors of the outcome and treatment variables. For example, we could use `plot_importance` for `xgboost`."
      ]
    },
    {
      "cell_type": "code",
      "metadata": {},
      "source": [
        "## TODO: Perform some variable importance analysis\n",
        "\n",
        "# Hint: use dml_plr_boost.models['ml_l']['dLnP'][0][0] to access the learners"
      ],
      "execution_count": null,
      "outputs": []
    },
    {
      "cell_type": "markdown",
      "metadata": {},
      "source": [
        "Let us run a benchmark analysis for each of the three most important predictors variables for both `dLnQ` and `dLnP` to calibrate the sensitivity analysis."
      ]
    },
    {
      "cell_type": "code",
      "metadata": {},
      "source": [
        "# TODO: Add the benchmarking variables to the sensitivity analysis"
      ],
      "execution_count": null,
      "outputs": []
    },
    {
      "cell_type": "markdown",
      "metadata": {},
      "source": [
        "Let's summarize the results"
      ]
    },
    {
      "cell_type": "code",
      "metadata": {},
      "source": [
        "## TODO: Summary of benchmarking results"
      ],
      "execution_count": null,
      "outputs": []
    },
    {
      "cell_type": "markdown",
      "metadata": {},
      "source": [
        "Now, let's add the benchmark scenarios to the contour plot."
      ]
    },
    {
      "cell_type": "code",
      "metadata": {},
      "source": [
        "# TODO: Add benchmarking scenarios to the contour plot"
      ],
      "execution_count": null,
      "outputs": []
    },
    {
      "cell_type": "markdown",
      "metadata": {},
      "source": [
        "How would you conclude the results from the sensitivity analysis?\n",
        "\n",
        "______\n",
        "\n",
        "**Acknowledgement**\n",
        "\n",
        "We would like to thank [Lars Roemheld](https://www.larsroemheld.com/) for setting up the blog post on demand estimation using double machine learning as well as for sharing the code and preprocessed data set. We hope that with this notebook, we illustrate how to run such an analysis using [DoubleML](https://docs.doubleml.org/stable/index.html). Moreover, we would like to thank [Anzony Quispe](https://github.com/anzonyquispe) for excellent assistance in creating this notebook.\n"
      ]
    }
  ],
  "metadata": {
    "kernelspec": {
      "name": "python3",
      "language": "python",
      "display_name": "Python 3 (ipykernel)"
    }
  },
  "nbformat": 4,
  "nbformat_minor": 4
}